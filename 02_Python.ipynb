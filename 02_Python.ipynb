{
 "cells": [
  {
   "cell_type": "markdown",
   "metadata": {},
   "source": [
    "# Introduction to Python\n",
    "\n",
    "Key concepts in procedural programming (think COMP 1900)\n",
    "* Block\n",
    "* Conditional statement\n",
    "* Iterative statement\n",
    "* Functional definition and invocation\n",
    "    \n",
    "Key concepts in OOP (think COMP 2150)\n",
    "* Class and objects\n",
    "* Attributes and methods\n",
    "\n",
    "Data structures in Python\n",
    "* Number and string\n",
    "* Linear ordered structures:  list, array, tuple\n",
    "* Unordered structure: set\n",
    "* Map or dictionary\n",
    "* File"
   ]
  },
  {
   "cell_type": "markdown",
   "metadata": {},
   "source": [
    "# Blocks"
   ]
  },
  {
   "cell_type": "markdown",
   "metadata": {},
   "source": [
    "How is this done in Java?"
   ]
  },
  {
   "cell_type": "markdown",
   "metadata": {},
   "source": [
    "In most languages, e.g. Java, a block is something inside { and }.\n",
    "\n",
    "In Python, a block is defined by indentations.  Things in a same block have the same level/number of indentation.\n",
    "\n"
   ]
  },
  {
   "cell_type": "markdown",
   "metadata": {},
   "source": [
    "# Conditional statements"
   ]
  },
  {
   "cell_type": "markdown",
   "metadata": {},
   "source": [
    "Check if a string consists the word \"Python\".\n",
    "\n",
    "Check if a string is a palindrome.\n",
    "\n",
    "Check if a list consists of a number.\n"
   ]
  },
  {
   "cell_type": "code",
   "execution_count": 1,
   "metadata": {},
   "outputs": [],
   "source": [
    "x = 'I like Python.'\n",
    "y = \"I don't like Python.\""
   ]
  },
  {
   "cell_type": "code",
   "execution_count": 2,
   "metadata": {},
   "outputs": [
    {
     "data": {
      "text/plain": [
       "(str, str)"
      ]
     },
     "execution_count": 2,
     "metadata": {},
     "output_type": "execute_result"
    }
   ],
   "source": [
    "type(x), type(y)"
   ]
  },
  {
   "cell_type": "code",
   "execution_count": 6,
   "metadata": {},
   "outputs": [
    {
     "data": {
      "text/plain": [
       "False"
      ]
     },
     "execution_count": 6,
     "metadata": {},
     "output_type": "execute_result"
    }
   ],
   "source": [
    "'Pythog' in y"
   ]
  },
  {
   "cell_type": "code",
   "execution_count": 7,
   "metadata": {},
   "outputs": [
    {
     "name": "stdout",
     "output_type": "stream",
     "text": [
      "Yes\n",
      "x is I like Python.\n"
     ]
    }
   ],
   "source": [
    "if 'Python' in x:\n",
    "    print('Yes')\n",
    "    print('x is', x)"
   ]
  },
  {
   "cell_type": "markdown",
   "metadata": {},
   "source": [
    "# Iterative statements"
   ]
  },
  {
   "cell_type": "markdown",
   "metadata": {},
   "source": [
    "Print out all strings in a list that consist the word \"Python\".\n",
    "\n",
    "Go through each item of a list.\n",
    "\n",
    "Go through each index of a list.\n",
    "\n",
    "Print out all numbers in a list that is even.\n",
    "\n",
    "Go through a list of strings and stop when an item has the word \"Python\"."
   ]
  },
  {
   "cell_type": "code",
   "execution_count": 8,
   "metadata": {},
   "outputs": [
    {
     "name": "stdout",
     "output_type": "stream",
     "text": [
      "1\n",
      "1\n",
      "2\n",
      "4\n",
      "3\n",
      "9\n",
      "4\n",
      "16\n",
      "5\n",
      "25\n"
     ]
    }
   ],
   "source": [
    "nums = [1,2,3,4,5]\n",
    "for x in nums:\n",
    "    print(x)\n",
    "    print(x*x)"
   ]
  },
  {
   "cell_type": "markdown",
   "metadata": {},
   "source": [
    "# Functions"
   ]
  },
  {
   "cell_type": "markdown",
   "metadata": {},
   "source": [
    "Input and output of functions.\n",
    "\n",
    "Define a function that count the frequency of the word \"Python\" in a list of strings."
   ]
  },
  {
   "cell_type": "markdown",
   "metadata": {},
   "source": [
    "Exercise: define a Python function that returns a list of squares from a given list."
   ]
  },
  {
   "cell_type": "code",
   "execution_count": 13,
   "metadata": {},
   "outputs": [],
   "source": [
    "def square_of_items(L):\n",
    "    output = []\n",
    "    for x in L:\n",
    "        output.append(x*x)\n",
    "    return output\n"
   ]
  },
  {
   "cell_type": "code",
   "execution_count": 15,
   "metadata": {},
   "outputs": [
    {
     "name": "stdout",
     "output_type": "stream",
     "text": [
      "[1, 9, 16]\n"
     ]
    }
   ],
   "source": [
    "squares = square_of_items([1,3,4])\n",
    "print(squares)"
   ]
  },
  {
   "cell_type": "markdown",
   "metadata": {},
   "source": [
    "# Objects"
   ]
  },
  {
   "cell_type": "markdown",
   "metadata": {},
   "source": [
    "Capitalize a string.\n",
    "\n",
    "What are useful string methods?\n",
    "\n",
    "What are useful list methods? "
   ]
  },
  {
   "cell_type": "code",
   "execution_count": 16,
   "metadata": {},
   "outputs": [
    {
     "data": {
      "text/plain": [
       "list"
      ]
     },
     "execution_count": 16,
     "metadata": {},
     "output_type": "execute_result"
    }
   ],
   "source": [
    "type(squares)"
   ]
  },
  {
   "cell_type": "markdown",
   "metadata": {},
   "source": [
    "To inspect an object, we can use the \"dir\" function."
   ]
  },
  {
   "cell_type": "code",
   "execution_count": 17,
   "metadata": {},
   "outputs": [
    {
     "data": {
      "text/plain": [
       "['__add__',\n",
       " '__class__',\n",
       " '__contains__',\n",
       " '__delattr__',\n",
       " '__delitem__',\n",
       " '__dir__',\n",
       " '__doc__',\n",
       " '__eq__',\n",
       " '__format__',\n",
       " '__ge__',\n",
       " '__getattribute__',\n",
       " '__getitem__',\n",
       " '__gt__',\n",
       " '__hash__',\n",
       " '__iadd__',\n",
       " '__imul__',\n",
       " '__init__',\n",
       " '__init_subclass__',\n",
       " '__iter__',\n",
       " '__le__',\n",
       " '__len__',\n",
       " '__lt__',\n",
       " '__mul__',\n",
       " '__ne__',\n",
       " '__new__',\n",
       " '__reduce__',\n",
       " '__reduce_ex__',\n",
       " '__repr__',\n",
       " '__reversed__',\n",
       " '__rmul__',\n",
       " '__setattr__',\n",
       " '__setitem__',\n",
       " '__sizeof__',\n",
       " '__str__',\n",
       " '__subclasshook__',\n",
       " 'append',\n",
       " 'clear',\n",
       " 'copy',\n",
       " 'count',\n",
       " 'extend',\n",
       " 'index',\n",
       " 'insert',\n",
       " 'pop',\n",
       " 'remove',\n",
       " 'reverse',\n",
       " 'sort']"
      ]
     },
     "execution_count": 17,
     "metadata": {},
     "output_type": "execute_result"
    }
   ],
   "source": [
    "dir(squares)"
   ]
  },
  {
   "cell_type": "code",
   "execution_count": 18,
   "metadata": {},
   "outputs": [
    {
     "data": {
      "text/plain": [
       "[1, 9, 16]"
      ]
     },
     "execution_count": 18,
     "metadata": {},
     "output_type": "execute_result"
    }
   ],
   "source": [
    "squares"
   ]
  },
  {
   "cell_type": "code",
   "execution_count": 19,
   "metadata": {},
   "outputs": [],
   "source": [
    "squares.reverse()"
   ]
  },
  {
   "cell_type": "code",
   "execution_count": 20,
   "metadata": {},
   "outputs": [
    {
     "data": {
      "text/plain": [
       "[16, 9, 1]"
      ]
     },
     "execution_count": 20,
     "metadata": {},
     "output_type": "execute_result"
    }
   ],
   "source": [
    "squares"
   ]
  },
  {
   "cell_type": "markdown",
   "metadata": {},
   "source": [
    "# Class"
   ]
  },
  {
   "cell_type": "markdown",
   "metadata": {},
   "source": [
    "Create a class IrisData with attributes:\n",
    "* species\n",
    "* number of data points\n",
    "* list of data points\n"
   ]
  },
  {
   "cell_type": "markdown",
   "metadata": {},
   "source": [
    "Understand \"self\" and how methods are invoked."
   ]
  },
  {
   "cell_type": "markdown",
   "metadata": {},
   "source": [
    "#### The Iris Dataset (iris.csv)\n",
    "\n",
    "The iris flower has 3 species.\n",
    "\n",
    "<img src=\"https://miro.medium.com/max/700/0*Uw37vrrKzeEWahdB\">"
   ]
  },
  {
   "cell_type": "markdown",
   "metadata": {},
   "source": [
    "# More on lists"
   ]
  },
  {
   "cell_type": "markdown",
   "metadata": {},
   "source": [
    "Concatenate lists.\n",
    "\n",
    "Sort lists.\n",
    "\n",
    "List comprehension."
   ]
  },
  {
   "cell_type": "code",
   "execution_count": 21,
   "metadata": {},
   "outputs": [],
   "source": [
    "iris_data = open('../../Datasets/iris.csv').readlines()"
   ]
  },
  {
   "cell_type": "code",
   "execution_count": 24,
   "metadata": {},
   "outputs": [
    {
     "name": "stdout",
     "output_type": "stream",
     "text": [
      "SepalLength,SepalWidth,PetalLength,PetalWidth,Species\n",
      "\n",
      "5.1,3.5,1.4,0.2,setosa\n",
      "\n"
     ]
    }
   ],
   "source": [
    "print(iris_data[0])\n",
    "print(iris_data[1])\n"
   ]
  },
  {
   "cell_type": "markdown",
   "metadata": {},
   "source": [
    "Let's clean up this data.  (Note: it's already cleaned.  We'll just touch up a little.)"
   ]
  },
  {
   "cell_type": "code",
   "execution_count": 61,
   "metadata": {},
   "outputs": [],
   "source": [
    "def remove_newlines(lines):\n",
    "    output = []\n",
    "    header = lines.pop(0).strip()\n",
    "    for line in lines:\n",
    "        output.append(line.strip().split(','))\n",
    "    return header, output"
   ]
  },
  {
   "cell_type": "code",
   "execution_count": 62,
   "metadata": {},
   "outputs": [],
   "source": [
    "iris_data = open('../../Datasets/iris.csv').readlines()\n",
    "header, iris_data = remove_newlines(iris_data)"
   ]
  },
  {
   "cell_type": "code",
   "execution_count": 63,
   "metadata": {},
   "outputs": [
    {
     "data": {
      "text/plain": [
       "'SepalLength,SepalWidth,PetalLength,PetalWidth,Species'"
      ]
     },
     "execution_count": 63,
     "metadata": {},
     "output_type": "execute_result"
    }
   ],
   "source": [
    "header"
   ]
  },
  {
   "cell_type": "code",
   "execution_count": 64,
   "metadata": {},
   "outputs": [
    {
     "data": {
      "text/plain": [
       "[['5.1', '3.5', '1.4', '0.2', 'setosa'],\n",
       " ['4.9', '3', '1.4', '0.2', 'setosa'],\n",
       " ['4.7', '3.2', '1.3', '0.2', 'setosa'],\n",
       " ['4.6', '3.1', '1.5', '0.2', 'setosa'],\n",
       " ['5', '3.6', '1.4', '0.2', 'setosa'],\n",
       " ['5.4', '3.9', '1.7', '0.4', 'setosa'],\n",
       " ['4.6', '3.4', '1.4', '0.3', 'setosa'],\n",
       " ['5', '3.4', '1.5', '0.2', 'setosa'],\n",
       " ['4.4', '2.9', '1.4', '0.2', 'setosa'],\n",
       " ['4.9', '3.1', '1.5', '0.1', 'setosa'],\n",
       " ['5.4', '3.7', '1.5', '0.2', 'setosa'],\n",
       " ['4.8', '3.4', '1.6', '0.2', 'setosa'],\n",
       " ['4.8', '3', '1.4', '0.1', 'setosa'],\n",
       " ['4.3', '3', '1.1', '0.1', 'setosa'],\n",
       " ['5.8', '4', '1.2', '0.2', 'setosa'],\n",
       " ['5.7', '4.4', '1.5', '0.4', 'setosa'],\n",
       " ['5.4', '3.9', '1.3', '0.4', 'setosa'],\n",
       " ['5.1', '3.5', '1.4', '0.3', 'setosa'],\n",
       " ['5.7', '3.8', '1.7', '0.3', 'setosa'],\n",
       " ['5.1', '3.8', '1.5', '0.3', 'setosa'],\n",
       " ['5.4', '3.4', '1.7', '0.2', 'setosa'],\n",
       " ['5.1', '3.7', '1.5', '0.4', 'setosa'],\n",
       " ['4.6', '3.6', '1', '0.2', 'setosa'],\n",
       " ['5.1', '3.3', '1.7', '0.5', 'setosa'],\n",
       " ['4.8', '3.4', '1.9', '0.2', 'setosa'],\n",
       " ['5', '3', '1.6', '0.2', 'setosa'],\n",
       " ['5', '3.4', '1.6', '0.4', 'setosa'],\n",
       " ['5.2', '3.5', '1.5', '0.2', 'setosa'],\n",
       " ['5.2', '3.4', '1.4', '0.2', 'setosa'],\n",
       " ['4.7', '3.2', '1.6', '0.2', 'setosa'],\n",
       " ['4.8', '3.1', '1.6', '0.2', 'setosa'],\n",
       " ['5.4', '3.4', '1.5', '0.4', 'setosa'],\n",
       " ['5.2', '4.1', '1.5', '0.1', 'setosa'],\n",
       " ['5.5', '4.2', '1.4', '0.2', 'setosa'],\n",
       " ['4.9', '3.1', '1.5', '0.2', 'setosa'],\n",
       " ['5', '3.2', '1.2', '0.2', 'setosa'],\n",
       " ['5.5', '3.5', '1.3', '0.2', 'setosa'],\n",
       " ['4.9', '3.6', '1.4', '0.1', 'setosa'],\n",
       " ['4.4', '3', '1.3', '0.2', 'setosa'],\n",
       " ['5.1', '3.4', '1.5', '0.2', 'setosa'],\n",
       " ['5', '3.5', '1.3', '0.3', 'setosa'],\n",
       " ['4.5', '2.3', '1.3', '0.3', 'setosa'],\n",
       " ['4.4', '3.2', '1.3', '0.2', 'setosa'],\n",
       " ['5', '3.5', '1.6', '0.6', 'setosa'],\n",
       " ['5.1', '3.8', '1.9', '0.4', 'setosa'],\n",
       " ['4.8', '3', '1.4', '0.3', 'setosa'],\n",
       " ['5.1', '3.8', '1.6', '0.2', 'setosa'],\n",
       " ['4.6', '3.2', '1.4', '0.2', 'setosa'],\n",
       " ['5.3', '3.7', '1.5', '0.2', 'setosa'],\n",
       " ['5', '3.3', '1.4', '0.2', 'setosa'],\n",
       " ['7', '3.2', '4.7', '1.4', 'versicolor'],\n",
       " ['6.4', '3.2', '4.5', '1.5', 'versicolor'],\n",
       " ['6.9', '3.1', '4.9', '1.5', 'versicolor'],\n",
       " ['5.5', '2.3', '4', '1.3', 'versicolor'],\n",
       " ['6.5', '2.8', '4.6', '1.5', 'versicolor'],\n",
       " ['5.7', '2.8', '4.5', '1.3', 'versicolor'],\n",
       " ['6.3', '3.3', '4.7', '1.6', 'versicolor'],\n",
       " ['4.9', '2.4', '3.3', '1', 'versicolor'],\n",
       " ['6.6', '2.9', '4.6', '1.3', 'versicolor'],\n",
       " ['5.2', '2.7', '3.9', '1.4', 'versicolor'],\n",
       " ['5', '2', '3.5', '1', 'versicolor'],\n",
       " ['5.9', '3', '4.2', '1.5', 'versicolor'],\n",
       " ['6', '2.2', '4', '1', 'versicolor'],\n",
       " ['6.1', '2.9', '4.7', '1.4', 'versicolor'],\n",
       " ['5.6', '2.9', '3.6', '1.3', 'versicolor'],\n",
       " ['6.7', '3.1', '4.4', '1.4', 'versicolor'],\n",
       " ['5.6', '3', '4.5', '1.5', 'versicolor'],\n",
       " ['5.8', '2.7', '4.1', '1', 'versicolor'],\n",
       " ['6.2', '2.2', '4.5', '1.5', 'versicolor'],\n",
       " ['5.6', '2.5', '3.9', '1.1', 'versicolor'],\n",
       " ['5.9', '3.2', '4.8', '1.8', 'versicolor'],\n",
       " ['6.1', '2.8', '4', '1.3', 'versicolor'],\n",
       " ['6.3', '2.5', '4.9', '1.5', 'versicolor'],\n",
       " ['6.1', '2.8', '4.7', '1.2', 'versicolor'],\n",
       " ['6.4', '2.9', '4.3', '1.3', 'versicolor'],\n",
       " ['6.6', '3', '4.4', '1.4', 'versicolor'],\n",
       " ['6.8', '2.8', '4.8', '1.4', 'versicolor'],\n",
       " ['6.7', '3', '5', '1.7', 'versicolor'],\n",
       " ['6', '2.9', '4.5', '1.5', 'versicolor'],\n",
       " ['5.7', '2.6', '3.5', '1', 'versicolor'],\n",
       " ['5.5', '2.4', '3.8', '1.1', 'versicolor'],\n",
       " ['5.5', '2.4', '3.7', '1', 'versicolor'],\n",
       " ['5.8', '2.7', '3.9', '1.2', 'versicolor'],\n",
       " ['6', '2.7', '5.1', '1.6', 'versicolor'],\n",
       " ['5.4', '3', '4.5', '1.5', 'versicolor'],\n",
       " ['6', '3.4', '4.5', '1.6', 'versicolor'],\n",
       " ['6.7', '3.1', '4.7', '1.5', 'versicolor'],\n",
       " ['6.3', '2.3', '4.4', '1.3', 'versicolor'],\n",
       " ['5.6', '3', '4.1', '1.3', 'versicolor'],\n",
       " ['5.5', '2.5', '4', '1.3', 'versicolor'],\n",
       " ['5.5', '2.6', '4.4', '1.2', 'versicolor'],\n",
       " ['6.1', '3', '4.6', '1.4', 'versicolor'],\n",
       " ['5.8', '2.6', '4', '1.2', 'versicolor'],\n",
       " ['5', '2.3', '3.3', '1', 'versicolor'],\n",
       " ['5.6', '2.7', '4.2', '1.3', 'versicolor'],\n",
       " ['5.7', '3', '4.2', '1.2', 'versicolor'],\n",
       " ['5.7', '2.9', '4.2', '1.3', 'versicolor'],\n",
       " ['6.2', '2.9', '4.3', '1.3', 'versicolor'],\n",
       " ['5.1', '2.5', '3', '1.1', 'versicolor'],\n",
       " ['5.7', '2.8', '4.1', '1.3', 'versicolor'],\n",
       " ['6.3', '3.3', '6', '2.5', 'virginica'],\n",
       " ['5.8', '2.7', '5.1', '1.9', 'virginica'],\n",
       " ['7.1', '3', '5.9', '2.1', 'virginica'],\n",
       " ['6.3', '2.9', '5.6', '1.8', 'virginica'],\n",
       " ['6.5', '3', '5.8', '2.2', 'virginica'],\n",
       " ['7.6', '3', '6.6', '2.1', 'virginica'],\n",
       " ['4.9', '2.5', '4.5', '1.7', 'virginica'],\n",
       " ['7.3', '2.9', '6.3', '1.8', 'virginica'],\n",
       " ['6.7', '2.5', '5.8', '1.8', 'virginica'],\n",
       " ['7.2', '3.6', '6.1', '2.5', 'virginica'],\n",
       " ['6.5', '3.2', '5.1', '2', 'virginica'],\n",
       " ['6.4', '2.7', '5.3', '1.9', 'virginica'],\n",
       " ['6.8', '3', '5.5', '2.1', 'virginica'],\n",
       " ['5.7', '2.5', '5', '2', 'virginica'],\n",
       " ['5.8', '2.8', '5.1', '2.4', 'virginica'],\n",
       " ['6.4', '3.2', '5.3', '2.3', 'virginica'],\n",
       " ['6.5', '3', '5.5', '1.8', 'virginica'],\n",
       " ['7.7', '3.8', '6.7', '2.2', 'virginica'],\n",
       " ['7.7', '2.6', '6.9', '2.3', 'virginica'],\n",
       " ['6', '2.2', '5', '1.5', 'virginica'],\n",
       " ['6.9', '3.2', '5.7', '2.3', 'virginica'],\n",
       " ['5.6', '2.8', '4.9', '2', 'virginica'],\n",
       " ['7.7', '2.8', '6.7', '2', 'virginica'],\n",
       " ['6.3', '2.7', '4.9', '1.8', 'virginica'],\n",
       " ['6.7', '3.3', '5.7', '2.1', 'virginica'],\n",
       " ['7.2', '3.2', '6', '1.8', 'virginica'],\n",
       " ['6.2', '2.8', '4.8', '1.8', 'virginica'],\n",
       " ['6.1', '3', '4.9', '1.8', 'virginica'],\n",
       " ['6.4', '2.8', '5.6', '2.1', 'virginica'],\n",
       " ['7.2', '3', '5.8', '1.6', 'virginica'],\n",
       " ['7.4', '2.8', '6.1', '1.9', 'virginica'],\n",
       " ['7.9', '3.8', '6.4', '2', 'virginica'],\n",
       " ['6.4', '2.8', '5.6', '2.2', 'virginica'],\n",
       " ['6.3', '2.8', '5.1', '1.5', 'virginica'],\n",
       " ['6.1', '2.6', '5.6', '1.4', 'virginica'],\n",
       " ['7.7', '3', '6.1', '2.3', 'virginica'],\n",
       " ['6.3', '3.4', '5.6', '2.4', 'virginica'],\n",
       " ['6.4', '3.1', '5.5', '1.8', 'virginica'],\n",
       " ['6', '3', '4.8', '1.8', 'virginica'],\n",
       " ['6.9', '3.1', '5.4', '2.1', 'virginica'],\n",
       " ['6.7', '3.1', '5.6', '2.4', 'virginica'],\n",
       " ['6.9', '3.1', '5.1', '2.3', 'virginica'],\n",
       " ['5.8', '2.7', '5.1', '1.9', 'virginica'],\n",
       " ['6.8', '3.2', '5.9', '2.3', 'virginica'],\n",
       " ['6.7', '3.3', '5.7', '2.5', 'virginica'],\n",
       " ['6.7', '3', '5.2', '2.3', 'virginica'],\n",
       " ['6.3', '2.5', '5', '1.9', 'virginica'],\n",
       " ['6.5', '3', '5.2', '2', 'virginica'],\n",
       " ['6.2', '3.4', '5.4', '2.3', 'virginica'],\n",
       " ['5.9', '3', '5.1', '1.8', 'virginica']]"
      ]
     },
     "execution_count": 64,
     "metadata": {},
     "output_type": "execute_result"
    }
   ],
   "source": [
    "iris_data"
   ]
  },
  {
   "cell_type": "code",
   "execution_count": 58,
   "metadata": {},
   "outputs": [
    {
     "data": {
      "text/plain": [
       "'5.1,3.5,1.4,0.2,setosa'"
      ]
     },
     "execution_count": 58,
     "metadata": {},
     "output_type": "execute_result"
    }
   ],
   "source": [
    "lines = ['5.1,3.5,1.4,0.2,setosa\\n', '5.5,5.5,0.4,2.2,setosa\\n']\n",
    "lines.pop(0).strip()\n"
   ]
  },
  {
   "cell_type": "code",
   "execution_count": 60,
   "metadata": {},
   "outputs": [
    {
     "data": {
      "text/plain": [
       "['5.1', '3.5', '1.4', '0.2', 'setosa']"
      ]
     },
     "execution_count": 60,
     "metadata": {},
     "output_type": "execute_result"
    }
   ],
   "source": [
    "lines = ['5.1,3.5,1.4,0.2,setosa\\n', '5.5,5.5,0.4,2.2,setosa\\n']\n",
    "lines.pop(0).strip().split(',')"
   ]
  },
  {
   "cell_type": "markdown",
   "metadata": {},
   "source": [
    "## List Comprehension"
   ]
  },
  {
   "cell_type": "code",
   "execution_count": 67,
   "metadata": {},
   "outputs": [
    {
     "data": {
      "text/plain": [
       "['SepalLength,SepalWidth,PetalLength,PetalWidth,Species\\n',\n",
       " '5.1,3.5,1.4,0.2,setosa\\n',\n",
       " '4.9,3,1.4,0.2,setosa\\n',\n",
       " '4.7,3.2,1.3,0.2,setosa\\n',\n",
       " '4.6,3.1,1.5,0.2,setosa\\n',\n",
       " '5,3.6,1.4,0.2,setosa\\n',\n",
       " '5.4,3.9,1.7,0.4,setosa\\n',\n",
       " '4.6,3.4,1.4,0.3,setosa\\n',\n",
       " '5,3.4,1.5,0.2,setosa\\n',\n",
       " '4.4,2.9,1.4,0.2,setosa\\n']"
      ]
     },
     "execution_count": 67,
     "metadata": {},
     "output_type": "execute_result"
    }
   ],
   "source": [
    "iris_data = open('../../Datasets/iris.csv').readlines()\n",
    "\n",
    "# a slice of the first 10 items.\n",
    "iris_data[0:10]"
   ]
  },
  {
   "cell_type": "code",
   "execution_count": 71,
   "metadata": {},
   "outputs": [
    {
     "name": "stdout",
     "output_type": "stream",
     "text": [
      "[0, 1, 2, 3, 4, 5, 6, 7, 8, 9, 10, 11, 12, 13, 14, 15, 16, 17, 18, 19]\n"
     ]
    }
   ],
   "source": [
    "nums = list(range(20))\n",
    "print(nums)"
   ]
  },
  {
   "cell_type": "markdown",
   "metadata": {},
   "source": [
    "Let's say we want to square each item in nums.\n",
    "\n",
    "\"squares\" is a list which has each item x of \"nums\", squared."
   ]
  },
  {
   "cell_type": "code",
   "execution_count": 72,
   "metadata": {},
   "outputs": [],
   "source": [
    "squares = [ x*x for x in nums ]"
   ]
  },
  {
   "cell_type": "code",
   "execution_count": 73,
   "metadata": {},
   "outputs": [
    {
     "data": {
      "text/plain": [
       "[0,\n",
       " 1,\n",
       " 4,\n",
       " 9,\n",
       " 16,\n",
       " 25,\n",
       " 36,\n",
       " 49,\n",
       " 64,\n",
       " 81,\n",
       " 100,\n",
       " 121,\n",
       " 144,\n",
       " 169,\n",
       " 196,\n",
       " 225,\n",
       " 256,\n",
       " 289,\n",
       " 324,\n",
       " 361]"
      ]
     },
     "execution_count": 73,
     "metadata": {},
     "output_type": "execute_result"
    }
   ],
   "source": [
    "squares"
   ]
  },
  {
   "cell_type": "markdown",
   "metadata": {},
   "source": [
    "I only squares of odd numbers in nums.\n",
    "\n",
    "squares is a list of x*x for every x in nums."
   ]
  },
  {
   "cell_type": "code",
   "execution_count": 74,
   "metadata": {},
   "outputs": [],
   "source": [
    "squares = [ x*x for x in nums if x%2==1]"
   ]
  },
  {
   "cell_type": "code",
   "execution_count": 75,
   "metadata": {},
   "outputs": [
    {
     "data": {
      "text/plain": [
       "[1, 9, 25, 49, 81, 121, 169, 225, 289, 361]"
      ]
     },
     "execution_count": 75,
     "metadata": {},
     "output_type": "execute_result"
    }
   ],
   "source": [
    "squares"
   ]
  },
  {
   "cell_type": "code",
   "execution_count": 77,
   "metadata": {},
   "outputs": [
    {
     "data": {
      "text/plain": [
       "'SepalLength,SepalWidth,PetalLength,PetalWidth,Species'"
      ]
     },
     "execution_count": 77,
     "metadata": {},
     "output_type": "execute_result"
    }
   ],
   "source": [
    "header = iris_data.pop(0).strip()\n",
    "header"
   ]
  },
  {
   "cell_type": "code",
   "execution_count": 81,
   "metadata": {},
   "outputs": [],
   "source": [
    "data = [ line.strip() for line in iris_data ]"
   ]
  },
  {
   "cell_type": "code",
   "execution_count": 83,
   "metadata": {},
   "outputs": [
    {
     "data": {
      "text/plain": [
       "['5.1,3.5,1.4,0.2,setosa', '4.9,3,1.4,0.2,setosa', '4.7,3.2,1.3,0.2,setosa']"
      ]
     },
     "execution_count": 83,
     "metadata": {},
     "output_type": "execute_result"
    }
   ],
   "source": [
    "data[0:3]"
   ]
  },
  {
   "cell_type": "code",
   "execution_count": 96,
   "metadata": {},
   "outputs": [],
   "source": [
    "def process_line(line):\n",
    "    things = line.strip().split(',')\n",
    "    things = [float(things[0]),float(things[1]),float(things[2]),float(things[3]),things[4]]\n",
    "    return things"
   ]
  },
  {
   "cell_type": "code",
   "execution_count": 97,
   "metadata": {},
   "outputs": [],
   "source": [
    "data = [ process_line(line) for line in iris_data ]"
   ]
  },
  {
   "cell_type": "code",
   "execution_count": 99,
   "metadata": {},
   "outputs": [],
   "source": [
    "versicolor = [ r for r in data if r[-1] == 'versicolor']"
   ]
  },
  {
   "cell_type": "code",
   "execution_count": 100,
   "metadata": {},
   "outputs": [
    {
     "data": {
      "text/plain": [
       "[[7.0, 3.2, 4.7, 1.4, 'versicolor'],\n",
       " [6.4, 3.2, 4.5, 1.5, 'versicolor'],\n",
       " [6.9, 3.1, 4.9, 1.5, 'versicolor'],\n",
       " [5.5, 2.3, 4.0, 1.3, 'versicolor'],\n",
       " [6.5, 2.8, 4.6, 1.5, 'versicolor'],\n",
       " [5.7, 2.8, 4.5, 1.3, 'versicolor'],\n",
       " [6.3, 3.3, 4.7, 1.6, 'versicolor'],\n",
       " [4.9, 2.4, 3.3, 1.0, 'versicolor'],\n",
       " [6.6, 2.9, 4.6, 1.3, 'versicolor'],\n",
       " [5.2, 2.7, 3.9, 1.4, 'versicolor'],\n",
       " [5.0, 2.0, 3.5, 1.0, 'versicolor'],\n",
       " [5.9, 3.0, 4.2, 1.5, 'versicolor'],\n",
       " [6.0, 2.2, 4.0, 1.0, 'versicolor'],\n",
       " [6.1, 2.9, 4.7, 1.4, 'versicolor'],\n",
       " [5.6, 2.9, 3.6, 1.3, 'versicolor'],\n",
       " [6.7, 3.1, 4.4, 1.4, 'versicolor'],\n",
       " [5.6, 3.0, 4.5, 1.5, 'versicolor'],\n",
       " [5.8, 2.7, 4.1, 1.0, 'versicolor'],\n",
       " [6.2, 2.2, 4.5, 1.5, 'versicolor'],\n",
       " [5.6, 2.5, 3.9, 1.1, 'versicolor'],\n",
       " [5.9, 3.2, 4.8, 1.8, 'versicolor'],\n",
       " [6.1, 2.8, 4.0, 1.3, 'versicolor'],\n",
       " [6.3, 2.5, 4.9, 1.5, 'versicolor'],\n",
       " [6.1, 2.8, 4.7, 1.2, 'versicolor'],\n",
       " [6.4, 2.9, 4.3, 1.3, 'versicolor'],\n",
       " [6.6, 3.0, 4.4, 1.4, 'versicolor'],\n",
       " [6.8, 2.8, 4.8, 1.4, 'versicolor'],\n",
       " [6.7, 3.0, 5.0, 1.7, 'versicolor'],\n",
       " [6.0, 2.9, 4.5, 1.5, 'versicolor'],\n",
       " [5.7, 2.6, 3.5, 1.0, 'versicolor'],\n",
       " [5.5, 2.4, 3.8, 1.1, 'versicolor'],\n",
       " [5.5, 2.4, 3.7, 1.0, 'versicolor'],\n",
       " [5.8, 2.7, 3.9, 1.2, 'versicolor'],\n",
       " [6.0, 2.7, 5.1, 1.6, 'versicolor'],\n",
       " [5.4, 3.0, 4.5, 1.5, 'versicolor'],\n",
       " [6.0, 3.4, 4.5, 1.6, 'versicolor'],\n",
       " [6.7, 3.1, 4.7, 1.5, 'versicolor'],\n",
       " [6.3, 2.3, 4.4, 1.3, 'versicolor'],\n",
       " [5.6, 3.0, 4.1, 1.3, 'versicolor'],\n",
       " [5.5, 2.5, 4.0, 1.3, 'versicolor'],\n",
       " [5.5, 2.6, 4.4, 1.2, 'versicolor'],\n",
       " [6.1, 3.0, 4.6, 1.4, 'versicolor'],\n",
       " [5.8, 2.6, 4.0, 1.2, 'versicolor'],\n",
       " [5.0, 2.3, 3.3, 1.0, 'versicolor'],\n",
       " [5.6, 2.7, 4.2, 1.3, 'versicolor'],\n",
       " [5.7, 3.0, 4.2, 1.2, 'versicolor'],\n",
       " [5.7, 2.9, 4.2, 1.3, 'versicolor'],\n",
       " [6.2, 2.9, 4.3, 1.3, 'versicolor'],\n",
       " [5.1, 2.5, 3.0, 1.1, 'versicolor'],\n",
       " [5.7, 2.8, 4.1, 1.3, 'versicolor']]"
      ]
     },
     "execution_count": 100,
     "metadata": {},
     "output_type": "execute_result"
    }
   ],
   "source": [
    "versicolor"
   ]
  },
  {
   "cell_type": "markdown",
   "metadata": {},
   "source": [
    "# Files"
   ]
  },
  {
   "cell_type": "markdown",
   "metadata": {},
   "source": [
    "Read lines from a file.\n",
    "\n",
    "\"with\" block.\n",
    "\n",
    "Remove the header of iris.csv file.\n",
    "\n",
    "Traverse and print iris data points.\n",
    "\n",
    "Describe the procedure in English first."
   ]
  },
  {
   "cell_type": "code",
   "execution_count": 8,
   "metadata": {},
   "outputs": [
    {
     "name": "stdout",
     "output_type": "stream",
     "text": [
      "SepalLength,SepalWidth,PetalLength,PetalWidth,Species\n",
      "\n",
      "5.1,3.5,1.4,0.2,setosa\n",
      "\n",
      "4.9,3,1.4,0.2,setosa\n",
      "\n",
      "4.7,3.2,1.3,0.2,setosa\n",
      "\n",
      "4.6,3.1,1.5,0.2,setosa\n",
      "\n",
      "5,3.6,1.4,0.2,setosa\n",
      "\n",
      "5.4,3.9,1.7,0.4,setosa\n",
      "\n",
      "4.6,3.4,1.4,0.3,setosa\n",
      "\n",
      "5,3.4,1.5,0.2,setosa\n",
      "\n",
      "4.4,2.9,1.4,0.2,setosa\n",
      "\n",
      "4.9,3.1,1.5,0.1,setosa\n",
      "\n",
      "5.4,3.7,1.5,0.2,setosa\n",
      "\n",
      "4.8,3.4,1.6,0.2,setosa\n",
      "\n",
      "4.8,3,1.4,0.1,setosa\n",
      "\n",
      "4.3,3,1.1,0.1,setosa\n",
      "\n",
      "5.8,4,1.2,0.2,setosa\n",
      "\n",
      "5.7,4.4,1.5,0.4,setosa\n",
      "\n",
      "5.4,3.9,1.3,0.4,setosa\n",
      "\n",
      "5.1,3.5,1.4,0.3,setosa\n",
      "\n",
      "5.7,3.8,1.7,0.3,setosa\n",
      "\n",
      "5.1,3.8,1.5,0.3,setosa\n",
      "\n",
      "5.4,3.4,1.7,0.2,setosa\n",
      "\n",
      "5.1,3.7,1.5,0.4,setosa\n",
      "\n",
      "4.6,3.6,1,0.2,setosa\n",
      "\n",
      "5.1,3.3,1.7,0.5,setosa\n",
      "\n",
      "4.8,3.4,1.9,0.2,setosa\n",
      "\n",
      "5,3,1.6,0.2,setosa\n",
      "\n",
      "5,3.4,1.6,0.4,setosa\n",
      "\n",
      "5.2,3.5,1.5,0.2,setosa\n",
      "\n",
      "5.2,3.4,1.4,0.2,setosa\n",
      "\n",
      "4.7,3.2,1.6,0.2,setosa\n",
      "\n",
      "4.8,3.1,1.6,0.2,setosa\n",
      "\n",
      "5.4,3.4,1.5,0.4,setosa\n",
      "\n",
      "5.2,4.1,1.5,0.1,setosa\n",
      "\n",
      "5.5,4.2,1.4,0.2,setosa\n",
      "\n",
      "4.9,3.1,1.5,0.2,setosa\n",
      "\n",
      "5,3.2,1.2,0.2,setosa\n",
      "\n",
      "5.5,3.5,1.3,0.2,setosa\n",
      "\n",
      "4.9,3.6,1.4,0.1,setosa\n",
      "\n",
      "4.4,3,1.3,0.2,setosa\n",
      "\n",
      "5.1,3.4,1.5,0.2,setosa\n",
      "\n",
      "5,3.5,1.3,0.3,setosa\n",
      "\n",
      "4.5,2.3,1.3,0.3,setosa\n",
      "\n",
      "4.4,3.2,1.3,0.2,setosa\n",
      "\n",
      "5,3.5,1.6,0.6,setosa\n",
      "\n",
      "5.1,3.8,1.9,0.4,setosa\n",
      "\n",
      "4.8,3,1.4,0.3,setosa\n",
      "\n",
      "5.1,3.8,1.6,0.2,setosa\n",
      "\n",
      "4.6,3.2,1.4,0.2,setosa\n",
      "\n",
      "5.3,3.7,1.5,0.2,setosa\n",
      "\n",
      "5,3.3,1.4,0.2,setosa\n",
      "\n",
      "7,3.2,4.7,1.4,versicolor\n",
      "\n",
      "6.4,3.2,4.5,1.5,versicolor\n",
      "\n",
      "6.9,3.1,4.9,1.5,versicolor\n",
      "\n",
      "5.5,2.3,4,1.3,versicolor\n",
      "\n",
      "6.5,2.8,4.6,1.5,versicolor\n",
      "\n",
      "5.7,2.8,4.5,1.3,versicolor\n",
      "\n",
      "6.3,3.3,4.7,1.6,versicolor\n",
      "\n",
      "4.9,2.4,3.3,1,versicolor\n",
      "\n",
      "6.6,2.9,4.6,1.3,versicolor\n",
      "\n",
      "5.2,2.7,3.9,1.4,versicolor\n",
      "\n",
      "5,2,3.5,1,versicolor\n",
      "\n",
      "5.9,3,4.2,1.5,versicolor\n",
      "\n",
      "6,2.2,4,1,versicolor\n",
      "\n",
      "6.1,2.9,4.7,1.4,versicolor\n",
      "\n",
      "5.6,2.9,3.6,1.3,versicolor\n",
      "\n",
      "6.7,3.1,4.4,1.4,versicolor\n",
      "\n",
      "5.6,3,4.5,1.5,versicolor\n",
      "\n",
      "5.8,2.7,4.1,1,versicolor\n",
      "\n",
      "6.2,2.2,4.5,1.5,versicolor\n",
      "\n",
      "5.6,2.5,3.9,1.1,versicolor\n",
      "\n",
      "5.9,3.2,4.8,1.8,versicolor\n",
      "\n",
      "6.1,2.8,4,1.3,versicolor\n",
      "\n",
      "6.3,2.5,4.9,1.5,versicolor\n",
      "\n",
      "6.1,2.8,4.7,1.2,versicolor\n",
      "\n",
      "6.4,2.9,4.3,1.3,versicolor\n",
      "\n",
      "6.6,3,4.4,1.4,versicolor\n",
      "\n",
      "6.8,2.8,4.8,1.4,versicolor\n",
      "\n",
      "6.7,3,5,1.7,versicolor\n",
      "\n",
      "6,2.9,4.5,1.5,versicolor\n",
      "\n",
      "5.7,2.6,3.5,1,versicolor\n",
      "\n",
      "5.5,2.4,3.8,1.1,versicolor\n",
      "\n",
      "5.5,2.4,3.7,1,versicolor\n",
      "\n",
      "5.8,2.7,3.9,1.2,versicolor\n",
      "\n",
      "6,2.7,5.1,1.6,versicolor\n",
      "\n",
      "5.4,3,4.5,1.5,versicolor\n",
      "\n",
      "6,3.4,4.5,1.6,versicolor\n",
      "\n",
      "6.7,3.1,4.7,1.5,versicolor\n",
      "\n",
      "6.3,2.3,4.4,1.3,versicolor\n",
      "\n",
      "5.6,3,4.1,1.3,versicolor\n",
      "\n",
      "5.5,2.5,4,1.3,versicolor\n",
      "\n",
      "5.5,2.6,4.4,1.2,versicolor\n",
      "\n",
      "6.1,3,4.6,1.4,versicolor\n",
      "\n",
      "5.8,2.6,4,1.2,versicolor\n",
      "\n",
      "5,2.3,3.3,1,versicolor\n",
      "\n",
      "5.6,2.7,4.2,1.3,versicolor\n",
      "\n",
      "5.7,3,4.2,1.2,versicolor\n",
      "\n",
      "5.7,2.9,4.2,1.3,versicolor\n",
      "\n",
      "6.2,2.9,4.3,1.3,versicolor\n",
      "\n",
      "5.1,2.5,3,1.1,versicolor\n",
      "\n",
      "5.7,2.8,4.1,1.3,versicolor\n",
      "\n",
      "6.3,3.3,6,2.5,virginica\n",
      "\n",
      "5.8,2.7,5.1,1.9,virginica\n",
      "\n",
      "7.1,3,5.9,2.1,virginica\n",
      "\n",
      "6.3,2.9,5.6,1.8,virginica\n",
      "\n",
      "6.5,3,5.8,2.2,virginica\n",
      "\n",
      "7.6,3,6.6,2.1,virginica\n",
      "\n",
      "4.9,2.5,4.5,1.7,virginica\n",
      "\n",
      "7.3,2.9,6.3,1.8,virginica\n",
      "\n",
      "6.7,2.5,5.8,1.8,virginica\n",
      "\n",
      "7.2,3.6,6.1,2.5,virginica\n",
      "\n",
      "6.5,3.2,5.1,2,virginica\n",
      "\n",
      "6.4,2.7,5.3,1.9,virginica\n",
      "\n",
      "6.8,3,5.5,2.1,virginica\n",
      "\n",
      "5.7,2.5,5,2,virginica\n",
      "\n",
      "5.8,2.8,5.1,2.4,virginica\n",
      "\n",
      "6.4,3.2,5.3,2.3,virginica\n",
      "\n",
      "6.5,3,5.5,1.8,virginica\n",
      "\n",
      "7.7,3.8,6.7,2.2,virginica\n",
      "\n",
      "7.7,2.6,6.9,2.3,virginica\n",
      "\n",
      "6,2.2,5,1.5,virginica\n",
      "\n",
      "6.9,3.2,5.7,2.3,virginica\n",
      "\n",
      "5.6,2.8,4.9,2,virginica\n",
      "\n",
      "7.7,2.8,6.7,2,virginica\n",
      "\n",
      "6.3,2.7,4.9,1.8,virginica\n",
      "\n",
      "6.7,3.3,5.7,2.1,virginica\n",
      "\n",
      "7.2,3.2,6,1.8,virginica\n",
      "\n",
      "6.2,2.8,4.8,1.8,virginica\n",
      "\n",
      "6.1,3,4.9,1.8,virginica\n",
      "\n",
      "6.4,2.8,5.6,2.1,virginica\n",
      "\n",
      "7.2,3,5.8,1.6,virginica\n",
      "\n",
      "7.4,2.8,6.1,1.9,virginica\n",
      "\n",
      "7.9,3.8,6.4,2,virginica\n",
      "\n",
      "6.4,2.8,5.6,2.2,virginica\n",
      "\n",
      "6.3,2.8,5.1,1.5,virginica\n",
      "\n",
      "6.1,2.6,5.6,1.4,virginica\n",
      "\n",
      "7.7,3,6.1,2.3,virginica\n",
      "\n",
      "6.3,3.4,5.6,2.4,virginica\n",
      "\n",
      "6.4,3.1,5.5,1.8,virginica\n",
      "\n",
      "6,3,4.8,1.8,virginica\n",
      "\n",
      "6.9,3.1,5.4,2.1,virginica\n",
      "\n",
      "6.7,3.1,5.6,2.4,virginica\n",
      "\n",
      "6.9,3.1,5.1,2.3,virginica\n",
      "\n",
      "5.8,2.7,5.1,1.9,virginica\n",
      "\n",
      "6.8,3.2,5.9,2.3,virginica\n",
      "\n",
      "6.7,3.3,5.7,2.5,virginica\n",
      "\n",
      "6.7,3,5.2,2.3,virginica\n",
      "\n",
      "6.3,2.5,5,1.9,virginica\n",
      "\n",
      "6.5,3,5.2,2,virginica\n",
      "\n",
      "6.2,3.4,5.4,2.3,virginica\n",
      "\n",
      "5.9,3,5.1,1.8,virginica\n"
     ]
    }
   ],
   "source": [
    "data_src = '../../Datasets/iris.csv'\n",
    "with open(data_src) as fp:\n",
    "#     everything = fp.read()\n",
    "#     print(everything)\n",
    "    for line in fp:\n",
    "        print(line)"
   ]
  },
  {
   "cell_type": "markdown",
   "metadata": {},
   "source": [
    "# Maps (Dictionaries)"
   ]
  },
  {
   "cell_type": "markdown",
   "metadata": {},
   "source": [
    "\n",
    "Create a map that stores data for each species of Iris.\n",
    "\n",
    "Traverse a map.\n",
    "\n",
    "Understand keys and values in maps.\n"
   ]
  },
  {
   "cell_type": "markdown",
   "metadata": {},
   "source": [
    "A dictionary is a set of key-value pairs.\n"
   ]
  },
  {
   "cell_type": "code",
   "execution_count": 13,
   "metadata": {},
   "outputs": [],
   "source": [
    "iris = {}\n",
    "iris['setosa'] = [(1.5,2.5,3,2), (2.5,4.5,3.1,2)]\n",
    "iris['versicolor'] = [(5,2,3.0,2.1), (2,4,3.1,2)]"
   ]
  },
  {
   "cell_type": "code",
   "execution_count": 14,
   "metadata": {},
   "outputs": [
    {
     "data": {
      "text/plain": [
       "dict"
      ]
     },
     "execution_count": 14,
     "metadata": {},
     "output_type": "execute_result"
    }
   ],
   "source": [
    "type(iris)"
   ]
  },
  {
   "cell_type": "code",
   "execution_count": 15,
   "metadata": {},
   "outputs": [
    {
     "data": {
      "text/plain": [
       "dict_keys(['setosa', 'versicolor'])"
      ]
     },
     "execution_count": 15,
     "metadata": {},
     "output_type": "execute_result"
    }
   ],
   "source": [
    "iris.keys()"
   ]
  },
  {
   "cell_type": "code",
   "execution_count": 16,
   "metadata": {},
   "outputs": [
    {
     "data": {
      "text/plain": [
       "dict_values([[(1.5, 2.5, 3, 2), (2.5, 4.5, 3.1, 2)], [(5, 2, 3.0, 2.1), (2, 4, 3.1, 2)]])"
      ]
     },
     "execution_count": 16,
     "metadata": {},
     "output_type": "execute_result"
    }
   ],
   "source": [
    "iris.values()"
   ]
  },
  {
   "cell_type": "markdown",
   "metadata": {},
   "source": [
    "Dictionary keys are unique.  Values do not have to be unique.\n",
    "\n",
    "Values are retrieved using keys."
   ]
  },
  {
   "cell_type": "code",
   "execution_count": 17,
   "metadata": {},
   "outputs": [
    {
     "data": {
      "text/plain": [
       "[(1.5, 2.5, 3, 2), (2.5, 4.5, 3.1, 2)]"
      ]
     },
     "execution_count": 17,
     "metadata": {},
     "output_type": "execute_result"
    }
   ],
   "source": [
    "iris['setosa']"
   ]
  },
  {
   "cell_type": "markdown",
   "metadata": {},
   "source": [
    "# Practice"
   ]
  },
  {
   "cell_type": "markdown",
   "metadata": {},
   "source": [
    "Task: get data from iris.csv and store the data into a dictionary. Data for each species is stored in a different key."
   ]
  },
  {
   "cell_type": "markdown",
   "metadata": {},
   "source": [
    "What are the steps?\n",
    "+ Open the file.\n",
    "+ As we go through each line in the file.\n",
    "    + Remove the newline character from the current line.\n",
    "    + Extra information from the line.\n",
    "        + "
   ]
  },
  {
   "cell_type": "code",
   "execution_count": 42,
   "metadata": {},
   "outputs": [],
   "source": [
    "data_src = r'../../Datasets/iris.csv'\n",
    "data = {}\n",
    "with open(data_src) as fp:\n",
    "    header = fp.readline().strip()\n",
    "#     print('Header:', header)\n",
    "    for line in fp:\n",
    "        items = line.strip().split(',')\n",
    "        species_name = items.pop()\n",
    "        items = [ float(x) for x in items ]  \n",
    "        if species_name in data:\n",
    "            data[ species_name ].append(items)\n",
    "        else:\n",
    "            data[ species_name ] = [items]\n",
    "\n"
   ]
  },
  {
   "cell_type": "code",
   "execution_count": 43,
   "metadata": {},
   "outputs": [
    {
     "data": {
      "text/plain": [
       "dict_keys(['setosa', 'versicolor', 'virginica'])"
      ]
     },
     "execution_count": 43,
     "metadata": {},
     "output_type": "execute_result"
    }
   ],
   "source": [
    "data.keys()"
   ]
  },
  {
   "cell_type": "code",
   "execution_count": 44,
   "metadata": {},
   "outputs": [
    {
     "data": {
      "text/plain": [
       "50"
      ]
     },
     "execution_count": 44,
     "metadata": {},
     "output_type": "execute_result"
    }
   ],
   "source": [
    "len(data['virginica'])"
   ]
  },
  {
   "cell_type": "code",
   "execution_count": 45,
   "metadata": {},
   "outputs": [
    {
     "data": {
      "text/plain": [
       "[[6.3, 3.3, 6.0, 2.5],\n",
       " [5.8, 2.7, 5.1, 1.9],\n",
       " [7.1, 3.0, 5.9, 2.1],\n",
       " [6.3, 2.9, 5.6, 1.8],\n",
       " [6.5, 3.0, 5.8, 2.2],\n",
       " [7.6, 3.0, 6.6, 2.1],\n",
       " [4.9, 2.5, 4.5, 1.7],\n",
       " [7.3, 2.9, 6.3, 1.8],\n",
       " [6.7, 2.5, 5.8, 1.8],\n",
       " [7.2, 3.6, 6.1, 2.5],\n",
       " [6.5, 3.2, 5.1, 2.0],\n",
       " [6.4, 2.7, 5.3, 1.9],\n",
       " [6.8, 3.0, 5.5, 2.1],\n",
       " [5.7, 2.5, 5.0, 2.0],\n",
       " [5.8, 2.8, 5.1, 2.4],\n",
       " [6.4, 3.2, 5.3, 2.3],\n",
       " [6.5, 3.0, 5.5, 1.8],\n",
       " [7.7, 3.8, 6.7, 2.2],\n",
       " [7.7, 2.6, 6.9, 2.3],\n",
       " [6.0, 2.2, 5.0, 1.5],\n",
       " [6.9, 3.2, 5.7, 2.3],\n",
       " [5.6, 2.8, 4.9, 2.0],\n",
       " [7.7, 2.8, 6.7, 2.0],\n",
       " [6.3, 2.7, 4.9, 1.8],\n",
       " [6.7, 3.3, 5.7, 2.1],\n",
       " [7.2, 3.2, 6.0, 1.8],\n",
       " [6.2, 2.8, 4.8, 1.8],\n",
       " [6.1, 3.0, 4.9, 1.8],\n",
       " [6.4, 2.8, 5.6, 2.1],\n",
       " [7.2, 3.0, 5.8, 1.6],\n",
       " [7.4, 2.8, 6.1, 1.9],\n",
       " [7.9, 3.8, 6.4, 2.0],\n",
       " [6.4, 2.8, 5.6, 2.2],\n",
       " [6.3, 2.8, 5.1, 1.5],\n",
       " [6.1, 2.6, 5.6, 1.4],\n",
       " [7.7, 3.0, 6.1, 2.3],\n",
       " [6.3, 3.4, 5.6, 2.4],\n",
       " [6.4, 3.1, 5.5, 1.8],\n",
       " [6.0, 3.0, 4.8, 1.8],\n",
       " [6.9, 3.1, 5.4, 2.1],\n",
       " [6.7, 3.1, 5.6, 2.4],\n",
       " [6.9, 3.1, 5.1, 2.3],\n",
       " [5.8, 2.7, 5.1, 1.9],\n",
       " [6.8, 3.2, 5.9, 2.3],\n",
       " [6.7, 3.3, 5.7, 2.5],\n",
       " [6.7, 3.0, 5.2, 2.3],\n",
       " [6.3, 2.5, 5.0, 1.9],\n",
       " [6.5, 3.0, 5.2, 2.0],\n",
       " [6.2, 3.4, 5.4, 2.3],\n",
       " [5.9, 3.0, 5.1, 1.8]]"
      ]
     },
     "execution_count": 45,
     "metadata": {},
     "output_type": "execute_result"
    }
   ],
   "source": [
    "data['virginica']"
   ]
  },
  {
   "cell_type": "code",
   "execution_count": null,
   "metadata": {},
   "outputs": [],
   "source": []
  }
 ],
 "metadata": {
  "kernelspec": {
   "display_name": "Python 3",
   "language": "python",
   "name": "python3"
  },
  "language_info": {
   "codemirror_mode": {
    "name": "ipython",
    "version": 3
   },
   "file_extension": ".py",
   "mimetype": "text/x-python",
   "name": "python",
   "nbconvert_exporter": "python",
   "pygments_lexer": "ipython3",
   "version": "3.8.8"
  }
 },
 "nbformat": 4,
 "nbformat_minor": 4
}
