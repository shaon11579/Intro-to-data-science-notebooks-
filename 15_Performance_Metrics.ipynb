{
 "cells": [
  {
   "cell_type": "markdown",
   "id": "a05f319e-54a2-4dfe-81f1-751c778e57a7",
   "metadata": {},
   "source": [
    "# Performance Metrics"
   ]
  },
  {
   "cell_type": "markdown",
   "id": "cbec6475-d5da-4762-af53-56059d3c8379",
   "metadata": {},
   "source": [
    "### Review of model validation\n",
    "+ Cross validate a decision tree model\n",
    "+ train_test_split, score model with train data, score model with test data.\n",
    "\n",
    "### Performance metrics\n",
    "+ accuracy, p vs n, tp, fp, tn, fn\n",
    "+ balanced accuracy\n",
    "+ precision, recall\n"
   ]
  },
  {
   "cell_type": "markdown",
   "id": "63031059-11da-4db5-9329-a3b92352cb50",
   "metadata": {},
   "source": [
    "### Datasets"
   ]
  },
  {
   "cell_type": "code",
   "execution_count": 1,
   "id": "f2de6230-f56c-4229-b5ed-c42e19378668",
   "metadata": {},
   "outputs": [],
   "source": [
    "import pandas\n",
    "iris = pandas.read_csv('../Datasets/iris50.csv')\n",
    "admission = pandas.read_csv('../Datasets/admission.csv')\n",
    "cancer = pandas.read_csv('../Datasets/breast-cancer-wisconsin.csv')\n",
    "diabetes = pandas.read_csv('../Datasets/diabetes.csv')"
   ]
  },
  {
   "cell_type": "code",
   "execution_count": 2,
   "id": "179dc245-7fab-411e-88a7-2e4c8b7ae352",
   "metadata": {},
   "outputs": [
    {
     "data": {
      "text/html": [
       "<div>\n",
       "<style scoped>\n",
       "    .dataframe tbody tr th:only-of-type {\n",
       "        vertical-align: middle;\n",
       "    }\n",
       "\n",
       "    .dataframe tbody tr th {\n",
       "        vertical-align: top;\n",
       "    }\n",
       "\n",
       "    .dataframe thead th {\n",
       "        text-align: right;\n",
       "    }\n",
       "</style>\n",
       "<table border=\"1\" class=\"dataframe\">\n",
       "  <thead>\n",
       "    <tr style=\"text-align: right;\">\n",
       "      <th></th>\n",
       "      <th>admit</th>\n",
       "      <th>gre</th>\n",
       "      <th>gpa</th>\n",
       "      <th>rank</th>\n",
       "    </tr>\n",
       "  </thead>\n",
       "  <tbody>\n",
       "    <tr>\n",
       "      <th>24</th>\n",
       "      <td>1</td>\n",
       "      <td>760</td>\n",
       "      <td>3.35</td>\n",
       "      <td>2</td>\n",
       "    </tr>\n",
       "  </tbody>\n",
       "</table>\n",
       "</div>"
      ],
      "text/plain": [
       "    admit  gre   gpa  rank\n",
       "24      1  760  3.35     2"
      ]
     },
     "execution_count": 2,
     "metadata": {},
     "output_type": "execute_result"
    }
   ],
   "source": [
    "admission.sample()"
   ]
  },
  {
   "cell_type": "code",
   "execution_count": 3,
   "id": "bd449372-6659-4923-bcd3-85c3493f19c0",
   "metadata": {},
   "outputs": [],
   "source": [
    "from sklearn.tree import DecisionTreeClassifier, DecisionTreeRegressor\n",
    "from sklearn.model_selection import ShuffleSplit, cross_validate, train_test_split\n",
    "\n",
    "## classification\n",
    "y1 = admission['admit']\n",
    "X1 = admission.drop(columns=['admit'])\n",
    "\n",
    "## regression\n",
    "y2 = admission['gre']\n",
    "X2 = admission[['gpa','rank']]"
   ]
  },
  {
   "cell_type": "markdown",
   "id": "47deed61-2ac6-498e-9da8-51526e571af0",
   "metadata": {},
   "source": [
    "How good is the model?  To answer this, we cross-validate the model.\n",
    "\n",
    "+ We can do 100 random splits into training data and testing data.\n",
    "+ We train with training data, and score/test with testing data.\n",
    "+ We average the test score."
   ]
  },
  {
   "cell_type": "code",
   "execution_count": 4,
   "id": "8adf1ed7-eaa0-46a8-a2dd-d3f7f4e928c2",
   "metadata": {},
   "outputs": [
    {
     "name": "stdout",
     "output_type": "stream",
     "text": [
      "Classification\n",
      "0.62525 0.07717634028638569\n",
      "Regression\n",
      "-0.6368046882968987 0.38004328842814544\n"
     ]
    }
   ],
   "source": [
    "print('Classification')\n",
    "res = cross_validate(DecisionTreeClassifier(criterion='entropy'), X1, y1, cv=ShuffleSplit(n_splits=100))\n",
    "print(res['test_score'].mean(), res['test_score'].std())\n",
    "\n",
    "\n",
    "print('Regression')\n",
    "res = cross_validate(DecisionTreeRegressor(), X2, y2, cv=ShuffleSplit(n_splits=100))\n",
    "print(res['test_score'].mean(), res['test_score'].std())\n",
    "\n",
    "\n"
   ]
  },
  {
   "cell_type": "markdown",
   "id": "33cec090-42e8-4a35-9b6a-523582d8da2c",
   "metadata": {},
   "source": [
    "\n",
    "+ train_test_split, score model with train data, score model with test data.\n",
    "\n",
    "#### Performance metric for regression models\n",
    "+ $R^2 = 1 - {\\sum_i (y_i-f_i)^2 \\over \\sum_i (y_i - \\mu_y)^2}$\n",
    "\n",
    "#### Performance metrics for classification models \n",
    "+ accuracy = (tp+tn)/(tp+fp+tn+fn)\n",
    "+ p vs n, tp, fp, tn, fn\n",
    "+ balanced accuracy = 0.5 * (tp/(tp+fn) + tn/(tn+fp))\n",
    "+ precision = tp/(tp+fp), recall = tp/(tp+fn)"
   ]
  },
  {
   "cell_type": "code",
   "execution_count": 5,
   "id": "5b1deea1-a327-4ed0-8b70-7820ab4c53fb",
   "metadata": {},
   "outputs": [],
   "source": [
    "y = admission.admit\n",
    "X = admission.drop(columns=['admit'])\n",
    "\n",
    "## this is equivalent to 1 trial of ShuffleSplit\n",
    "X_train, X_test, y_train, y_test = train_test_split(X,y, train_size=0.9)"
   ]
  },
  {
   "cell_type": "code",
   "execution_count": 6,
   "id": "fc9cb628-4391-48ed-b2a7-b29dc89ce9b8",
   "metadata": {},
   "outputs": [
    {
     "data": {
      "text/plain": [
       "40"
      ]
     },
     "execution_count": 6,
     "metadata": {},
     "output_type": "execute_result"
    }
   ],
   "source": [
    "len(y_test)"
   ]
  },
  {
   "cell_type": "code",
   "execution_count": 7,
   "id": "bbca5839-9b8c-4d59-b5ed-0b1f2f2126f0",
   "metadata": {},
   "outputs": [],
   "source": [
    "### We are doing 1 iteration of cross validation (cross_validate takes care of this for us)\n",
    "model = DecisionTreeClassifier()\n",
    "model.fit(X_train, y_train)\n",
    "predictions = model.predict(X_test)"
   ]
  },
  {
   "cell_type": "code",
   "execution_count": 8,
   "id": "7013d8d5-0cc5-4418-a290-917fa18b2b79",
   "metadata": {},
   "outputs": [
    {
     "data": {
      "text/plain": [
       "array([1, 0, 1, 0, 0, 0, 0, 0, 0, 1], dtype=int64)"
      ]
     },
     "execution_count": 8,
     "metadata": {},
     "output_type": "execute_result"
    }
   ],
   "source": [
    "predictions[0:10]"
   ]
  },
  {
   "cell_type": "code",
   "execution_count": 9,
   "id": "bd680517-5fbf-4fa5-9f14-be05a21f15ae",
   "metadata": {},
   "outputs": [
    {
     "data": {
      "text/plain": [
       "array([1, 0, 0, 0, 1, 0, 0, 0, 0, 1], dtype=int64)"
      ]
     },
     "execution_count": 9,
     "metadata": {},
     "output_type": "execute_result"
    }
   ],
   "source": [
    "y_test[0:10].values"
   ]
  },
  {
   "cell_type": "markdown",
   "id": "ec2c385d-b250-4bcd-a978-fe98de518e2d",
   "metadata": {},
   "source": [
    "To evaluate the predictions, we need some terminologies.\n",
    "\n",
    "+ A **positive** is a prediction of 1.  There are 3 positives in the first 10 predictions.\n",
    "+ A **negative** is a prediction of 0.  There are 3 negatives in the first 10 predictions.\n",
    "+ A **true positive** (TP) is a positive prediction that is correct.  There's 1 TP.\n",
    "+ A **false positive** (FP) is a positive prediction that is wrong.  There are 2 FPs.\n",
    "+ A **true negative** (TN) is a negative prediction that is correct.  There are 5 TNs.\n",
    "+ A **false negative** (FN) is a negative prediction that is wrong.  There are 2 of FNs.\n",
    "\n",
    "total = TP + FP + TN + FN.\n",
    "\n",
    "TP + FN = the number of data points in class 1.\n",
    "\n",
    "FP + TN = the number of data points in class 0.\n",
    "\n",
    "\n"
   ]
  },
  {
   "cell_type": "markdown",
   "id": "605df631-d3fd-4de9-8d88-a78d13e0dfd7",
   "metadata": {},
   "source": [
    "Accuracy = (TP + TN) / (TP + FP + TN + FN)"
   ]
  },
  {
   "cell_type": "code",
   "execution_count": 15,
   "id": "ce1983ea-4d6b-4e02-ad54-63c80d1c5b80",
   "metadata": {
    "scrolled": true
   },
   "outputs": [
    {
     "name": "stdout",
     "output_type": "stream",
     "text": [
      "Classification\n",
      "0.6155 0.06817074152449862\n",
      "0.4072742719956342 0.12122312546091644\n",
      "0.41936653143972435 0.13532435696305836\n"
     ]
    }
   ],
   "source": [
    "print('Classification')\n",
    "res = cross_validate(\n",
    "    DecisionTreeClassifier(), \n",
    "    X, \n",
    "    y, \n",
    "    cv=ShuffleSplit(n_splits=100),\n",
    "    scoring=['accuracy', 'precision', 'recall'],\n",
    ")\n",
    "print(res['test_accuracy'].mean(), res['test_accuracy'].std())\n",
    "print(res['test_precision'].mean(), res['test_precision'].std())\n",
    "print(res['test_recall'].mean(), res['test_recall'].std())\n"
   ]
  },
  {
   "cell_type": "code",
   "execution_count": 14,
   "id": "f7f13d93",
   "metadata": {},
   "outputs": [
    {
     "data": {
      "text/plain": [
       "array([0.42857143, 0.54545455, 0.5       , 0.35714286, 0.        ,\n",
       "       0.53333333, 0.46666667, 0.44444444, 0.5       , 0.27272727,\n",
       "       0.5       , 0.44444444, 0.46153846, 0.38461538, 0.41666667,\n",
       "       0.35294118, 0.27272727, 0.21428571, 0.46666667, 0.45454545,\n",
       "       0.1875    , 0.66666667, 0.54545455, 0.4       , 0.46153846,\n",
       "       0.5       , 0.5       , 0.26666667, 0.53846154, 0.35294118,\n",
       "       0.44444444, 0.5       , 0.4375    , 0.25      , 0.41176471,\n",
       "       0.33333333, 0.41666667, 0.42105263, 0.30769231, 0.4       ,\n",
       "       0.38461538, 0.3125    , 0.5       , 0.61538462, 0.46666667,\n",
       "       0.29411765, 0.5       , 0.5       , 0.35714286, 0.35714286,\n",
       "       0.57142857, 0.53846154, 0.47058824, 0.7       , 0.66666667,\n",
       "       0.28571429, 0.53846154, 0.30769231, 0.71428571, 0.46153846,\n",
       "       0.6       , 0.53846154, 0.41666667, 0.41666667, 0.3125    ,\n",
       "       0.5       , 0.27272727, 0.46153846, 0.41666667, 0.36363636,\n",
       "       0.5       , 0.4       , 0.5       , 0.46153846, 0.5       ,\n",
       "       0.21428571, 0.38461538, 0.26666667, 0.5       , 0.63636364,\n",
       "       0.35714286, 0.33333333, 0.16666667, 0.3125    , 0.54545455,\n",
       "       0.36363636, 0.4       , 0.36363636, 0.11111111, 0.375     ,\n",
       "       0.25      , 0.38461538, 0.36363636, 0.25      , 0.125     ,\n",
       "       0.46153846, 0.26666667, 0.29411765, 0.22222222, 0.38461538])"
      ]
     },
     "execution_count": 14,
     "metadata": {},
     "output_type": "execute_result"
    }
   ],
   "source": [
    "res['test_recall']"
   ]
  },
  {
   "cell_type": "code",
   "execution_count": 59,
   "id": "96c2c569-1600-4d07-94c4-c84924895ac8",
   "metadata": {},
   "outputs": [
    {
     "data": {
      "text/plain": [
       "0    0.6825\n",
       "1    0.3175\n",
       "Name: admit, dtype: float64"
      ]
     },
     "execution_count": 59,
     "metadata": {},
     "output_type": "execute_result"
    }
   ],
   "source": [
    "admission.admit.value_counts(1)"
   ]
  },
  {
   "cell_type": "markdown",
   "id": "99895b13-d4c3-4def-9d2c-28d83a791c69",
   "metadata": {},
   "source": [
    "Accuracy is not a good metric for imbalanced datasets, in which the distributions of variables are skewed."
   ]
  },
  {
   "cell_type": "markdown",
   "id": "0dfd9906-d0f4-47f7-8b71-b48f8ee67890",
   "metadata": {},
   "source": [
    "**Accuracy** = (TP + TN) / (TP + FP + TN + FN)\n",
    "\n",
    "An example:\n",
    "+ TP = 1\n",
    "+ TP + FN = the number of data points in class 1 = 10\n",
    "+ TN = 500\n",
    "+ FP + TN = the number of data points in class 0 = 1000\n",
    "\n",
    "**Accuracy** = (1 + 500) / 1010 = 0.496"
   ]
  },
  {
   "cell_type": "markdown",
   "id": "e4594089-9b1f-4301-955b-d545a768b261",
   "metadata": {},
   "source": [
    "**Balanced accuracy** = 0.5 * (TP-rate + TN-rate) = 0.5 * (TP/(TP+FN) + TN/(TN+FP))"
   ]
  },
  {
   "cell_type": "markdown",
   "id": "7ec6de09-5975-461a-ae58-61052b12bb18",
   "metadata": {},
   "source": [
    "+ TP-rate = 0.1\n",
    "+ TN-rate = 0.5\n",
    "+ Balanced accuracy = 0.5 * (0.1 + 0.6) = 0.35"
   ]
  },
  {
   "cell_type": "markdown",
   "id": "87e73986-2c11-4dea-ad9d-2c10b96cc35c",
   "metadata": {},
   "source": [
    "Balanced accuracy is more reasonable than accuracy if we weight the ability to prediction positives and negatives equally."
   ]
  },
  {
   "cell_type": "markdown",
   "id": "478c8e64-defb-4ed3-b446-063e278dd4b3",
   "metadata": {},
   "source": [
    "In many cases, we are very interested in the ability to predict class 1.\n",
    "\n",
    "In these cases, we need two metrics. A performance of a prediction is typically a compromise between these two metrics.\n",
    "\n",
    "Precision and recall are two popular metrics used in these cases."
   ]
  },
  {
   "cell_type": "markdown",
   "id": "d334495e-39f1-4cfd-8868-bbab3c8b87db",
   "metadata": {},
   "source": [
    "**Precision** = TP / (TP + FP)\n",
    "\n",
    "**Recall** = TP / (TP + FN)"
   ]
  },
  {
   "cell_type": "markdown",
   "id": "240b6bac-83c5-4e55-a616-0b71357094cf",
   "metadata": {},
   "source": [
    "+ TP = 1\n",
    "+ TP + FN = the number of data points in class 1 = 10\n",
    "+ TN = 500\n",
    "+ FP + TN = the number of data points in class 0 = 1000\n",
    "    + FP = 100\n",
    "    + TN = 900\n",
    "\n",
    "Recall = 1/10 = TP-rate\n",
    "\n",
    "Precision = 1/(1 + 100)"
   ]
  },
  {
   "cell_type": "markdown",
   "id": "40e4906e-f52b-4eeb-b6c6-25ba5f0a0ef7",
   "metadata": {},
   "source": [
    "**Observations**\n",
    "\n",
    "Precision is the probability that a positive prediction is correct.\n",
    "\n",
    "Recall is the probability that a class-1 data point is correctly/positively predicted."
   ]
  },
  {
   "cell_type": "markdown",
   "id": "2d83c79c-2400-442a-85d8-0f046c625851",
   "metadata": {},
   "source": [
    "If we are interested in how good a model is in predicting class 1, then precision and recall together are reasonable/good metrics."
   ]
  },
  {
   "cell_type": "markdown",
   "id": "f6a8b46b-f364-4a2b-bdfd-c4738c9523d6",
   "metadata": {},
   "source": [
    "#### Case study 1\n",
    "\n",
    "An strategy for predicting admission to UCLA:\n",
    "+ if gre > 780 and rank > 2, return 1\n",
    "+ else, return 0"
   ]
  },
  {
   "cell_type": "markdown",
   "id": "2ae5c30c-a6bd-4ec7-8074-62ee5ac4a77a",
   "metadata": {},
   "source": [
    "This strategy will not make many FPs.  \n",
    "\n",
    "The goal of this strategy is that we want to make sure that positive predictions are correct.\n",
    "\n",
    "This means FP is low.\n",
    "\n",
    "This also means FN is high.\n",
    "\n",
    "Precision = TP / (TP + FP)  <--- THIS IS HIGH - 6/8\n",
    "\n",
    "Recall = TP / (TP + FN) <---- THIS IS LOW - 6 / (6 + 121)"
   ]
  },
  {
   "cell_type": "code",
   "execution_count": 68,
   "id": "70df76fd-6b04-4816-bd34-3bd980052945",
   "metadata": {},
   "outputs": [
    {
     "data": {
      "text/html": [
       "<div>\n",
       "<style scoped>\n",
       "    .dataframe tbody tr th:only-of-type {\n",
       "        vertical-align: middle;\n",
       "    }\n",
       "\n",
       "    .dataframe tbody tr th {\n",
       "        vertical-align: top;\n",
       "    }\n",
       "\n",
       "    .dataframe thead th {\n",
       "        text-align: right;\n",
       "    }\n",
       "</style>\n",
       "<table border=\"1\" class=\"dataframe\">\n",
       "  <thead>\n",
       "    <tr style=\"text-align: right;\">\n",
       "      <th></th>\n",
       "      <th>admit</th>\n",
       "      <th>gre</th>\n",
       "      <th>gpa</th>\n",
       "      <th>rank</th>\n",
       "    </tr>\n",
       "  </thead>\n",
       "  <tbody>\n",
       "    <tr>\n",
       "      <th>2</th>\n",
       "      <td>1</td>\n",
       "      <td>800</td>\n",
       "      <td>4.00</td>\n",
       "      <td>1</td>\n",
       "    </tr>\n",
       "    <tr>\n",
       "      <th>25</th>\n",
       "      <td>1</td>\n",
       "      <td>800</td>\n",
       "      <td>3.66</td>\n",
       "      <td>1</td>\n",
       "    </tr>\n",
       "    <tr>\n",
       "      <th>69</th>\n",
       "      <td>0</td>\n",
       "      <td>800</td>\n",
       "      <td>3.73</td>\n",
       "      <td>1</td>\n",
       "    </tr>\n",
       "    <tr>\n",
       "      <th>118</th>\n",
       "      <td>1</td>\n",
       "      <td>800</td>\n",
       "      <td>3.70</td>\n",
       "      <td>1</td>\n",
       "    </tr>\n",
       "    <tr>\n",
       "      <th>150</th>\n",
       "      <td>1</td>\n",
       "      <td>800</td>\n",
       "      <td>3.74</td>\n",
       "      <td>1</td>\n",
       "    </tr>\n",
       "    <tr>\n",
       "      <th>234</th>\n",
       "      <td>1</td>\n",
       "      <td>800</td>\n",
       "      <td>3.53</td>\n",
       "      <td>1</td>\n",
       "    </tr>\n",
       "    <tr>\n",
       "      <th>286</th>\n",
       "      <td>1</td>\n",
       "      <td>800</td>\n",
       "      <td>3.22</td>\n",
       "      <td>1</td>\n",
       "    </tr>\n",
       "    <tr>\n",
       "      <th>293</th>\n",
       "      <td>0</td>\n",
       "      <td>800</td>\n",
       "      <td>3.97</td>\n",
       "      <td>1</td>\n",
       "    </tr>\n",
       "  </tbody>\n",
       "</table>\n",
       "</div>"
      ],
      "text/plain": [
       "     admit  gre   gpa  rank\n",
       "2        1  800  4.00     1\n",
       "25       1  800  3.66     1\n",
       "69       0  800  3.73     1\n",
       "118      1  800  3.70     1\n",
       "150      1  800  3.74     1\n",
       "234      1  800  3.53     1\n",
       "286      1  800  3.22     1\n",
       "293      0  800  3.97     1"
      ]
     },
     "execution_count": 68,
     "metadata": {},
     "output_type": "execute_result"
    }
   ],
   "source": [
    "admission[ (admission.gre > 780) & (admission['rank'] < 2)]"
   ]
  },
  {
   "cell_type": "code",
   "execution_count": 69,
   "id": "2c50ab3b-0303-4227-8636-72c401c9e92d",
   "metadata": {},
   "outputs": [
    {
     "data": {
      "text/plain": [
       "0    273\n",
       "1    127\n",
       "Name: admit, dtype: int64"
      ]
     },
     "execution_count": 69,
     "metadata": {},
     "output_type": "execute_result"
    }
   ],
   "source": [
    "admission.admit.value_counts()"
   ]
  },
  {
   "cell_type": "code",
   "execution_count": 62,
   "id": "6f3d9389-1e53-42b8-859f-066f781d3b4d",
   "metadata": {},
   "outputs": [
    {
     "data": {
      "text/plain": [
       "<seaborn.axisgrid.FacetGrid at 0x7ff2a924dfa0>"
      ]
     },
     "execution_count": 62,
     "metadata": {},
     "output_type": "execute_result"
    },
    {
     "data": {
      "image/png": "[encoded data removed]",
      "text/plain": [
       "<Figure size 360x360 with 1 Axes>"
      ]
     },
     "metadata": {
      "needs_background": "light"
     },
     "output_type": "display_data"
    }
   ],
   "source": [
    "import seaborn\n",
    "seaborn.displot(data=admission, x='gre')"
   ]
  },
  {
   "cell_type": "markdown",
   "id": "2ed3bfd1-4d7b-4669-98f6-b229b1b61fa8",
   "metadata": {},
   "source": [
    "precision and recall is often a tradeoff when we compare classifiers."
   ]
  },
  {
   "cell_type": "code",
   "execution_count": null,
   "id": "6982e138-82cf-448d-b733-2eacc918fb03",
   "metadata": {},
   "outputs": [],
   "source": []
  }
 ],
 "metadata": {
  "kernelspec": {
   "display_name": "Python 3",
   "language": "python",
   "name": "python3"
  },
  "language_info": {
   "codemirror_mode": {
    "name": "ipython",
    "version": 3
   },
   "file_extension": ".py",
   "mimetype": "text/x-python",
   "name": "python",
   "nbconvert_exporter": "python",
   "pygments_lexer": "ipython3",
   "version": "3.8.8"
  }
 },
 "nbformat": 4,
 "nbformat_minor": 5
}
