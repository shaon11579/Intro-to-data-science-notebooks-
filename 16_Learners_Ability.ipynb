{
 "cells": [
  {
   "cell_type": "markdown",
   "id": "fb87c31b-e27a-489f-874a-993f1d6053d6",
   "metadata": {},
   "source": [
    "# Learner's Ability\n",
    "\n",
    "Concepts:\n",
    "+ Evaluation of (performance) ability to classify: accuracy, precision, recall, etc.\n",
    "+ Evaluation of ability to apply knowledge: training versus testing performance.\n",
    "+ Evaluation of assessment instruments\n",
    "+ Evaluation of experience\n",
    "+ The learning curve\n",
    "\n",
    "Learners (classification):\n",
    "+ Decision tree (non-linear decision making)\n",
    "+ Random forest (decision making with a committee)\n",
    "+ Support vector (linear separation)\n",
    "+ Naive Bayes (probabilistic prediction)\n",
    "\n",
    "Datasets\n",
    "+ iris, admission, cancer, diabetes"
   ]
  },
  {
   "cell_type": "markdown",
   "id": "2ea1dd83-ab93-43f6-b550-6d6a257cf6e6",
   "metadata": {},
   "source": [
    "### Evaluation of performance\n",
    "+ Accuracy = (TP + TN) / (TP + FP + TN + FN)\n",
    "\n",
    "+ Balanced accuracy = 0.5 * (TP/(TP + FN) + TN/(TN + FP)) = 0.5 * (tp-rate + tn-rate)\n",
    "    * TP + FN = all of data points in class 1.\n",
    "    * TN + FP = all of data points in class 0.\n",
    "    \n",
    "    \n",
    "+ Precision and recall\n",
    "    * Precision = TP / (TP + FP) = probability of a positive prediction being correct.\n",
    "    * Recall = TP / (TP + FN) = probability of class-1 data being correctly predicted.\n"
   ]
  },
  {
   "cell_type": "code",
   "execution_count": null,
   "id": "89290cf3-7f46-48e7-ab2d-0aa172b0dbe5",
   "metadata": {},
   "outputs": [],
   "source": []
  },
  {
   "cell_type": "code",
   "execution_count": 1,
   "id": "df27d71a-0a0c-418a-8e5a-cb51263731e8",
   "metadata": {},
   "outputs": [],
   "source": [
    "import pandas\n",
    "iris = pandas.read_csv('../Datasets/iris.csv')\n",
    "admission = pandas.read_csv('../Datasets/admission.csv')\n",
    "cancer = pandas.read_csv('../Datasets/breast-cancer-wisconsin.csv')\n",
    "diabetes = pandas.read_csv('../Datasets/diabetes.csv')"
   ]
  },
  {
   "cell_type": "code",
   "execution_count": 2,
   "id": "e9ee62c9-7a8e-4a16-bd46-4812c02a3417",
   "metadata": {},
   "outputs": [
    {
     "data": {
      "text/html": [
       "<div>\n",
       "<style scoped>\n",
       "    .dataframe tbody tr th:only-of-type {\n",
       "        vertical-align: middle;\n",
       "    }\n",
       "\n",
       "    .dataframe tbody tr th {\n",
       "        vertical-align: top;\n",
       "    }\n",
       "\n",
       "    .dataframe thead th {\n",
       "        text-align: right;\n",
       "    }\n",
       "</style>\n",
       "<table border=\"1\" class=\"dataframe\">\n",
       "  <thead>\n",
       "    <tr style=\"text-align: right;\">\n",
       "      <th></th>\n",
       "      <th>Pregnancies</th>\n",
       "      <th>Glucose</th>\n",
       "      <th>BloodPressure</th>\n",
       "      <th>SkinThickness</th>\n",
       "      <th>Insulin</th>\n",
       "      <th>BMI</th>\n",
       "      <th>DiabetesPedigreeFunction</th>\n",
       "      <th>Age</th>\n",
       "      <th>Outcome</th>\n",
       "    </tr>\n",
       "  </thead>\n",
       "  <tbody>\n",
       "    <tr>\n",
       "      <th>0</th>\n",
       "      <td>6</td>\n",
       "      <td>148</td>\n",
       "      <td>72</td>\n",
       "      <td>35</td>\n",
       "      <td>0</td>\n",
       "      <td>33.6</td>\n",
       "      <td>0.627</td>\n",
       "      <td>50</td>\n",
       "      <td>1</td>\n",
       "    </tr>\n",
       "    <tr>\n",
       "      <th>1</th>\n",
       "      <td>1</td>\n",
       "      <td>85</td>\n",
       "      <td>66</td>\n",
       "      <td>29</td>\n",
       "      <td>0</td>\n",
       "      <td>26.6</td>\n",
       "      <td>0.351</td>\n",
       "      <td>31</td>\n",
       "      <td>0</td>\n",
       "    </tr>\n",
       "    <tr>\n",
       "      <th>2</th>\n",
       "      <td>8</td>\n",
       "      <td>183</td>\n",
       "      <td>64</td>\n",
       "      <td>0</td>\n",
       "      <td>0</td>\n",
       "      <td>23.3</td>\n",
       "      <td>0.672</td>\n",
       "      <td>32</td>\n",
       "      <td>1</td>\n",
       "    </tr>\n",
       "    <tr>\n",
       "      <th>3</th>\n",
       "      <td>1</td>\n",
       "      <td>89</td>\n",
       "      <td>66</td>\n",
       "      <td>23</td>\n",
       "      <td>94</td>\n",
       "      <td>28.1</td>\n",
       "      <td>0.167</td>\n",
       "      <td>21</td>\n",
       "      <td>0</td>\n",
       "    </tr>\n",
       "    <tr>\n",
       "      <th>4</th>\n",
       "      <td>0</td>\n",
       "      <td>137</td>\n",
       "      <td>40</td>\n",
       "      <td>35</td>\n",
       "      <td>168</td>\n",
       "      <td>43.1</td>\n",
       "      <td>2.288</td>\n",
       "      <td>33</td>\n",
       "      <td>1</td>\n",
       "    </tr>\n",
       "    <tr>\n",
       "      <th>...</th>\n",
       "      <td>...</td>\n",
       "      <td>...</td>\n",
       "      <td>...</td>\n",
       "      <td>...</td>\n",
       "      <td>...</td>\n",
       "      <td>...</td>\n",
       "      <td>...</td>\n",
       "      <td>...</td>\n",
       "      <td>...</td>\n",
       "    </tr>\n",
       "    <tr>\n",
       "      <th>763</th>\n",
       "      <td>10</td>\n",
       "      <td>101</td>\n",
       "      <td>76</td>\n",
       "      <td>48</td>\n",
       "      <td>180</td>\n",
       "      <td>32.9</td>\n",
       "      <td>0.171</td>\n",
       "      <td>63</td>\n",
       "      <td>0</td>\n",
       "    </tr>\n",
       "    <tr>\n",
       "      <th>764</th>\n",
       "      <td>2</td>\n",
       "      <td>122</td>\n",
       "      <td>70</td>\n",
       "      <td>27</td>\n",
       "      <td>0</td>\n",
       "      <td>36.8</td>\n",
       "      <td>0.340</td>\n",
       "      <td>27</td>\n",
       "      <td>0</td>\n",
       "    </tr>\n",
       "    <tr>\n",
       "      <th>765</th>\n",
       "      <td>5</td>\n",
       "      <td>121</td>\n",
       "      <td>72</td>\n",
       "      <td>23</td>\n",
       "      <td>112</td>\n",
       "      <td>26.2</td>\n",
       "      <td>0.245</td>\n",
       "      <td>30</td>\n",
       "      <td>0</td>\n",
       "    </tr>\n",
       "    <tr>\n",
       "      <th>766</th>\n",
       "      <td>1</td>\n",
       "      <td>126</td>\n",
       "      <td>60</td>\n",
       "      <td>0</td>\n",
       "      <td>0</td>\n",
       "      <td>30.1</td>\n",
       "      <td>0.349</td>\n",
       "      <td>47</td>\n",
       "      <td>1</td>\n",
       "    </tr>\n",
       "    <tr>\n",
       "      <th>767</th>\n",
       "      <td>1</td>\n",
       "      <td>93</td>\n",
       "      <td>70</td>\n",
       "      <td>31</td>\n",
       "      <td>0</td>\n",
       "      <td>30.4</td>\n",
       "      <td>0.315</td>\n",
       "      <td>23</td>\n",
       "      <td>0</td>\n",
       "    </tr>\n",
       "  </tbody>\n",
       "</table>\n",
       "<p>768 rows × 9 columns</p>\n",
       "</div>"
      ],
      "text/plain": [
       "     Pregnancies  Glucose  BloodPressure  SkinThickness  Insulin   BMI  \\\n",
       "0              6      148             72             35        0  33.6   \n",
       "1              1       85             66             29        0  26.6   \n",
       "2              8      183             64              0        0  23.3   \n",
       "3              1       89             66             23       94  28.1   \n",
       "4              0      137             40             35      168  43.1   \n",
       "..           ...      ...            ...            ...      ...   ...   \n",
       "763           10      101             76             48      180  32.9   \n",
       "764            2      122             70             27        0  36.8   \n",
       "765            5      121             72             23      112  26.2   \n",
       "766            1      126             60              0        0  30.1   \n",
       "767            1       93             70             31        0  30.4   \n",
       "\n",
       "     DiabetesPedigreeFunction  Age  Outcome  \n",
       "0                       0.627   50        1  \n",
       "1                       0.351   31        0  \n",
       "2                       0.672   32        1  \n",
       "3                       0.167   21        0  \n",
       "4                       2.288   33        1  \n",
       "..                        ...  ...      ...  \n",
       "763                     0.171   63        0  \n",
       "764                     0.340   27        0  \n",
       "765                     0.245   30        0  \n",
       "766                     0.349   47        1  \n",
       "767                     0.315   23        0  \n",
       "\n",
       "[768 rows x 9 columns]"
      ]
     },
     "execution_count": 2,
     "metadata": {},
     "output_type": "execute_result"
    }
   ],
   "source": [
    "diabetes"
   ]
  },
  {
   "cell_type": "code",
   "execution_count": 3,
   "id": "840a31a4-813e-4b95-857b-4f1a8c340a81",
   "metadata": {},
   "outputs": [],
   "source": [
    "from sklearn.model_selection import ShuffleSplit, cross_validate\n",
    "from sklearn.tree import DecisionTreeClassifier\n",
    "from sklearn.ensemble import RandomForestClassifier\n",
    "from sklearn.svm import SVC\n",
    "from sklearn.naive_bayes import GaussianNB"
   ]
  },
  {
   "cell_type": "code",
   "execution_count": 9,
   "id": "b2731801-f4d7-42c0-9459-07b8df5d5883",
   "metadata": {},
   "outputs": [],
   "source": [
    "cv = ShuffleSplit(n_splits=100, train_size=0.9)"
   ]
  },
  {
   "cell_type": "code",
   "execution_count": 10,
   "id": "efb258dc-5b6b-4bd4-9acf-1e0d90e3319f",
   "metadata": {},
   "outputs": [],
   "source": [
    "model1 = DecisionTreeClassifier()\n",
    "model2 = RandomForestClassifier()\n",
    "model3 = SVC(kernel='linear')\n",
    "model4 = GaussianNB()"
   ]
  },
  {
   "cell_type": "code",
   "execution_count": 35,
   "id": "d52c3804-05e0-45d1-ad7c-c613b1211b72",
   "metadata": {},
   "outputs": [],
   "source": [
    "def assess_performance(mod, X, y):\n",
    "#     result = cross_validate(mod, X, y, cv=cv, scoring=['accuracy','precision','recall'])\n",
    "    result = cross_validate(mod, X, y, cv=cv, scoring=['accuracy'])\n",
    "    print('Model', mod)\n",
    "    print('\\tAccuracy: {} {}'.format(result['test_accuracy'].mean().round(2), result['test_accuracy'].std().round(2)))\n",
    "#     print('\\tPrecision: {} {}'.format(result['test_precision'].mean().round(2), result['test_precision'].std().round(2)))\n",
    "#     print('\\tRecall: {} {}'.format(result['test_recall'].mean().round(2), result['test_recall'].std().round(2)))    "
   ]
  },
  {
   "cell_type": "code",
   "execution_count": 12,
   "id": "2e556b10-2dab-449e-ae23-8cbd0830400f",
   "metadata": {},
   "outputs": [
    {
     "name": "stdout",
     "output_type": "stream",
     "text": [
      "Model DecisionTreeClassifier()\n",
      "\tAccuracy: 0.62 0.08\n",
      "\tPrecision: 0.38 0.13\n",
      "\tRecall: 0.39 0.15\n"
     ]
    }
   ],
   "source": [
    "X = admission.drop(columns=['admit'])\n",
    "y = admission.admit\n",
    "assess_performance(model1, X, y)\n"
   ]
  },
  {
   "cell_type": "code",
   "execution_count": 15,
   "id": "8aeb1ea9-fede-4c45-b28a-dfb58d626957",
   "metadata": {},
   "outputs": [],
   "source": [
    "from dtreeviz.trees import dtreeviz"
   ]
  },
  {
   "cell_type": "code",
   "execution_count": 22,
   "id": "3b6bfb7a-24a7-44b5-87d7-0fcf1db4b7be",
   "metadata": {},
   "outputs": [],
   "source": [
    "model1.fit(X,y)\n",
    "viz = dtreeviz(model1, X, y, feature_names=X.columns, fancy=False,\n",
    "              X=[650,3.5,1])  \n",
    "viz.view() "
   ]
  },
  {
   "cell_type": "code",
   "execution_count": 19,
   "id": "8d021aaf-2980-4d33-92f0-9cd0b40e9bc2",
   "metadata": {},
   "outputs": [
    {
     "data": {
      "text/html": [
       "<div>\n",
       "<style scoped>\n",
       "    .dataframe tbody tr th:only-of-type {\n",
       "        vertical-align: middle;\n",
       "    }\n",
       "\n",
       "    .dataframe tbody tr th {\n",
       "        vertical-align: top;\n",
       "    }\n",
       "\n",
       "    .dataframe thead th {\n",
       "        text-align: right;\n",
       "    }\n",
       "</style>\n",
       "<table border=\"1\" class=\"dataframe\">\n",
       "  <thead>\n",
       "    <tr style=\"text-align: right;\">\n",
       "      <th></th>\n",
       "      <th>admit</th>\n",
       "      <th>gre</th>\n",
       "      <th>gpa</th>\n",
       "      <th>rank</th>\n",
       "    </tr>\n",
       "  </thead>\n",
       "  <tbody>\n",
       "    <tr>\n",
       "      <th>21</th>\n",
       "      <td>1</td>\n",
       "      <td>660</td>\n",
       "      <td>3.63</td>\n",
       "      <td>2</td>\n",
       "    </tr>\n",
       "  </tbody>\n",
       "</table>\n",
       "</div>"
      ],
      "text/plain": [
       "    admit  gre   gpa  rank\n",
       "21      1  660  3.63     2"
      ]
     },
     "execution_count": 19,
     "metadata": {},
     "output_type": "execute_result"
    }
   ],
   "source": [
    "admission.sample()"
   ]
  },
  {
   "cell_type": "markdown",
   "id": "bb46fa42-f53a-403a-bb05-33026fdc6c41",
   "metadata": {},
   "source": [
    "It might not generalize well enough.\n",
    "+ Some leaf (prediction outcome) has only 1 sample.\n",
    "+ Having 1 sample defines a rule might be too specific.\n",
    "+ A long decision path suggests that the decision is too complicated.\n"
   ]
  },
  {
   "cell_type": "code",
   "execution_count": 24,
   "id": "f78f2e12-0ab3-460c-8129-39552e4eaa85",
   "metadata": {},
   "outputs": [
    {
     "name": "stdout",
     "output_type": "stream",
     "text": [
      "Model DecisionTreeClassifier(max_depth=5, min_samples_leaf=5)\n",
      "\tAccuracy: 0.67 0.08\n",
      "\tPrecision: 0.47 0.22\n",
      "\tRecall: 0.26 0.13\n"
     ]
    }
   ],
   "source": [
    "model1 = DecisionTreeClassifier(max_depth=5, min_samples_leaf=5)\n",
    "X = admission.drop(columns=['admit'])\n",
    "y = admission.admit\n",
    "assess_performance(model1, X, y)"
   ]
  },
  {
   "cell_type": "code",
   "execution_count": 26,
   "id": "2a093c89-e97b-479d-a1e5-a932d70a3b4d",
   "metadata": {},
   "outputs": [],
   "source": [
    "model1.fit(X,y)\n",
    "viz = dtreeviz(model1, X, y, feature_names=X.columns, fancy=False,\n",
    "              X=[650,3.5,1])  \n",
    "viz.view() "
   ]
  },
  {
   "cell_type": "markdown",
   "id": "82411758-6ddd-4e7d-9e40-60ce1d972175",
   "metadata": {},
   "source": [
    "#### Random forest"
   ]
  },
  {
   "cell_type": "markdown",
   "id": "d862ca7d-36b3-4877-89c2-20b78bef4d26",
   "metadata": {},
   "source": [
    "#### Cancer dataset"
   ]
  },
  {
   "cell_type": "code",
   "execution_count": 31,
   "id": "8fc48d83-e280-42f4-80e0-71bbab369ae1",
   "metadata": {},
   "outputs": [],
   "source": [
    "X = cancer.drop(columns=['id','class'])\n",
    "y = cancer['class']"
   ]
  },
  {
   "cell_type": "code",
   "execution_count": 36,
   "id": "bdf2fd94-ff2b-4562-89d3-31f17e6d5796",
   "metadata": {},
   "outputs": [
    {
     "name": "stdout",
     "output_type": "stream",
     "text": [
      "Model DecisionTreeClassifier(max_depth=5, min_samples_leaf=5)\n",
      "\tAccuracy: 0.96 0.02\n"
     ]
    }
   ],
   "source": [
    "assess_performance(model1, X, y)"
   ]
  },
  {
   "cell_type": "code",
   "execution_count": 37,
   "id": "474b1fb1-fc71-4122-8fa1-e74cef64e044",
   "metadata": {},
   "outputs": [
    {
     "name": "stdout",
     "output_type": "stream",
     "text": [
      "Model RandomForestClassifier(max_depth=5, min_samples_leaf=5)\n",
      "\tAccuracy: 0.97 0.02\n"
     ]
    }
   ],
   "source": [
    "assess_performance(model2, X, y)\n"
   ]
  },
  {
   "cell_type": "code",
   "execution_count": 38,
   "id": "56f8cdb4-e855-4728-b254-6a736645bf5f",
   "metadata": {},
   "outputs": [
    {
     "data": {
      "text/plain": [
       "2    0.650073\n",
       "4    0.349927\n",
       "Name: class, dtype: float64"
      ]
     },
     "execution_count": 38,
     "metadata": {},
     "output_type": "execute_result"
    }
   ],
   "source": [
    "cancer['class'].value_counts(1)"
   ]
  },
  {
   "cell_type": "code",
   "execution_count": 41,
   "id": "9a42702c-3827-4774-aa67-8b4c6380194b",
   "metadata": {},
   "outputs": [
    {
     "name": "stdout",
     "output_type": "stream",
     "text": [
      "Model SVC(kernel='linear')\n",
      "\tAccuracy: 0.97 0.02\n"
     ]
    }
   ],
   "source": [
    "assess_performance(model3, X, y)"
   ]
  },
  {
   "cell_type": "code",
   "execution_count": 40,
   "id": "a1f445b8-b7eb-44bb-a2fe-079a44a40908",
   "metadata": {},
   "outputs": [
    {
     "name": "stdout",
     "output_type": "stream",
     "text": [
      "Model GaussianNB()\n",
      "\tAccuracy: 0.96 0.02\n"
     ]
    }
   ],
   "source": [
    "assess_performance(model4, X, y)"
   ]
  },
  {
   "cell_type": "code",
   "execution_count": 42,
   "id": "3ff99276-a45c-4689-8b43-61777383a773",
   "metadata": {},
   "outputs": [],
   "source": [
    "import lcplot"
   ]
  },
  {
   "cell_type": "code",
   "execution_count": 47,
   "id": "21139718-60b2-4466-98bc-ef34352f35ce",
   "metadata": {},
   "outputs": [
    {
     "name": "stdout",
     "output_type": "stream",
     "text": [
      "Cross validator: KFold(n_splits=5, random_state=None, shuffle=True)\n"
     ]
    },
    {
     "data": {
      "text/plain": [
       "<module 'matplotlib.pyplot' from '/Users/vphan/opt/anaconda3/lib/python3.8/site-packages/matplotlib/pyplot.py'>"
      ]
     },
     "execution_count": 47,
     "metadata": {},
     "output_type": "execute_result"
    },
    {
     "data": {
      "image/png": "[encoded data removed]",
      "text/plain": [
       "<Figure size 432x288 with 1 Axes>"
      ]
     },
     "metadata": {
      "needs_background": "light"
     },
     "output_type": "display_data"
    }
   ],
   "source": [
    "lcplot.plot(model1, X, y)"
   ]
  },
  {
   "cell_type": "code",
   "execution_count": 48,
   "id": "71085985-dd7f-4ad6-9e8d-52ba7e576f8f",
   "metadata": {},
   "outputs": [
    {
     "name": "stdout",
     "output_type": "stream",
     "text": [
      "Cross validator: ShuffleSplit(n_splits=100, random_state=None, test_size=None, train_size=0.9)\n"
     ]
    },
    {
     "data": {
      "text/plain": [
       "<module 'matplotlib.pyplot' from '/Users/vphan/opt/anaconda3/lib/python3.8/site-packages/matplotlib/pyplot.py'>"
      ]
     },
     "execution_count": 48,
     "metadata": {},
     "output_type": "execute_result"
    },
    {
     "data": {
      "image/png": "[encoded data removed]",
      "text/plain": [
       "<Figure size 432x288 with 1 Axes>"
      ]
     },
     "metadata": {
      "needs_background": "light"
     },
     "output_type": "display_data"
    }
   ],
   "source": [
    "lcplot.plot(model1, X, y, cv=cv)"
   ]
  },
  {
   "cell_type": "markdown",
   "id": "d8b62f10-7088-43b7-aa99-f982b1224066",
   "metadata": {},
   "source": [
    "Observations:\n",
    "+ Training scores are higher than testing scores.\n",
    "\n",
    "+ The difference between the training scores and testing scores indicates how much the learner can apply the knowledge.\n",
    "\n",
    "+ When training size increases, (have more data/experience), performance should be higher.\n",
    "\n"
   ]
  },
  {
   "cell_type": "code",
   "execution_count": 49,
   "id": "59aaaf04-ca2d-4a37-83dd-69433286f358",
   "metadata": {},
   "outputs": [
    {
     "name": "stdout",
     "output_type": "stream",
     "text": [
      "Cross validator: KFold(n_splits=5, random_state=None, shuffle=True)\n"
     ]
    },
    {
     "data": {
      "text/plain": [
       "<module 'matplotlib.pyplot' from '/Users/vphan/opt/anaconda3/lib/python3.8/site-packages/matplotlib/pyplot.py'>"
      ]
     },
     "execution_count": 49,
     "metadata": {},
     "output_type": "execute_result"
    },
    {
     "data": {
      "image/png": "[encoded data removed]",
      "text/plain": [
       "<Figure size 432x288 with 1 Axes>"
      ]
     },
     "metadata": {
      "needs_background": "light"
     },
     "output_type": "display_data"
    }
   ],
   "source": [
    "lcplot.plot(model3, X, y)"
   ]
  },
  {
   "cell_type": "code",
   "execution_count": 50,
   "id": "ba6d0c74-e380-42b2-9596-4d5b074076a0",
   "metadata": {},
   "outputs": [
    {
     "name": "stdout",
     "output_type": "stream",
     "text": [
      "Cross validator: ShuffleSplit(n_splits=100, random_state=None, test_size=None, train_size=0.9)\n"
     ]
    },
    {
     "data": {
      "text/plain": [
       "<module 'matplotlib.pyplot' from '/Users/vphan/opt/anaconda3/lib/python3.8/site-packages/matplotlib/pyplot.py'>"
      ]
     },
     "execution_count": 50,
     "metadata": {},
     "output_type": "execute_result"
    },
    {
     "data": {
      "image/png": "[encoded data removed]",
      "text/plain": [
       "<Figure size 432x288 with 1 Axes>"
      ]
     },
     "metadata": {
      "needs_background": "light"
     },
     "output_type": "display_data"
    }
   ],
   "source": [
    "lcplot.plot(model3, X, y, cv=cv)"
   ]
  },
  {
   "cell_type": "markdown",
   "id": "626aed8b-b5e2-4a6f-86b8-04c8e6011791",
   "metadata": {},
   "source": [
    "+ When the assessment instrument is appropriate, learning performance is smoother.\n",
    "\n",
    "+ Training score decreases training size increases.\n",
    "\n",
    "+ Testing score increases as training size increases.\n",
    "\n",
    "+ With increasing data/experience, training becomes harder. But you'll perform better when you see new data."
   ]
  },
  {
   "cell_type": "markdown",
   "id": "ec409d22-b6ce-464c-8c49-a6014ffe83b6",
   "metadata": {},
   "source": [
    "The learner achieves mastery when the red line (training score) and green line (testing score) converge."
   ]
  },
  {
   "cell_type": "code",
   "execution_count": 51,
   "id": "f2a30c5f-0692-40f5-b0cc-3a0638f117d0",
   "metadata": {},
   "outputs": [
    {
     "name": "stdout",
     "output_type": "stream",
     "text": [
      "Model SVC(kernel='linear')\n",
      "\tAccuracy: 0.97 0.02\n"
     ]
    }
   ],
   "source": [
    "assess_performance(model3, X, y)"
   ]
  },
  {
   "cell_type": "code",
   "execution_count": null,
   "id": "48f0dd96-e9cd-43df-bdbb-a56b8c5fc264",
   "metadata": {},
   "outputs": [],
   "source": []
  }
 ],
 "metadata": {
  "kernelspec": {
   "display_name": "Python 3",
   "language": "python",
   "name": "python3"
  },
  "language_info": {
   "codemirror_mode": {
    "name": "ipython",
    "version": 3
   },
   "file_extension": ".py",
   "mimetype": "text/x-python",
   "name": "python",
   "nbconvert_exporter": "python",
   "pygments_lexer": "ipython3",
   "version": "3.8.8"
  }
 },
 "nbformat": 4,
 "nbformat_minor": 5
}
