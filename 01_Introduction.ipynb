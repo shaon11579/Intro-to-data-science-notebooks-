{
 "cells": [
  {
   "cell_type": "markdown",
   "metadata": {},
   "source": [
    "# Welcome to COMP 4151 / 6151, Fall 2021\n",
    "\n",
    "* Intro\n",
    "    + Know where to get course materials: eLearn\n",
    "    + Do you have the prerequisites?\n",
    "    + Expectations from students.\n",
    "    + Communicate your expectations.\n",
    "    + How lectures take place.\n",
    "* Anaconda, Jupyter lab\n",
    "\n",
    "Learning objectives:\n",
    "* Know how to use Jupyter lab and Jupyter notebooks\n",
    "* Understand basic concepts about Jupyter notebooks.\n",
    "    * Blocks\n",
    "    * HTML, Markdown\n",
    "    * Python"
   ]
  },
  {
   "cell_type": "markdown",
   "metadata": {},
   "source": [
    "# Key concepts for Jupyter notebooks\n",
    "\n",
    "+ Code block (Python) versus text block (Markdown)\n",
    "+ Syntax for text blocks\n",
    "    + Headings (#)\n",
    "    + Lists (+ or *)\n",
    "+ Syntax for code blocks\n",
    "    + Python\n",
    "+ How to execute a block\n",
    "+ Keyboard shortcuts\n",
    "    + Shift + Return -- execute block\n",
    "    + Esc + M -- change block to Markdown (text)\n",
    "    + Esc + Y -- change block to Python (code)"
   ]
  },
  {
   "cell_type": "code",
   "execution_count": null,
   "metadata": {},
   "outputs": [],
   "source": []
  }
 ],
 "metadata": {
  "kernelspec": {
   "display_name": "Python 3",
   "language": "python",
   "name": "python3"
  },
  "language_info": {
   "codemirror_mode": {
    "name": "ipython",
    "version": 3
   },
   "file_extension": ".py",
   "mimetype": "text/x-python",
   "name": "python",
   "nbconvert_exporter": "python",
   "pygments_lexer": "ipython3",
   "version": "3.8.8"
  }
 },
 "nbformat": 4,
 "nbformat_minor": 4
}
