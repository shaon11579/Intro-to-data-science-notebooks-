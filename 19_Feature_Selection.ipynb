{
 "cells": [
  {
   "cell_type": "markdown",
   "id": "5a469022-a49d-43d9-9af9-70b3a6a021c5",
   "metadata": {},
   "source": [
    "# Feature Selection"
   ]
  },
  {
   "cell_type": "markdown",
   "id": "b902ad69-1d60-42f9-a133-35c66e4a1f42",
   "metadata": {},
   "source": [
    "+ VarianceThreshold: X only\n",
    "+ chi2: dependency between X and y.\n",
    "+ SelectKBest, SelectPercentile\n",
    "+ SelectFromModel\n",
    "    * Linear: SVC\n",
    "    * Nonlinear: RandomForest\n"
   ]
  },
  {
   "cell_type": "markdown",
   "id": "8f26398a-490c-449d-af0e-40a558692792",
   "metadata": {},
   "source": [
    "So far, we fit data into SVC and tree models.  After fitting, we have some ideas which features are important.\n",
    "\n",
    "SVC may decide that one feature is most important, while RF might decide that another feature is most important."
   ]
  },
  {
   "cell_type": "markdown",
   "id": "5395834a-5171-4e35-ac7d-ce59e7a220cf",
   "metadata": {},
   "source": [
    "Here's different scenario.\n",
    "\n",
    "Before we do any modeling, we might interested in selecting only important features to model."
   ]
  },
  {
   "cell_type": "markdown",
   "id": "552e93d5-13ca-4134-b850-095976bce143",
   "metadata": {},
   "source": [
    "### Using models to select features\n",
    "\n",
    "This seems like putting a horse in front of the carriage.  But it has some value.  For example, we want to use model A for selecting important features, then use model B to actually model the relationship between those features and y."
   ]
  },
  {
   "cell_type": "code",
   "execution_count": 23,
   "id": "c2a44db1-2b39-480d-a70b-c952a928fc8f",
   "metadata": {},
   "outputs": [],
   "source": [
    "from sklearn.svm import LinearSVC\n",
    "from sklearn.ensemble import RandomForestClassifier\n",
    "from sklearn.model_selection import ShuffleSplit, cross_validate\n",
    "import pandas\n",
    "\n",
    "heart = pandas.read_csv('../Datasets/heart.csv')\n",
    "X, y = heart.drop(columns='target'), heart['target']\n",
    "\n",
    "rf = RandomForestClassifier(max_depth=13)\n",
    "svm = LinearSVC(dual=False)"
   ]
  },
  {
   "cell_type": "code",
   "execution_count": 24,
   "id": "f70917a6-8605-4ba0-a9a0-a9439132528f",
   "metadata": {},
   "outputs": [
    {
     "data": {
      "text/html": [
       "<div>\n",
       "<style scoped>\n",
       "    .dataframe tbody tr th:only-of-type {\n",
       "        vertical-align: middle;\n",
       "    }\n",
       "\n",
       "    .dataframe tbody tr th {\n",
       "        vertical-align: top;\n",
       "    }\n",
       "\n",
       "    .dataframe thead th {\n",
       "        text-align: right;\n",
       "    }\n",
       "</style>\n",
       "<table border=\"1\" class=\"dataframe\">\n",
       "  <thead>\n",
       "    <tr style=\"text-align: right;\">\n",
       "      <th></th>\n",
       "      <th>age</th>\n",
       "      <th>sex</th>\n",
       "      <th>cp</th>\n",
       "      <th>trestbps</th>\n",
       "      <th>chol</th>\n",
       "      <th>fbs</th>\n",
       "      <th>restecg</th>\n",
       "      <th>thalach</th>\n",
       "      <th>exang</th>\n",
       "      <th>oldpeak</th>\n",
       "      <th>slope</th>\n",
       "      <th>ca</th>\n",
       "      <th>thal</th>\n",
       "      <th>target</th>\n",
       "    </tr>\n",
       "  </thead>\n",
       "  <tbody>\n",
       "    <tr>\n",
       "      <th>235</th>\n",
       "      <td>51</td>\n",
       "      <td>1</td>\n",
       "      <td>0</td>\n",
       "      <td>140</td>\n",
       "      <td>299</td>\n",
       "      <td>0</td>\n",
       "      <td>1</td>\n",
       "      <td>173</td>\n",
       "      <td>1</td>\n",
       "      <td>1.6</td>\n",
       "      <td>2</td>\n",
       "      <td>0</td>\n",
       "      <td>3</td>\n",
       "      <td>0</td>\n",
       "    </tr>\n",
       "  </tbody>\n",
       "</table>\n",
       "</div>"
      ],
      "text/plain": [
       "     age  sex  cp  trestbps  chol  fbs  restecg  thalach  exang  oldpeak  \\\n",
       "235   51    1   0       140   299    0        1      173      1      1.6   \n",
       "\n",
       "     slope  ca  thal  target  \n",
       "235      2   0     3       0  "
      ]
     },
     "execution_count": 24,
     "metadata": {},
     "output_type": "execute_result"
    }
   ],
   "source": [
    "heart.sample()"
   ]
  },
  {
   "cell_type": "code",
   "execution_count": 25,
   "id": "43a56907-2ef7-4235-ab8a-f752f13c07be",
   "metadata": {},
   "outputs": [],
   "source": [
    "def evaluate(model, X, y, scoring=['accuracy'], random_state=2021):\n",
    "    result = cross_validate(\n",
    "        model, \n",
    "        X, \n",
    "        y, \n",
    "        cv=ShuffleSplit(n_splits=50, random_state=random_state), \n",
    "        scoring=scoring)\n",
    "    print(model)\n",
    "    for s in scoring:\n",
    "        print('\\t', s, result['test_' + s].mean().round(2))"
   ]
  },
  {
   "cell_type": "code",
   "execution_count": 26,
   "id": "bfafc224-3ded-46a5-ba0f-05516cccddc2",
   "metadata": {},
   "outputs": [
    {
     "name": "stdout",
     "output_type": "stream",
     "text": [
      "RandomForestClassifier(max_depth=13)\n",
      "\t precision 0.85\n",
      "\t recall 0.85\n"
     ]
    }
   ],
   "source": [
    "evaluate(rf, X, y, scoring=['precision','recall'])"
   ]
  },
  {
   "cell_type": "code",
   "execution_count": 27,
   "id": "00dd8ce2-3eb9-4923-9fdb-1b2ecd082d57",
   "metadata": {},
   "outputs": [
    {
     "name": "stdout",
     "output_type": "stream",
     "text": [
      "LinearSVC(dual=False)\n",
      "\t precision 0.83\n",
      "\t recall 0.9\n"
     ]
    }
   ],
   "source": [
    "evaluate(svm, X, y, scoring=['precision','recall'])"
   ]
  },
  {
   "cell_type": "markdown",
   "id": "ef658235-d7ee-4e6d-be7b-8f074b20755e",
   "metadata": {},
   "source": [
    "#### Use a model to select the best features"
   ]
  },
  {
   "cell_type": "markdown",
   "id": "db59cb04-44c3-4609-bf44-1365cbc50bca",
   "metadata": {},
   "source": [
    "##### Random forest"
   ]
  },
  {
   "cell_type": "code",
   "execution_count": 28,
   "id": "022e4b4c-7202-47fa-83a5-b165a2857bc5",
   "metadata": {},
   "outputs": [
    {
     "data": {
      "text/plain": [
       "RandomForestClassifier(max_depth=13)"
      ]
     },
     "execution_count": 28,
     "metadata": {},
     "output_type": "execute_result"
    }
   ],
   "source": [
    "rf.fit(X,y)"
   ]
  },
  {
   "cell_type": "code",
   "execution_count": 29,
   "id": "1f0dab4c-29f6-48ef-9b3e-8457e6b39caf",
   "metadata": {},
   "outputs": [
    {
     "data": {
      "text/plain": [
       "[(0.00916059488261722, 'fbs'),\n",
       " (0.018786321110094487, 'restecg'),\n",
       " (0.036717859331490695, 'sex'),\n",
       " (0.04572415122476997, 'slope'),\n",
       " (0.06215571863827391, 'exang'),\n",
       " (0.06793606794082686, 'trestbps'),\n",
       " (0.07738950730925795, 'chol'),\n",
       " (0.08239387086479656, 'age'),\n",
       " (0.10729933839957514, 'ca'),\n",
       " (0.11259657808474526, 'thalach'),\n",
       " (0.12299441195696631, 'thal'),\n",
       " (0.12371563119211523, 'oldpeak'),\n",
       " (0.13312994906447023, 'cp')]"
      ]
     },
     "execution_count": 29,
     "metadata": {},
     "output_type": "execute_result"
    }
   ],
   "source": [
    "sorted(list(zip(rf.feature_importances_, X.columns)))"
   ]
  },
  {
   "cell_type": "code",
   "execution_count": 30,
   "id": "9b5c1373-dc9f-45c0-92f2-5eda7e25563a",
   "metadata": {},
   "outputs": [],
   "source": [
    "from sklearn.feature_selection import SelectKBest, SelectFromModel, RFE"
   ]
  },
  {
   "cell_type": "code",
   "execution_count": 31,
   "id": "0d059eba-c99a-4013-93af-4d04544c5bd7",
   "metadata": {},
   "outputs": [
    {
     "data": {
      "text/plain": [
       "SelectFromModel(estimator=RandomForestClassifier(max_depth=13), max_features=7)"
      ]
     },
     "execution_count": 31,
     "metadata": {},
     "output_type": "execute_result"
    }
   ],
   "source": [
    "selector = SelectFromModel(rf, max_features=7)\n",
    "selector.fit(X,y)"
   ]
  },
  {
   "cell_type": "code",
   "execution_count": 32,
   "id": "b0775034-151e-4912-bec9-4d68cfae2148",
   "metadata": {},
   "outputs": [
    {
     "data": {
      "text/plain": [
       "Index(['age', 'cp', 'chol', 'thalach', 'oldpeak', 'ca', 'thal'], dtype='object')"
      ]
     },
     "execution_count": 32,
     "metadata": {},
     "output_type": "execute_result"
    }
   ],
   "source": [
    "X.columns[selector.get_support()]"
   ]
  },
  {
   "cell_type": "markdown",
   "id": "5136620c-4e13-43f7-9843-9d5979592913",
   "metadata": {},
   "source": [
    "##### SVM"
   ]
  },
  {
   "cell_type": "code",
   "execution_count": 33,
   "id": "8f99308b-fb84-4c02-abfc-4bafc8ffb1be",
   "metadata": {},
   "outputs": [
    {
     "data": {
      "text/plain": [
       "LinearSVC(dual=False)"
      ]
     },
     "execution_count": 33,
     "metadata": {},
     "output_type": "execute_result"
    }
   ],
   "source": [
    "svm.fit(X,y)"
   ]
  },
  {
   "cell_type": "code",
   "execution_count": 34,
   "id": "69d029b7-c153-4546-bc6f-bf11bce86375",
   "metadata": {},
   "outputs": [
    {
     "data": {
      "text/plain": [
       "[(0.0010934104117581937, 'age'),\n",
       " (0.0012397707218213215, 'chol'),\n",
       " (0.005929552053704565, 'trestbps'),\n",
       " (0.008478519872121868, 'thalach'),\n",
       " (0.024982318480280725, 'fbs'),\n",
       " (0.1385515300590859, 'restecg'),\n",
       " (0.17456640443215402, 'slope'),\n",
       " (0.18410588936592262, 'oldpeak'),\n",
       " (0.26368840093704143, 'ca'),\n",
       " (0.2890859571879028, 'cp'),\n",
       " (0.29737642911403755, 'thal'),\n",
       " (0.320594904609055, 'exang'),\n",
       " (0.5187292826436363, 'sex')]"
      ]
     },
     "execution_count": 34,
     "metadata": {},
     "output_type": "execute_result"
    }
   ],
   "source": [
    "import numpy\n",
    "\n",
    "sorted(list(zip(numpy.abs(svm.coef_[0]), X.columns)))"
   ]
  },
  {
   "cell_type": "code",
   "execution_count": 35,
   "id": "557a155e-dac3-405b-857f-31f705b539c8",
   "metadata": {},
   "outputs": [
    {
     "name": "stdout",
     "output_type": "stream",
     "text": [
      "[False  True  True False False False False False  True  True  True  True\n",
      "  True]\n",
      "Index(['sex', 'cp', 'exang', 'oldpeak', 'slope', 'ca', 'thal'], dtype='object')\n"
     ]
    }
   ],
   "source": [
    "selector = SelectFromModel(svm, max_features=7)\n",
    "selector.fit(X,y)\n",
    "features = X.columns[selector.get_support()]\n",
    "print(selector.get_support())\n",
    "print(features)"
   ]
  },
  {
   "cell_type": "code",
   "execution_count": 36,
   "id": "3db197c2-0187-4a3d-93c2-27335ba19267",
   "metadata": {},
   "outputs": [],
   "source": [
    "X2=X[features]"
   ]
  },
  {
   "cell_type": "code",
   "execution_count": 37,
   "id": "d0df46bc-de6e-40bc-a49b-6e69d959d8ff",
   "metadata": {},
   "outputs": [
    {
     "data": {
      "text/plain": [
       "RandomForestClassifier(max_depth=13)"
      ]
     },
     "execution_count": 37,
     "metadata": {},
     "output_type": "execute_result"
    }
   ],
   "source": [
    "rf.fit(X2,y)"
   ]
  },
  {
   "cell_type": "code",
   "execution_count": 38,
   "id": "e7d88d64-9697-473b-92aa-45fb63377f64",
   "metadata": {
    "scrolled": true
   },
   "outputs": [
    {
     "name": "stdout",
     "output_type": "stream",
     "text": [
      "RandomForestClassifier(max_depth=13)\n",
      "\t precision 0.82\n",
      "\t recall 0.83\n"
     ]
    }
   ],
   "source": [
    "evaluate(rf, X2, y, scoring=['precision', 'recall'])"
   ]
  },
  {
   "cell_type": "markdown",
   "id": "07013a08",
   "metadata": {},
   "source": [
    "#### Practice"
   ]
  },
  {
   "cell_type": "code",
   "execution_count": 39,
   "id": "2cc0e9d7",
   "metadata": {
    "scrolled": true
   },
   "outputs": [
    {
     "name": "stdout",
     "output_type": "stream",
     "text": [
      "LinearSVC(dual=False)\n",
      "\t precision 0.83\n",
      "\t recall 0.9\n"
     ]
    }
   ],
   "source": [
    "from sklearn.svm import LinearSVC\n",
    "\n",
    "svm = LinearSVC(dual = False)\n",
    "evaluate(svm, X, y, ['precision', 'recall'])"
   ]
  },
  {
   "cell_type": "code",
   "execution_count": 47,
   "id": "b09ffc18",
   "metadata": {
    "scrolled": true
   },
   "outputs": [
    {
     "data": {
      "text/plain": [
       "[(0.0010934104117581937, 'age'),\n",
       " (0.0012397707218213215, 'chol'),\n",
       " (0.005929552053704565, 'trestbps'),\n",
       " (0.008478519872121868, 'thalach'),\n",
       " (0.024982318480280725, 'fbs'),\n",
       " (0.1385515300590859, 'restecg'),\n",
       " (0.17456640443215402, 'slope'),\n",
       " (0.18410588936592262, 'oldpeak'),\n",
       " (0.26368840093704143, 'ca'),\n",
       " (0.2890859571879028, 'cp'),\n",
       " (0.29737642911403755, 'thal'),\n",
       " (0.320594904609055, 'exang'),\n",
       " (0.5187292826436363, 'sex')]"
      ]
     },
     "execution_count": 47,
     "metadata": {},
     "output_type": "execute_result"
    }
   ],
   "source": [
    "# Observe and Select the K best features\n",
    "import numpy as np\n",
    "\n",
    "svm.fit(X, y)\n",
    "sorted(list(zip(np.abs(svm.coef_[0]), X.columns)))"
   ]
  },
  {
   "cell_type": "code",
   "execution_count": 48,
   "id": "4e7dc953",
   "metadata": {},
   "outputs": [
    {
     "data": {
      "text/plain": [
       "Index(['sex', 'cp', 'exang', 'oldpeak', 'slope', 'ca', 'thal'], dtype='object')"
      ]
     },
     "execution_count": 48,
     "metadata": {},
     "output_type": "execute_result"
    }
   ],
   "source": [
    "# Use sklearn to select the K best features from the model\n",
    "from sklearn.feature_selection import SelectFromModel\n",
    "\n",
    "selector = SelectFromModel(svm, max_features = 7)\n",
    "selector.fit(X, y)\n",
    "X.columns[selector.get_support()]"
   ]
  },
  {
   "cell_type": "code",
   "execution_count": 49,
   "id": "8bf7cffa",
   "metadata": {},
   "outputs": [
    {
     "name": "stdout",
     "output_type": "stream",
     "text": [
      "LinearSVC(dual=False)\n",
      "\t precision 0.83\n",
      "\t recall 0.88\n"
     ]
    }
   ],
   "source": [
    "desried_features = X.columns[selector.get_support()]\n",
    "X2 = X[desried_features]\n",
    "evaluate(svm, X2, y, ['precision', 'recall'])"
   ]
  },
  {
   "cell_type": "markdown",
   "id": "1486656e-0f05-45a7-af5f-13806ee53581",
   "metadata": {},
   "source": [
    "### Using variance to select features"
   ]
  },
  {
   "cell_type": "code",
   "execution_count": 43,
   "id": "11542eb6-c6c3-4651-9afd-20967c0fc46e",
   "metadata": {},
   "outputs": [
    {
     "data": {
      "text/plain": [
       "age           82.484558\n",
       "sex            0.217166\n",
       "cp             1.065132\n",
       "trestbps     307.586453\n",
       "chol        2686.426748\n",
       "fbs            0.126877\n",
       "restecg        0.276528\n",
       "thalach      524.646406\n",
       "exang          0.220707\n",
       "oldpeak        1.348095\n",
       "slope          0.379735\n",
       "ca             1.045724\n",
       "thal           0.374883\n",
       "dtype: float64"
      ]
     },
     "execution_count": 43,
     "metadata": {},
     "output_type": "execute_result"
    }
   ],
   "source": [
    "X.var()"
   ]
  },
  {
   "cell_type": "code",
   "execution_count": 2,
   "id": "1373f797-7a9e-4c09-a405-43bd1f88dd18",
   "metadata": {},
   "outputs": [
    {
     "data": {
      "text/plain": [
       "Pregnancies                    11.354056\n",
       "Glucose                      1022.248314\n",
       "BloodPressure                 374.647271\n",
       "SkinThickness                 254.473245\n",
       "Insulin                     13281.180078\n",
       "BMI                            62.159984\n",
       "DiabetesPedigreeFunction        0.109779\n",
       "Age                           138.303046\n",
       "Outcome                         0.227483\n",
       "dtype: float64"
      ]
     },
     "execution_count": 2,
     "metadata": {},
     "output_type": "execute_result"
    }
   ],
   "source": [
    "diabetes = pandas.read_csv('../Datasets/diabetes.csv')\n",
    "diabetes.var()"
   ]
  },
  {
   "cell_type": "code",
   "execution_count": 3,
   "id": "1a9fb547-ba95-4e24-b8d4-c35636262813",
   "metadata": {},
   "outputs": [
    {
     "data": {
      "text/plain": [
       "SepalLength    0.369016\n",
       "SepalWidth     0.101065\n",
       "PetalLength    0.481914\n",
       "PetalWidth     0.182596\n",
       "Species        0.253469\n",
       "dtype: float64"
      ]
     },
     "execution_count": 3,
     "metadata": {},
     "output_type": "execute_result"
    }
   ],
   "source": [
    "iris = pandas.read_csv('../Datasets/iris50.csv')\n",
    "iris.var()"
   ]
  },
  {
   "cell_type": "code",
   "execution_count": 4,
   "id": "164a5018-f4e3-4ef0-a268-b82d37301a14",
   "metadata": {},
   "outputs": [],
   "source": [
    "from sklearn.feature_selection import VarianceThreshold"
   ]
  },
  {
   "cell_type": "code",
   "execution_count": 5,
   "id": "31e586d4-4e28-4920-b923-ab885699d774",
   "metadata": {},
   "outputs": [],
   "source": [
    "selector = VarianceThreshold(threshold=0.5)\n",
    "X2 = selector.fit_transform(X)"
   ]
  },
  {
   "cell_type": "code",
   "execution_count": 53,
   "id": "fe457d1a-edb1-4629-9712-e23241c3353e",
   "metadata": {},
   "outputs": [
    {
     "data": {
      "text/plain": [
       "array([[ 63. ,   3. , 145. , 233. , 150. ,   2.3,   0. ],\n",
       "       [ 37. ,   2. , 130. , 250. , 187. ,   3.5,   0. ],\n",
       "       [ 41. ,   1. , 130. , 204. , 172. ,   1.4,   0. ]])"
      ]
     },
     "execution_count": 53,
     "metadata": {},
     "output_type": "execute_result"
    }
   ],
   "source": [
    "X2[0:3]"
   ]
  },
  {
   "cell_type": "code",
   "execution_count": 52,
   "id": "53f3a68a-1c67-4712-a2dd-6689bf3c2f04",
   "metadata": {},
   "outputs": [
    {
     "data": {
      "text/html": [
       "<div>\n",
       "<style scoped>\n",
       "    .dataframe tbody tr th:only-of-type {\n",
       "        vertical-align: middle;\n",
       "    }\n",
       "\n",
       "    .dataframe tbody tr th {\n",
       "        vertical-align: top;\n",
       "    }\n",
       "\n",
       "    .dataframe thead th {\n",
       "        text-align: right;\n",
       "    }\n",
       "</style>\n",
       "<table border=\"1\" class=\"dataframe\">\n",
       "  <thead>\n",
       "    <tr style=\"text-align: right;\">\n",
       "      <th></th>\n",
       "      <th>age</th>\n",
       "      <th>sex</th>\n",
       "      <th>cp</th>\n",
       "      <th>trestbps</th>\n",
       "      <th>chol</th>\n",
       "      <th>fbs</th>\n",
       "      <th>restecg</th>\n",
       "      <th>thalach</th>\n",
       "      <th>exang</th>\n",
       "      <th>oldpeak</th>\n",
       "      <th>slope</th>\n",
       "      <th>ca</th>\n",
       "      <th>thal</th>\n",
       "    </tr>\n",
       "  </thead>\n",
       "  <tbody>\n",
       "    <tr>\n",
       "      <th>0</th>\n",
       "      <td>63</td>\n",
       "      <td>1</td>\n",
       "      <td>3</td>\n",
       "      <td>145</td>\n",
       "      <td>233</td>\n",
       "      <td>1</td>\n",
       "      <td>0</td>\n",
       "      <td>150</td>\n",
       "      <td>0</td>\n",
       "      <td>2.3</td>\n",
       "      <td>0</td>\n",
       "      <td>0</td>\n",
       "      <td>1</td>\n",
       "    </tr>\n",
       "    <tr>\n",
       "      <th>1</th>\n",
       "      <td>37</td>\n",
       "      <td>1</td>\n",
       "      <td>2</td>\n",
       "      <td>130</td>\n",
       "      <td>250</td>\n",
       "      <td>0</td>\n",
       "      <td>1</td>\n",
       "      <td>187</td>\n",
       "      <td>0</td>\n",
       "      <td>3.5</td>\n",
       "      <td>0</td>\n",
       "      <td>0</td>\n",
       "      <td>2</td>\n",
       "    </tr>\n",
       "    <tr>\n",
       "      <th>2</th>\n",
       "      <td>41</td>\n",
       "      <td>0</td>\n",
       "      <td>1</td>\n",
       "      <td>130</td>\n",
       "      <td>204</td>\n",
       "      <td>0</td>\n",
       "      <td>0</td>\n",
       "      <td>172</td>\n",
       "      <td>0</td>\n",
       "      <td>1.4</td>\n",
       "      <td>2</td>\n",
       "      <td>0</td>\n",
       "      <td>2</td>\n",
       "    </tr>\n",
       "  </tbody>\n",
       "</table>\n",
       "</div>"
      ],
      "text/plain": [
       "   age  sex  cp  trestbps  chol  fbs  restecg  thalach  exang  oldpeak  slope  \\\n",
       "0   63    1   3       145   233    1        0      150      0      2.3      0   \n",
       "1   37    1   2       130   250    0        1      187      0      3.5      0   \n",
       "2   41    0   1       130   204    0        0      172      0      1.4      2   \n",
       "\n",
       "   ca  thal  \n",
       "0   0     1  \n",
       "1   0     2  \n",
       "2   0     2  "
      ]
     },
     "execution_count": 52,
     "metadata": {},
     "output_type": "execute_result"
    }
   ],
   "source": [
    "X[0:3]"
   ]
  },
  {
   "cell_type": "code",
   "execution_count": 54,
   "id": "7f2212c9-ecac-441e-9aa0-607f4cfcdaaa",
   "metadata": {
    "scrolled": true
   },
   "outputs": [
    {
     "data": {
      "text/plain": [
       "age           82.484558\n",
       "sex            0.217166\n",
       "cp             1.065132\n",
       "trestbps     307.586453\n",
       "chol        2686.426748\n",
       "fbs            0.126877\n",
       "restecg        0.276528\n",
       "thalach      524.646406\n",
       "exang          0.220707\n",
       "oldpeak        1.348095\n",
       "slope          0.379735\n",
       "ca             1.045724\n",
       "thal           0.374883\n",
       "dtype: float64"
      ]
     },
     "execution_count": 54,
     "metadata": {},
     "output_type": "execute_result"
    }
   ],
   "source": [
    "X.var()"
   ]
  },
  {
   "cell_type": "markdown",
   "id": "7b87d838",
   "metadata": {},
   "source": [
    "#### Practice"
   ]
  },
  {
   "cell_type": "code",
   "execution_count": 50,
   "id": "1994a7e6",
   "metadata": {},
   "outputs": [
    {
     "data": {
      "text/plain": [
       "Index(['age', 'cp', 'trestbps', 'chol', 'thalach', 'oldpeak', 'ca'], dtype='object')"
      ]
     },
     "execution_count": 50,
     "metadata": {},
     "output_type": "execute_result"
    }
   ],
   "source": [
    "from sklearn.feature_selection import VarianceThreshold\n",
    "\n",
    "selector = VarianceThreshold(threshold = .5)\n",
    "selector.fit(X)\n",
    "X.columns[selector.get_support()]"
   ]
  },
  {
   "cell_type": "code",
   "execution_count": 21,
   "id": "78b7d298",
   "metadata": {},
   "outputs": [
    {
     "data": {
      "text/plain": [
       "age           82.484558\n",
       "sex            0.217166\n",
       "cp             1.065132\n",
       "trestbps     307.586453\n",
       "chol        2686.426748\n",
       "fbs            0.126877\n",
       "restecg        0.276528\n",
       "thalach      524.646406\n",
       "exang          0.220707\n",
       "oldpeak        1.348095\n",
       "slope          0.379735\n",
       "ca             1.045724\n",
       "thal           0.374883\n",
       "dtype: float64"
      ]
     },
     "execution_count": 21,
     "metadata": {},
     "output_type": "execute_result"
    }
   ],
   "source": [
    "X.var()"
   ]
  },
  {
   "cell_type": "markdown",
   "id": "db1f9e60-72ba-4955-9299-083c677ef057",
   "metadata": {},
   "source": [
    "### Selecting features using dependency"
   ]
  },
  {
   "cell_type": "code",
   "execution_count": 6,
   "id": "3ee11a4e-bf6a-44c0-88b5-b749c09cca37",
   "metadata": {},
   "outputs": [],
   "source": [
    "from sklearn.feature_selection import SelectKBest, chi2"
   ]
  },
  {
   "cell_type": "code",
   "execution_count": 7,
   "id": "e2595a1a-0f78-4fa1-98c8-c3a27cee2826",
   "metadata": {},
   "outputs": [],
   "source": [
    "selector = SelectKBest(chi2, k=7)"
   ]
  },
  {
   "cell_type": "code",
   "execution_count": 8,
   "id": "6011599d-e6b5-486c-806a-36a5c530ea2e",
   "metadata": {},
   "outputs": [],
   "source": [
    "X3=selector.fit_transform(X,y)"
   ]
  },
  {
   "cell_type": "code",
   "execution_count": 9,
   "id": "352a6faf-4ecc-4ca0-82f5-1de8e27a74a8",
   "metadata": {},
   "outputs": [
    {
     "data": {
      "text/plain": [
       "array([[ 63. ,   3. , 233. , 150. ,   0. ,   2.3,   0. ],\n",
       "       [ 37. ,   2. , 250. , 187. ,   0. ,   3.5,   0. ],\n",
       "       [ 41. ,   1. , 204. , 172. ,   0. ,   1.4,   0. ]])"
      ]
     },
     "execution_count": 9,
     "metadata": {},
     "output_type": "execute_result"
    }
   ],
   "source": [
    "X3[0:3]"
   ]
  },
  {
   "cell_type": "code",
   "execution_count": 10,
   "id": "96009362-3254-45dc-9c7d-a08a38a6b91d",
   "metadata": {
    "scrolled": true
   },
   "outputs": [
    {
     "data": {
      "text/html": [
       "<div>\n",
       "<style scoped>\n",
       "    .dataframe tbody tr th:only-of-type {\n",
       "        vertical-align: middle;\n",
       "    }\n",
       "\n",
       "    .dataframe tbody tr th {\n",
       "        vertical-align: top;\n",
       "    }\n",
       "\n",
       "    .dataframe thead th {\n",
       "        text-align: right;\n",
       "    }\n",
       "</style>\n",
       "<table border=\"1\" class=\"dataframe\">\n",
       "  <thead>\n",
       "    <tr style=\"text-align: right;\">\n",
       "      <th></th>\n",
       "      <th>age</th>\n",
       "      <th>sex</th>\n",
       "      <th>cp</th>\n",
       "      <th>trestbps</th>\n",
       "      <th>chol</th>\n",
       "      <th>fbs</th>\n",
       "      <th>restecg</th>\n",
       "      <th>thalach</th>\n",
       "      <th>exang</th>\n",
       "      <th>oldpeak</th>\n",
       "      <th>slope</th>\n",
       "      <th>ca</th>\n",
       "      <th>thal</th>\n",
       "    </tr>\n",
       "  </thead>\n",
       "  <tbody>\n",
       "    <tr>\n",
       "      <th>0</th>\n",
       "      <td>63</td>\n",
       "      <td>1</td>\n",
       "      <td>3</td>\n",
       "      <td>145</td>\n",
       "      <td>233</td>\n",
       "      <td>1</td>\n",
       "      <td>0</td>\n",
       "      <td>150</td>\n",
       "      <td>0</td>\n",
       "      <td>2.3</td>\n",
       "      <td>0</td>\n",
       "      <td>0</td>\n",
       "      <td>1</td>\n",
       "    </tr>\n",
       "    <tr>\n",
       "      <th>1</th>\n",
       "      <td>37</td>\n",
       "      <td>1</td>\n",
       "      <td>2</td>\n",
       "      <td>130</td>\n",
       "      <td>250</td>\n",
       "      <td>0</td>\n",
       "      <td>1</td>\n",
       "      <td>187</td>\n",
       "      <td>0</td>\n",
       "      <td>3.5</td>\n",
       "      <td>0</td>\n",
       "      <td>0</td>\n",
       "      <td>2</td>\n",
       "    </tr>\n",
       "    <tr>\n",
       "      <th>2</th>\n",
       "      <td>41</td>\n",
       "      <td>0</td>\n",
       "      <td>1</td>\n",
       "      <td>130</td>\n",
       "      <td>204</td>\n",
       "      <td>0</td>\n",
       "      <td>0</td>\n",
       "      <td>172</td>\n",
       "      <td>0</td>\n",
       "      <td>1.4</td>\n",
       "      <td>2</td>\n",
       "      <td>0</td>\n",
       "      <td>2</td>\n",
       "    </tr>\n",
       "  </tbody>\n",
       "</table>\n",
       "</div>"
      ],
      "text/plain": [
       "   age  sex  cp  trestbps  chol  fbs  restecg  thalach  exang  oldpeak  slope  \\\n",
       "0   63    1   3       145   233    1        0      150      0      2.3      0   \n",
       "1   37    1   2       130   250    0        1      187      0      3.5      0   \n",
       "2   41    0   1       130   204    0        0      172      0      1.4      2   \n",
       "\n",
       "   ca  thal  \n",
       "0   0     1  \n",
       "1   0     2  \n",
       "2   0     2  "
      ]
     },
     "execution_count": 10,
     "metadata": {},
     "output_type": "execute_result"
    }
   ],
   "source": [
    "X[0:3]"
   ]
  },
  {
   "cell_type": "markdown",
   "id": "7df8788a",
   "metadata": {},
   "source": [
    "#### Practice"
   ]
  },
  {
   "cell_type": "code",
   "execution_count": 19,
   "id": "3cefa140",
   "metadata": {},
   "outputs": [
    {
     "data": {
      "text/plain": [
       "Index(['age', 'cp', 'chol', 'thalach', 'exang', 'oldpeak', 'ca'], dtype='object')"
      ]
     },
     "execution_count": 19,
     "metadata": {},
     "output_type": "execute_result"
    }
   ],
   "source": [
    "from sklearn.feature_selection import SelectKBest, chi2\n",
    "\n",
    "selector = SelectKBest(chi2, k = 7)\n",
    "selector.fit(X,y)\n",
    "X.columns[selector.get_support()]"
   ]
  },
  {
   "cell_type": "markdown",
   "id": "8b9b656f-6101-407b-a064-939fc75a954d",
   "metadata": {},
   "source": [
    "### Recursive Feature Elimination (RFE)"
   ]
  },
  {
   "cell_type": "code",
   "execution_count": 11,
   "id": "29dfe518-df6b-4079-874d-468aabeeb920",
   "metadata": {},
   "outputs": [],
   "source": [
    "from sklearn.feature_selection import RFE"
   ]
  },
  {
   "cell_type": "code",
   "execution_count": 12,
   "id": "8dde0310-84ca-449b-94ab-0098acdebef9",
   "metadata": {},
   "outputs": [
    {
     "data": {
      "text/plain": [
       "(RandomForestClassifier(max_depth=13), LinearSVC(dual=False))"
      ]
     },
     "execution_count": 12,
     "metadata": {},
     "output_type": "execute_result"
    }
   ],
   "source": [
    "rf, svm"
   ]
  },
  {
   "cell_type": "code",
   "execution_count": 13,
   "id": "f445e328-7add-4df9-956c-fa66781c7efe",
   "metadata": {},
   "outputs": [],
   "source": [
    "selector = RFE(svm, n_features_to_select=7)"
   ]
  },
  {
   "cell_type": "code",
   "execution_count": 14,
   "id": "8d35c0f2-abde-414d-ae37-6337e3eff1da",
   "metadata": {},
   "outputs": [
    {
     "data": {
      "text/plain": [
       "RFE(estimator=LinearSVC(dual=False), n_features_to_select=7)"
      ]
     },
     "execution_count": 14,
     "metadata": {},
     "output_type": "execute_result"
    }
   ],
   "source": [
    "selector.fit(X,y)"
   ]
  },
  {
   "cell_type": "code",
   "execution_count": 15,
   "id": "1a4f4b70-cb23-4cb5-9029-7a22b5f7c2a4",
   "metadata": {},
   "outputs": [
    {
     "data": {
      "text/plain": [
       "array([False,  True,  True, False, False, False, False, False,  True,\n",
       "        True,  True,  True,  True])"
      ]
     },
     "execution_count": 15,
     "metadata": {},
     "output_type": "execute_result"
    }
   ],
   "source": [
    "selector.get_support()"
   ]
  },
  {
   "cell_type": "code",
   "execution_count": 16,
   "id": "98169490-c610-44f1-a73b-543b603b6e9d",
   "metadata": {
    "scrolled": true
   },
   "outputs": [
    {
     "data": {
      "text/plain": [
       "Index(['sex', 'cp', 'exang', 'oldpeak', 'slope', 'ca', 'thal'], dtype='object')"
      ]
     },
     "execution_count": 16,
     "metadata": {},
     "output_type": "execute_result"
    }
   ],
   "source": [
    "X.columns[selector.get_support()]"
   ]
  },
  {
   "cell_type": "markdown",
   "id": "1ba97d57",
   "metadata": {},
   "source": [
    "#### Practice"
   ]
  },
  {
   "cell_type": "code",
   "execution_count": 18,
   "id": "e804186b-f93c-4437-b4e2-60f3f7052a54",
   "metadata": {},
   "outputs": [
    {
     "data": {
      "text/plain": [
       "Index(['sex', 'cp', 'exang', 'oldpeak', 'slope', 'ca', 'thal'], dtype='object')"
      ]
     },
     "execution_count": 18,
     "metadata": {},
     "output_type": "execute_result"
    }
   ],
   "source": [
    "# Heart Dataset\n",
    "from sklearn.feature_selection import RFE\n",
    "\n",
    "selector = RFE(svm, n_features_to_select = 7)\n",
    "selector.fit(X, y)\n",
    "X.columns[selector.get_support()]"
   ]
  },
  {
   "cell_type": "code",
   "execution_count": null,
   "id": "2d090fd1",
   "metadata": {},
   "outputs": [],
   "source": []
  }
 ],
 "metadata": {
  "kernelspec": {
   "display_name": "Python 3",
   "language": "python",
   "name": "python3"
  },
  "language_info": {
   "codemirror_mode": {
    "name": "ipython",
    "version": 3
   },
   "file_extension": ".py",
   "mimetype": "text/x-python",
   "name": "python",
   "nbconvert_exporter": "python",
   "pygments_lexer": "ipython3",
   "version": "3.8.8"
  }
 },
 "nbformat": 4,
 "nbformat_minor": 5
}
