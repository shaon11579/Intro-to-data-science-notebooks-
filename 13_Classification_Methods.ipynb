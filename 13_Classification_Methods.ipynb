{
 "cells": [
  {
   "cell_type": "markdown",
   "id": "c7debde2-bac0-43be-a203-814111e1bc27",
   "metadata": {},
   "source": [
    "# Other Classification Methods\n",
    "\n",
    "Methods:\n",
    "+ Decision tree\n",
    "    + each decision reduces expected surprise (entropy) or mistakes made by random labeler (gini impurity)\n",
    "+ Random forest: \n",
    "    + let the committee makes a decision\n",
    "+ Support vector\n",
    "    + separate the data with a line\n",
    "+ Logistic regression\n",
    "    + Log odds is linear\n",
    "+ Naive Bayes (gaussian): \n",
    "    + compare distributions of X wrt y\n",
    "+ Nearest neighbors\n",
    "    + your neighbors define you.\n",
    "\n",
    "Performance metrics\n",
    "+ accuracy, tp rate, tn rate, balanced_accuray\n",
    "+ precision, recall\n",
    "\n",
    "Evaluation of the problem\n",
    "+ How hard is problem?\n",
    "+ How hard is the problem for a learner?\n",
    "    + training score vs testing score\n",
    "    + is cv good?\n",
    "    \n",
    "Datasets:\n",
    "+ iris50\n",
    "+ admission\n",
    "+ breast cancer\n",
    "+ diabetes"
   ]
  },
  {
   "cell_type": "markdown",
   "id": "faf7d3b2-fff9-45f4-9794-c28f7b29dd13",
   "metadata": {},
   "source": [
    "### Datasets"
   ]
  },
  {
   "cell_type": "code",
   "execution_count": 1,
   "id": "76ab08ee-e761-4a0a-9dd3-022d181b9dd0",
   "metadata": {},
   "outputs": [],
   "source": [
    "import pandas\n",
    "iris = pandas.read_csv('../../Datasets/iris50.csv')\n",
    "admission = pandas.read_csv('../../Datasets/admission.csv')\n",
    "cancer = pandas.read_csv('../../Datasets/breast-cancer-wisconsin.csv')\n",
    "diabetes = pandas.read_csv('../../Datasets/diabetes.csv')"
   ]
  },
  {
   "cell_type": "markdown",
   "id": "9bf06476-c685-432d-9272-252a1e16387f",
   "metadata": {},
   "source": [
    "+ iris - y is \"Species\"\n",
    "+ admission - y is \"admit\"\n",
    "+ cancer - y is \"class\"\n",
    "+ diabetes - y is \"Outcome\"\n",
    "\n",
    "In classification, y is discrete.\n",
    "\n",
    "We want to understand (model) the relationship between y and a set of features (X).\n",
    "\n",
    "We want to make prediction, given new data (X)."
   ]
  },
  {
   "cell_type": "code",
   "execution_count": 7,
   "id": "cf931aab-e291-4e82-a6ae-04e341d11ccc",
   "metadata": {},
   "outputs": [
    {
     "data": {
      "text/html": [
       "<div>\n",
       "<style scoped>\n",
       "    .dataframe tbody tr th:only-of-type {\n",
       "        vertical-align: middle;\n",
       "    }\n",
       "\n",
       "    .dataframe tbody tr th {\n",
       "        vertical-align: top;\n",
       "    }\n",
       "\n",
       "    .dataframe thead th {\n",
       "        text-align: right;\n",
       "    }\n",
       "</style>\n",
       "<table border=\"1\" class=\"dataframe\">\n",
       "  <thead>\n",
       "    <tr style=\"text-align: right;\">\n",
       "      <th></th>\n",
       "      <th>Pregnancies</th>\n",
       "      <th>Glucose</th>\n",
       "      <th>BloodPressure</th>\n",
       "      <th>SkinThickness</th>\n",
       "      <th>Insulin</th>\n",
       "      <th>BMI</th>\n",
       "      <th>DiabetesPedigreeFunction</th>\n",
       "      <th>Age</th>\n",
       "      <th>Outcome</th>\n",
       "    </tr>\n",
       "  </thead>\n",
       "  <tbody>\n",
       "    <tr>\n",
       "      <th>0</th>\n",
       "      <td>6</td>\n",
       "      <td>148</td>\n",
       "      <td>72</td>\n",
       "      <td>35</td>\n",
       "      <td>0</td>\n",
       "      <td>33.6</td>\n",
       "      <td>0.627</td>\n",
       "      <td>50</td>\n",
       "      <td>1</td>\n",
       "    </tr>\n",
       "    <tr>\n",
       "      <th>1</th>\n",
       "      <td>1</td>\n",
       "      <td>85</td>\n",
       "      <td>66</td>\n",
       "      <td>29</td>\n",
       "      <td>0</td>\n",
       "      <td>26.6</td>\n",
       "      <td>0.351</td>\n",
       "      <td>31</td>\n",
       "      <td>0</td>\n",
       "    </tr>\n",
       "    <tr>\n",
       "      <th>2</th>\n",
       "      <td>8</td>\n",
       "      <td>183</td>\n",
       "      <td>64</td>\n",
       "      <td>0</td>\n",
       "      <td>0</td>\n",
       "      <td>23.3</td>\n",
       "      <td>0.672</td>\n",
       "      <td>32</td>\n",
       "      <td>1</td>\n",
       "    </tr>\n",
       "    <tr>\n",
       "      <th>3</th>\n",
       "      <td>1</td>\n",
       "      <td>89</td>\n",
       "      <td>66</td>\n",
       "      <td>23</td>\n",
       "      <td>94</td>\n",
       "      <td>28.1</td>\n",
       "      <td>0.167</td>\n",
       "      <td>21</td>\n",
       "      <td>0</td>\n",
       "    </tr>\n",
       "    <tr>\n",
       "      <th>4</th>\n",
       "      <td>0</td>\n",
       "      <td>137</td>\n",
       "      <td>40</td>\n",
       "      <td>35</td>\n",
       "      <td>168</td>\n",
       "      <td>43.1</td>\n",
       "      <td>2.288</td>\n",
       "      <td>33</td>\n",
       "      <td>1</td>\n",
       "    </tr>\n",
       "    <tr>\n",
       "      <th>...</th>\n",
       "      <td>...</td>\n",
       "      <td>...</td>\n",
       "      <td>...</td>\n",
       "      <td>...</td>\n",
       "      <td>...</td>\n",
       "      <td>...</td>\n",
       "      <td>...</td>\n",
       "      <td>...</td>\n",
       "      <td>...</td>\n",
       "    </tr>\n",
       "    <tr>\n",
       "      <th>763</th>\n",
       "      <td>10</td>\n",
       "      <td>101</td>\n",
       "      <td>76</td>\n",
       "      <td>48</td>\n",
       "      <td>180</td>\n",
       "      <td>32.9</td>\n",
       "      <td>0.171</td>\n",
       "      <td>63</td>\n",
       "      <td>0</td>\n",
       "    </tr>\n",
       "    <tr>\n",
       "      <th>764</th>\n",
       "      <td>2</td>\n",
       "      <td>122</td>\n",
       "      <td>70</td>\n",
       "      <td>27</td>\n",
       "      <td>0</td>\n",
       "      <td>36.8</td>\n",
       "      <td>0.340</td>\n",
       "      <td>27</td>\n",
       "      <td>0</td>\n",
       "    </tr>\n",
       "    <tr>\n",
       "      <th>765</th>\n",
       "      <td>5</td>\n",
       "      <td>121</td>\n",
       "      <td>72</td>\n",
       "      <td>23</td>\n",
       "      <td>112</td>\n",
       "      <td>26.2</td>\n",
       "      <td>0.245</td>\n",
       "      <td>30</td>\n",
       "      <td>0</td>\n",
       "    </tr>\n",
       "    <tr>\n",
       "      <th>766</th>\n",
       "      <td>1</td>\n",
       "      <td>126</td>\n",
       "      <td>60</td>\n",
       "      <td>0</td>\n",
       "      <td>0</td>\n",
       "      <td>30.1</td>\n",
       "      <td>0.349</td>\n",
       "      <td>47</td>\n",
       "      <td>1</td>\n",
       "    </tr>\n",
       "    <tr>\n",
       "      <th>767</th>\n",
       "      <td>1</td>\n",
       "      <td>93</td>\n",
       "      <td>70</td>\n",
       "      <td>31</td>\n",
       "      <td>0</td>\n",
       "      <td>30.4</td>\n",
       "      <td>0.315</td>\n",
       "      <td>23</td>\n",
       "      <td>0</td>\n",
       "    </tr>\n",
       "  </tbody>\n",
       "</table>\n",
       "<p>768 rows × 9 columns</p>\n",
       "</div>"
      ],
      "text/plain": [
       "     Pregnancies  Glucose  BloodPressure  SkinThickness  Insulin   BMI  \\\n",
       "0              6      148             72             35        0  33.6   \n",
       "1              1       85             66             29        0  26.6   \n",
       "2              8      183             64              0        0  23.3   \n",
       "3              1       89             66             23       94  28.1   \n",
       "4              0      137             40             35      168  43.1   \n",
       "..           ...      ...            ...            ...      ...   ...   \n",
       "763           10      101             76             48      180  32.9   \n",
       "764            2      122             70             27        0  36.8   \n",
       "765            5      121             72             23      112  26.2   \n",
       "766            1      126             60              0        0  30.1   \n",
       "767            1       93             70             31        0  30.4   \n",
       "\n",
       "     DiabetesPedigreeFunction  Age  Outcome  \n",
       "0                       0.627   50        1  \n",
       "1                       0.351   31        0  \n",
       "2                       0.672   32        1  \n",
       "3                       0.167   21        0  \n",
       "4                       2.288   33        1  \n",
       "..                        ...  ...      ...  \n",
       "763                     0.171   63        0  \n",
       "764                     0.340   27        0  \n",
       "765                     0.245   30        0  \n",
       "766                     0.349   47        1  \n",
       "767                     0.315   23        0  \n",
       "\n",
       "[768 rows x 9 columns]"
      ]
     },
     "execution_count": 7,
     "metadata": {},
     "output_type": "execute_result"
    }
   ],
   "source": [
    "diabetes"
   ]
  },
  {
   "cell_type": "markdown",
   "id": "6c43675e-8d52-44cb-9a5d-0a56f5e34364",
   "metadata": {},
   "source": [
    "### Performance metrics\n",
    "\n",
    "+ Cross validate a decision tree model\n",
    "+ train_test_split, score model with train data, score model with test data.\n",
    "+ accuracy, p vs n, tp, fp, tn, fn\n",
    "+ balanced accuracy\n",
    "+ precision, recall"
   ]
  },
  {
   "cell_type": "code",
   "execution_count": 8,
   "id": "f9bb296a-bf41-4c4f-a2dd-d4b11bdff80c",
   "metadata": {},
   "outputs": [],
   "source": [
    "from sklearn.tree import DecisionTreeClassifier\n",
    "from sklearn.model_selection import ShuffleSplit, cross_validate, train_test_split"
   ]
  },
  {
   "cell_type": "code",
   "execution_count": 10,
   "id": "18924808-1076-45c0-b64f-6d4268ff8ae1",
   "metadata": {},
   "outputs": [],
   "source": [
    "y = admission['admit']\n",
    "X = admission.drop(columns=['admit'])\n",
    "model = DecisionTreeClassifier()\n",
    "res = cross_validate(model, X, y, cv=ShuffleSplit(n_splits=100))"
   ]
  },
  {
   "cell_type": "code",
   "execution_count": 12,
   "id": "91bf226c-fd46-423c-87c9-ee071815f78e",
   "metadata": {},
   "outputs": [
    {
     "data": {
      "text/plain": [
       "0.6237499999999999"
      ]
     },
     "execution_count": 12,
     "metadata": {},
     "output_type": "execute_result"
    }
   ],
   "source": [
    "res['test_score'].mean()"
   ]
  },
  {
   "cell_type": "markdown",
   "id": "81412895-7632-41bb-927c-84f1921e67ca",
   "metadata": {},
   "source": [
    "This is accuracy.  \n",
    "\n",
    "Accuracy = # correct / #total = (tp + tn) / (total) = (tp + tn) / (tp+fp+tn+fn)\n",
    "\n"
   ]
  },
  {
   "cell_type": "code",
   "execution_count": 13,
   "id": "58db826f-9ae6-4cd5-b070-2184dbca785e",
   "metadata": {},
   "outputs": [
    {
     "data": {
      "text/plain": [
       "0    0.6825\n",
       "1    0.3175\n",
       "Name: admit, dtype: float64"
      ]
     },
     "execution_count": 13,
     "metadata": {},
     "output_type": "execute_result"
    }
   ],
   "source": [
    "admission.admit.value_counts(1)"
   ]
  },
  {
   "cell_type": "code",
   "execution_count": 14,
   "id": "50f28932-42a2-49c1-a765-aea80906cdcf",
   "metadata": {},
   "outputs": [
    {
     "data": {
      "text/plain": [
       "400"
      ]
     },
     "execution_count": 14,
     "metadata": {},
     "output_type": "execute_result"
    }
   ],
   "source": [
    "len(admission)"
   ]
  },
  {
   "cell_type": "code",
   "execution_count": 15,
   "id": "218596be-5160-4d16-b8ae-d67646977ac3",
   "metadata": {},
   "outputs": [
    {
     "data": {
      "text/plain": [
       "Index(['admit', 'gre', 'gpa', 'rank'], dtype='object')"
      ]
     },
     "execution_count": 15,
     "metadata": {},
     "output_type": "execute_result"
    }
   ],
   "source": [
    "admission.columns"
   ]
  },
  {
   "cell_type": "markdown",
   "id": "c9352743-a1ff-4e19-b33a-28699d208ac6",
   "metadata": {},
   "source": [
    "### Overview of Popular Classification Methods"
   ]
  },
  {
   "cell_type": "markdown",
   "id": "ba61d202-232c-45d3-9680-583b61323d9d",
   "metadata": {},
   "source": []
  },
  {
   "cell_type": "markdown",
   "id": "7749213c-fe7a-4b75-9ad0-a4ce4900eb8e",
   "metadata": {},
   "source": [
    "### Learning Ability versus Data/Experience\n",
    "+ Data versus experience\n",
    "+ Proper evaluation"
   ]
  },
  {
   "cell_type": "markdown",
   "id": "7a8e5083-f15c-408f-b772-be3335011dcf",
   "metadata": {},
   "source": []
  },
  {
   "cell_type": "code",
   "execution_count": 13,
   "id": "6d2996ac-3729-48f4-8173-867b9e3478bc",
   "metadata": {
    "jupyter": {
     "source_hidden": true
    },
    "tags": []
   },
   "outputs": [],
   "source": [
    "import lcplot\n",
    "# lcplot.plot(DecisionTreeClassifier(), X, y)"
   ]
  },
  {
   "cell_type": "code",
   "execution_count": 5,
   "id": "c9df9aa3-7ee9-448f-8b96-ccb3db590cc6",
   "metadata": {
    "tags": []
   },
   "outputs": [],
   "source": [
    "# from dtreeviz.trees import dtreeviz\n",
    "\n",
    "# X = iris[['SepalWidth','SepalLength','PetalWidth','PetalLength']]\n",
    "# y = iris.Species\n",
    "# dt4 = DecisionTreeClassifier(max_depth=4)\n",
    "# dt4.fit(X,y)\n",
    "# viz = dtreeviz(dt4, X, y, feature_names=X.columns, fancy=True)  \n",
    "# viz.view() "
   ]
  },
  {
   "cell_type": "code",
   "execution_count": null,
   "id": "7ad061c1-49c7-4758-9d4c-da5232d09c58",
   "metadata": {},
   "outputs": [],
   "source": []
  },
  {
   "cell_type": "code",
   "execution_count": 12,
   "id": "63c5a075-e09c-4d23-a0d6-d79107e33672",
   "metadata": {
    "tags": []
   },
   "outputs": [],
   "source": []
  },
  {
   "cell_type": "code",
   "execution_count": null,
   "id": "d5fa1f6c-28e9-404e-824f-1e135ec39f38",
   "metadata": {},
   "outputs": [],
   "source": []
  }
 ],
 "metadata": {
  "kernelspec": {
   "display_name": "Python 3",
   "language": "python",
   "name": "python3"
  },
  "language_info": {
   "codemirror_mode": {
    "name": "ipython",
    "version": 3
   },
   "file_extension": ".py",
   "mimetype": "text/x-python",
   "name": "python",
   "nbconvert_exporter": "python",
   "pygments_lexer": "ipython3",
   "version": "3.8.8"
  }
 },
 "nbformat": 4,
 "nbformat_minor": 5
}
