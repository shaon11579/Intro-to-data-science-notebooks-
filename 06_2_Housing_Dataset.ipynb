{
 "cells": [
  {
   "cell_type": "markdown",
   "id": "7f1651cf",
   "metadata": {},
   "source": [
    "# Predicting House Prices"
   ]
  },
  {
   "cell_type": "markdown",
   "id": "4e312422-eb3a-4588-bde1-b9c940b010b5",
   "metadata": {},
   "source": [
    "Housing data from California.\n",
    "\n",
    "Goals:\n",
    "+ Model the relationship between house prices and various factors.\n",
    "    + Be familiar with model validation.\n",
    "+ LinearRegression\n",
    "+ DecisionTreeRegressor\n",
    "+ RandomForestRegressor"
   ]
  },
  {
   "cell_type": "code",
   "execution_count": 1,
   "id": "0b8652bb",
   "metadata": {},
   "outputs": [],
   "source": [
    "import pandas, seaborn\n",
    "df = pandas.read_csv('../Datasets/cali_housing.csv')"
   ]
  },
  {
   "cell_type": "markdown",
   "id": "682f8c59",
   "metadata": {},
   "source": [
    "Investigate pairwise correlations between house prices and each attribute.\n",
    "\n"
   ]
  },
  {
   "cell_type": "code",
   "execution_count": 2,
   "id": "e452dadc",
   "metadata": {},
   "outputs": [
    {
     "data": {
      "text/html": [
       "<div>\n",
       "<style scoped>\n",
       "    .dataframe tbody tr th:only-of-type {\n",
       "        vertical-align: middle;\n",
       "    }\n",
       "\n",
       "    .dataframe tbody tr th {\n",
       "        vertical-align: top;\n",
       "    }\n",
       "\n",
       "    .dataframe thead th {\n",
       "        text-align: right;\n",
       "    }\n",
       "</style>\n",
       "<table border=\"1\" class=\"dataframe\">\n",
       "  <thead>\n",
       "    <tr style=\"text-align: right;\">\n",
       "      <th></th>\n",
       "      <th>longitude</th>\n",
       "      <th>latitude</th>\n",
       "      <th>housing_median_age</th>\n",
       "      <th>total_rooms</th>\n",
       "      <th>total_bedrooms</th>\n",
       "      <th>population</th>\n",
       "      <th>households</th>\n",
       "      <th>median_income</th>\n",
       "      <th>median_house_value</th>\n",
       "      <th>ocean_proximity</th>\n",
       "    </tr>\n",
       "  </thead>\n",
       "  <tbody>\n",
       "    <tr>\n",
       "      <th>5071</th>\n",
       "      <td>-118.31</td>\n",
       "      <td>33.99</td>\n",
       "      <td>49</td>\n",
       "      <td>857</td>\n",
       "      <td>196.0</td>\n",
       "      <td>694</td>\n",
       "      <td>228</td>\n",
       "      <td>2.8950</td>\n",
       "      <td>108000</td>\n",
       "      <td>&lt;1H OCEAN</td>\n",
       "    </tr>\n",
       "    <tr>\n",
       "      <th>7632</th>\n",
       "      <td>-118.29</td>\n",
       "      <td>33.84</td>\n",
       "      <td>33</td>\n",
       "      <td>896</td>\n",
       "      <td>208.0</td>\n",
       "      <td>843</td>\n",
       "      <td>200</td>\n",
       "      <td>3.5000</td>\n",
       "      <td>183000</td>\n",
       "      <td>&lt;1H OCEAN</td>\n",
       "    </tr>\n",
       "    <tr>\n",
       "      <th>2701</th>\n",
       "      <td>-115.57</td>\n",
       "      <td>32.85</td>\n",
       "      <td>33</td>\n",
       "      <td>1365</td>\n",
       "      <td>269.0</td>\n",
       "      <td>825</td>\n",
       "      <td>250</td>\n",
       "      <td>3.2396</td>\n",
       "      <td>62300</td>\n",
       "      <td>INLAND</td>\n",
       "    </tr>\n",
       "  </tbody>\n",
       "</table>\n",
       "</div>"
      ],
      "text/plain": [
       "      longitude  latitude  housing_median_age  total_rooms  total_bedrooms  \\\n",
       "5071    -118.31     33.99                  49          857           196.0   \n",
       "7632    -118.29     33.84                  33          896           208.0   \n",
       "2701    -115.57     32.85                  33         1365           269.0   \n",
       "\n",
       "      population  households  median_income  median_house_value  \\\n",
       "5071         694         228         2.8950              108000   \n",
       "7632         843         200         3.5000              183000   \n",
       "2701         825         250         3.2396               62300   \n",
       "\n",
       "     ocean_proximity  \n",
       "5071       <1H OCEAN  \n",
       "7632       <1H OCEAN  \n",
       "2701          INLAND  "
      ]
     },
     "execution_count": 2,
     "metadata": {},
     "output_type": "execute_result"
    }
   ],
   "source": [
    "df.sample(3)"
   ]
  },
  {
   "cell_type": "markdown",
   "id": "4d150eee-a465-4cc3-acab-d8c9da90a4bd",
   "metadata": {},
   "source": [
    "### Questions\n",
    "\n",
    "+ What is the target variable?  median_house_value\n",
    "+ "
   ]
  },
  {
   "cell_type": "code",
   "execution_count": 3,
   "id": "67847b58",
   "metadata": {},
   "outputs": [
    {
     "data": {
      "text/plain": [
       "<AxesSubplot:>"
      ]
     },
     "execution_count": 3,
     "metadata": {},
     "output_type": "execute_result"
    },
    {
     "data": {
      "image/png": "[encoded data removed]",
      "text/plain": [
       "<Figure size 432x288 with 1 Axes>"
      ]
     },
     "metadata": {
      "needs_background": "light"
     },
     "output_type": "display_data"
    }
   ],
   "source": [
    "df.median_house_value.hist()"
   ]
  },
  {
   "cell_type": "code",
   "execution_count": 4,
   "id": "c560ca67",
   "metadata": {},
   "outputs": [
    {
     "data": {
      "text/plain": [
       "(count     20640.000000\n",
       " mean     206855.816909\n",
       " std      115395.615874\n",
       " min       14999.000000\n",
       " 25%      119600.000000\n",
       " 50%      179700.000000\n",
       " 75%      264725.000000\n",
       " max      500001.000000\n",
       " Name: median_house_value, dtype: float64,\n",
       " 179700.0)"
      ]
     },
     "execution_count": 4,
     "metadata": {},
     "output_type": "execute_result"
    }
   ],
   "source": [
    "df.median_house_value.describe(), df.median_house_value.median()"
   ]
  },
  {
   "cell_type": "code",
   "execution_count": 5,
   "id": "ba7400d3-5e73-4ff4-b786-fa355bcf5f36",
   "metadata": {},
   "outputs": [
    {
     "data": {
      "text/plain": [
       "(179700.0, 206855.81690891474)"
      ]
     },
     "execution_count": 5,
     "metadata": {},
     "output_type": "execute_result"
    }
   ],
   "source": [
    "df.median_house_value.median(), df.median_house_value.mean()"
   ]
  },
  {
   "cell_type": "code",
   "execution_count": 6,
   "id": "8de5c538-3c9c-429a-ac3c-116be9fd1c36",
   "metadata": {},
   "outputs": [],
   "source": [
    "v = [1,2,3,4,5,6,7,8,9,100000]"
   ]
  },
  {
   "cell_type": "code",
   "execution_count": 7,
   "id": "2105d2ff-3a9c-4abb-956b-204ae229772a",
   "metadata": {},
   "outputs": [
    {
     "data": {
      "text/plain": [
       "<AxesSubplot:>"
      ]
     },
     "execution_count": 7,
     "metadata": {},
     "output_type": "execute_result"
    },
    {
     "data": {
      "image/png": "[encoded data removed]",
      "text/plain": [
       "<Figure size 432x288 with 1 Axes>"
      ]
     },
     "metadata": {
      "needs_background": "light"
     },
     "output_type": "display_data"
    }
   ],
   "source": [
    "df.median_income.hist()"
   ]
  },
  {
   "cell_type": "code",
   "execution_count": 8,
   "id": "d559239e-f374-497a-909b-5149166586ab",
   "metadata": {},
   "outputs": [
    {
     "data": {
      "text/plain": [
       "<1H OCEAN     9136\n",
       "INLAND        6551\n",
       "NEAR OCEAN    2658\n",
       "NEAR BAY      2290\n",
       "ISLAND           5\n",
       "Name: ocean_proximity, dtype: int64"
      ]
     },
     "execution_count": 8,
     "metadata": {},
     "output_type": "execute_result"
    }
   ],
   "source": [
    "df.ocean_proximity.value_counts()"
   ]
  },
  {
   "cell_type": "markdown",
   "id": "46f66f47-346a-4dba-bace-cb4c7a4c3350",
   "metadata": {},
   "source": [
    "### Where are these island houses? How much?"
   ]
  },
  {
   "cell_type": "code",
   "execution_count": 9,
   "id": "57cf64d1-9891-4b38-9cbc-3ef789ca5c77",
   "metadata": {},
   "outputs": [],
   "source": [
    "island_houses = df[ df.ocean_proximity == 'ISLAND']"
   ]
  },
  {
   "cell_type": "code",
   "execution_count": 10,
   "id": "2442fffc-823c-4fd5-be80-4ecfd8018561",
   "metadata": {},
   "outputs": [
    {
     "data": {
      "text/html": [
       "<div>\n",
       "<style scoped>\n",
       "    .dataframe tbody tr th:only-of-type {\n",
       "        vertical-align: middle;\n",
       "    }\n",
       "\n",
       "    .dataframe tbody tr th {\n",
       "        vertical-align: top;\n",
       "    }\n",
       "\n",
       "    .dataframe thead th {\n",
       "        text-align: right;\n",
       "    }\n",
       "</style>\n",
       "<table border=\"1\" class=\"dataframe\">\n",
       "  <thead>\n",
       "    <tr style=\"text-align: right;\">\n",
       "      <th></th>\n",
       "      <th>longitude</th>\n",
       "      <th>latitude</th>\n",
       "      <th>housing_median_age</th>\n",
       "      <th>total_rooms</th>\n",
       "      <th>total_bedrooms</th>\n",
       "      <th>population</th>\n",
       "      <th>households</th>\n",
       "      <th>median_income</th>\n",
       "      <th>median_house_value</th>\n",
       "      <th>ocean_proximity</th>\n",
       "    </tr>\n",
       "  </thead>\n",
       "  <tbody>\n",
       "    <tr>\n",
       "      <th>8314</th>\n",
       "      <td>-118.32</td>\n",
       "      <td>33.35</td>\n",
       "      <td>27</td>\n",
       "      <td>1675</td>\n",
       "      <td>521.0</td>\n",
       "      <td>744</td>\n",
       "      <td>331</td>\n",
       "      <td>2.1579</td>\n",
       "      <td>450000</td>\n",
       "      <td>ISLAND</td>\n",
       "    </tr>\n",
       "    <tr>\n",
       "      <th>8315</th>\n",
       "      <td>-118.33</td>\n",
       "      <td>33.34</td>\n",
       "      <td>52</td>\n",
       "      <td>2359</td>\n",
       "      <td>591.0</td>\n",
       "      <td>1100</td>\n",
       "      <td>431</td>\n",
       "      <td>2.8333</td>\n",
       "      <td>414700</td>\n",
       "      <td>ISLAND</td>\n",
       "    </tr>\n",
       "    <tr>\n",
       "      <th>8316</th>\n",
       "      <td>-118.32</td>\n",
       "      <td>33.33</td>\n",
       "      <td>52</td>\n",
       "      <td>2127</td>\n",
       "      <td>512.0</td>\n",
       "      <td>733</td>\n",
       "      <td>288</td>\n",
       "      <td>3.3906</td>\n",
       "      <td>300000</td>\n",
       "      <td>ISLAND</td>\n",
       "    </tr>\n",
       "    <tr>\n",
       "      <th>8317</th>\n",
       "      <td>-118.32</td>\n",
       "      <td>33.34</td>\n",
       "      <td>52</td>\n",
       "      <td>996</td>\n",
       "      <td>264.0</td>\n",
       "      <td>341</td>\n",
       "      <td>160</td>\n",
       "      <td>2.7361</td>\n",
       "      <td>450000</td>\n",
       "      <td>ISLAND</td>\n",
       "    </tr>\n",
       "    <tr>\n",
       "      <th>8318</th>\n",
       "      <td>-118.48</td>\n",
       "      <td>33.43</td>\n",
       "      <td>29</td>\n",
       "      <td>716</td>\n",
       "      <td>214.0</td>\n",
       "      <td>422</td>\n",
       "      <td>173</td>\n",
       "      <td>2.6042</td>\n",
       "      <td>287500</td>\n",
       "      <td>ISLAND</td>\n",
       "    </tr>\n",
       "  </tbody>\n",
       "</table>\n",
       "</div>"
      ],
      "text/plain": [
       "      longitude  latitude  housing_median_age  total_rooms  total_bedrooms  \\\n",
       "8314    -118.32     33.35                  27         1675           521.0   \n",
       "8315    -118.33     33.34                  52         2359           591.0   \n",
       "8316    -118.32     33.33                  52         2127           512.0   \n",
       "8317    -118.32     33.34                  52          996           264.0   \n",
       "8318    -118.48     33.43                  29          716           214.0   \n",
       "\n",
       "      population  households  median_income  median_house_value  \\\n",
       "8314         744         331         2.1579              450000   \n",
       "8315        1100         431         2.8333              414700   \n",
       "8316         733         288         3.3906              300000   \n",
       "8317         341         160         2.7361              450000   \n",
       "8318         422         173         2.6042              287500   \n",
       "\n",
       "     ocean_proximity  \n",
       "8314          ISLAND  \n",
       "8315          ISLAND  \n",
       "8316          ISLAND  \n",
       "8317          ISLAND  \n",
       "8318          ISLAND  "
      ]
     },
     "execution_count": 10,
     "metadata": {},
     "output_type": "execute_result"
    }
   ],
   "source": [
    "island_houses"
   ]
  },
  {
   "cell_type": "markdown",
   "id": "fa49a2e7-409c-4157-99ee-5f0563e2dd57",
   "metadata": {},
   "source": [
    "### Let's see what this looks like"
   ]
  },
  {
   "cell_type": "code",
   "execution_count": 11,
   "id": "2997aa5b-1684-4596-8ba8-1b15cfe0d871",
   "metadata": {},
   "outputs": [
    {
     "data": {
      "image/png": "[encoded data removed]",
      "text/html": [
       "<div style=\"vertical-align: middle;\"><strong>jet</strong> </div><div class=\"cmap\"><img alt=\"jet colormap\" title=\"jet\" style=\"border: 1px solid #555;\" src=\"data:image/png;base64,iVBORw0KGgoAAAANSUhEUgAAAgAAAABACAYAAABsv8+/AAAAEnRFWHRUaXRsZQBqZXQgY29sb3JtYXBCuQ5RAAAAGHRFWHREZXNjcmlwdGlvbgBqZXQgY29sb3JtYXBOkXwLAAAAMHRFWHRBdXRob3IATWF0cGxvdGxpYiB2My40LjIsIGh0dHBzOi8vbWF0cGxvdGxpYi5vcmes1mPdAAAAMnRFWHRTb2Z0d2FyZQBNYXRwbG90bGliIHYzLjQuMiwgaHR0cHM6Ly9tYXRwbG90bGliLm9yZ4Jw/PoAAAGcSURBVHic7dbLTgJBEEDR4uF3++GCuqDHREx04RPvOZtKTUNnEljc3cz908zMzN1lzHG+dv8r9+7mXUfztub62x5Pa55nZma/5uFlXs6Pb56veVhz1udm26/nZ8//6z23+b7b/uE957Wftvm45qzzy9ytfbZ5vto/ev7T3/vr9/3yezytuX72edj209W+nc/refri/bvu3Q8AkCMAACBIAABAkAAAgCABAABBAgAAggQAAAQJAAAIEgAAECQAACBIAABAkAAAgCABAABBAgAAggQAAAQJAAAIEgAAECQAACBIAABAkAAAgCABAABBAgAAggQAAAQJAAAIEgAAECQAACBIAABAkAAAgCABAABBAgAAggQAAAQJAAAIEgAAECQAACBIAABAkAAAgCABAABBAgAAggQAAAQJAAAIEgAAECQAACBIAABAkAAAgCABAABBAgAAggQAAAQJAAAIEgAAECQAACBIAABAkAAAgCABAABBAgAAggQAAAQJAAAIEgAAECQAACBIAABAkAAAgCABAABBAgAAggQAAAQ9AzXZs/6J5AA/AAAAAElFTkSuQmCC\"></div><div style=\"vertical-align: middle; max-width: 514px; display: flex; justify-content: space-between;\"><div style=\"float: left;\"><div title=\"#000080ff\" style=\"display: inline-block; width: 1em; height: 1em; margin: 0; vertical-align: middle; border: 1px solid #555; background-color: #000080ff;\"></div> under</div><div style=\"margin: 0 auto; display: inline-block;\">bad <div title=\"#00000000\" style=\"display: inline-block; width: 1em; height: 1em; margin: 0; vertical-align: middle; border: 1px solid #555; background-color: #00000000;\"></div></div><div style=\"float: right;\">over <div title=\"#800000ff\" style=\"display: inline-block; width: 1em; height: 1em; margin: 0; vertical-align: middle; border: 1px solid #555; background-color: #800000ff;\"></div></div>"
      ],
      "text/plain": [
       "<matplotlib.colors.LinearSegmentedColormap at 0x7f831382bee0>"
      ]
     },
     "execution_count": 11,
     "metadata": {},
     "output_type": "execute_result"
    }
   ],
   "source": [
    "from matplotlib import pyplot\n",
    "pyplot.get_cmap('jet')"
   ]
  },
  {
   "cell_type": "code",
   "execution_count": 12,
   "id": "f1857c81-2e91-4b7f-8ede-b8831a29d2a2",
   "metadata": {},
   "outputs": [
    {
     "data": {
      "text/plain": [
       "<AxesSubplot:xlabel='longitude', ylabel='latitude'>"
      ]
     },
     "execution_count": 12,
     "metadata": {},
     "output_type": "execute_result"
    },
    {
     "data": {
      "image/png": "[encoded data removed]",
      "text/plain": [
       "<Figure size 864x432 with 2 Axes>"
      ]
     },
     "metadata": {
      "needs_background": "light"
     },
     "output_type": "display_data"
    }
   ],
   "source": [
    "df.plot.scatter(x='longitude', \n",
    "                y='latitude',\n",
    "                c='median_house_value',\n",
    "                s=df.population/100,\n",
    "                alpha=0.5,\n",
    "                cmap = pyplot.get_cmap('jet'),\n",
    "                figsize=(12,6))"
   ]
  },
  {
   "cell_type": "markdown",
   "id": "b6517b1a-ded7-4be0-83dd-cd59dea3e446",
   "metadata": {},
   "source": [
    "# Linear Model"
   ]
  },
  {
   "cell_type": "code",
   "execution_count": 13,
   "id": "d1c8f7f7-2de1-4b98-89ff-865cb37d2a31",
   "metadata": {},
   "outputs": [
    {
     "data": {
      "text/html": [
       "<div>\n",
       "<style scoped>\n",
       "    .dataframe tbody tr th:only-of-type {\n",
       "        vertical-align: middle;\n",
       "    }\n",
       "\n",
       "    .dataframe tbody tr th {\n",
       "        vertical-align: top;\n",
       "    }\n",
       "\n",
       "    .dataframe thead th {\n",
       "        text-align: right;\n",
       "    }\n",
       "</style>\n",
       "<table border=\"1\" class=\"dataframe\">\n",
       "  <thead>\n",
       "    <tr style=\"text-align: right;\">\n",
       "      <th></th>\n",
       "      <th>longitude</th>\n",
       "      <th>latitude</th>\n",
       "      <th>housing_median_age</th>\n",
       "      <th>total_rooms</th>\n",
       "      <th>total_bedrooms</th>\n",
       "      <th>population</th>\n",
       "      <th>households</th>\n",
       "      <th>median_income</th>\n",
       "      <th>median_house_value</th>\n",
       "      <th>ocean_proximity</th>\n",
       "    </tr>\n",
       "  </thead>\n",
       "  <tbody>\n",
       "    <tr>\n",
       "      <th>59</th>\n",
       "      <td>-122.29</td>\n",
       "      <td>37.82</td>\n",
       "      <td>2</td>\n",
       "      <td>158</td>\n",
       "      <td>43.0</td>\n",
       "      <td>94</td>\n",
       "      <td>57</td>\n",
       "      <td>2.5625</td>\n",
       "      <td>60000</td>\n",
       "      <td>NEAR BAY</td>\n",
       "    </tr>\n",
       "    <tr>\n",
       "      <th>11692</th>\n",
       "      <td>-117.99</td>\n",
       "      <td>33.87</td>\n",
       "      <td>34</td>\n",
       "      <td>1239</td>\n",
       "      <td>307.0</td>\n",
       "      <td>869</td>\n",
       "      <td>291</td>\n",
       "      <td>3.5900</td>\n",
       "      <td>161900</td>\n",
       "      <td>&lt;1H OCEAN</td>\n",
       "    </tr>\n",
       "    <tr>\n",
       "      <th>19051</th>\n",
       "      <td>-121.81</td>\n",
       "      <td>38.43</td>\n",
       "      <td>30</td>\n",
       "      <td>1674</td>\n",
       "      <td>297.0</td>\n",
       "      <td>756</td>\n",
       "      <td>292</td>\n",
       "      <td>3.9286</td>\n",
       "      <td>133100</td>\n",
       "      <td>INLAND</td>\n",
       "    </tr>\n",
       "  </tbody>\n",
       "</table>\n",
       "</div>"
      ],
      "text/plain": [
       "       longitude  latitude  housing_median_age  total_rooms  total_bedrooms  \\\n",
       "59       -122.29     37.82                   2          158            43.0   \n",
       "11692    -117.99     33.87                  34         1239           307.0   \n",
       "19051    -121.81     38.43                  30         1674           297.0   \n",
       "\n",
       "       population  households  median_income  median_house_value  \\\n",
       "59             94          57         2.5625               60000   \n",
       "11692         869         291         3.5900              161900   \n",
       "19051         756         292         3.9286              133100   \n",
       "\n",
       "      ocean_proximity  \n",
       "59           NEAR BAY  \n",
       "11692       <1H OCEAN  \n",
       "19051          INLAND  "
      ]
     },
     "execution_count": 13,
     "metadata": {},
     "output_type": "execute_result"
    }
   ],
   "source": [
    "df.sample(3)"
   ]
  },
  {
   "cell_type": "code",
   "execution_count": null,
   "id": "fb478d1c-8711-413e-b5c5-189ff1fd5730",
   "metadata": {},
   "outputs": [],
   "source": [
    "y = df.median_house_value\n",
    "df['rooms_per_household'] = df['total_rooms'] / df['households']"
   ]
  },
  {
   "cell_type": "code",
   "execution_count": null,
   "id": "8d1f1717-325f-46b6-b6cf-e857d8115bf8",
   "metadata": {},
   "outputs": [],
   "source": [
    "X = df[['median_income','housing_median_age','longitude','latitude','rooms_per_household']]"
   ]
  },
  {
   "cell_type": "code",
   "execution_count": null,
   "id": "79625c4b-b9f5-4bb6-b7aa-a4fa3a2c6bde",
   "metadata": {},
   "outputs": [],
   "source": [
    "from sklearn.linear_model import LinearRegression\n",
    "from sklearn.model_selection import cross_validate, ShuffleSplit"
   ]
  },
  {
   "cell_type": "code",
   "execution_count": null,
   "id": "4e713d29-9d0b-4a90-ae70-652b4ca4a54c",
   "metadata": {},
   "outputs": [],
   "source": [
    "model = LinearRegression()\n",
    "model.fit(X,y)"
   ]
  },
  {
   "cell_type": "code",
   "execution_count": null,
   "id": "65737aaf-5083-47e6-96ae-34b78e840288",
   "metadata": {},
   "outputs": [],
   "source": [
    "results = cross_validate(model, X, y, cv=ShuffleSplit(n_splits=200))\n",
    "results['test_score'].mean().round(3)"
   ]
  },
  {
   "cell_type": "markdown",
   "id": "53d15576-41ef-4a31-8e44-f15160c3267e",
   "metadata": {},
   "source": [
    "Will total bedrooms improve the model's prediction?\n",
    "\n",
    "Will proximity to the ocean improve the model's prediction?"
   ]
  },
  {
   "cell_type": "markdown",
   "id": "872a0a1a-97c4-4c16-abf7-6a50c034cc7d",
   "metadata": {},
   "source": [
    "### Is total_bedroom a good feature?"
   ]
  },
  {
   "cell_type": "code",
   "execution_count": 19,
   "id": "114a74ac-c410-46c4-9ee9-e71ad1ff34d9",
   "metadata": {},
   "outputs": [
    {
     "data": {
      "text/plain": [
       "(longitude                0\n",
       " latitude                 0\n",
       " housing_median_age       0\n",
       " total_rooms              0\n",
       " total_bedrooms         207\n",
       " population               0\n",
       " households               0\n",
       " median_income            0\n",
       " median_house_value       0\n",
       " ocean_proximity          0\n",
       " rooms_per_household      0\n",
       " dtype: int64,\n",
       " 20640)"
      ]
     },
     "execution_count": 19,
     "metadata": {},
     "output_type": "execute_result"
    }
   ],
   "source": [
    "df.isna().sum(), len(df)"
   ]
  },
  {
   "cell_type": "markdown",
   "id": "a82f2d5d-49df-46c1-a1e9-226a5e3e95fc",
   "metadata": {},
   "source": [
    "There's missing data in the total_bedrooms feature.  We'll remove the missing data."
   ]
  },
  {
   "cell_type": "code",
   "execution_count": 20,
   "id": "de149a1f-8cad-43dc-b910-b9d7c001ac2a",
   "metadata": {},
   "outputs": [
    {
     "data": {
      "text/plain": [
       "(longitude              0\n",
       " latitude               0\n",
       " housing_median_age     0\n",
       " total_rooms            0\n",
       " total_bedrooms         0\n",
       " population             0\n",
       " households             0\n",
       " median_income          0\n",
       " median_house_value     0\n",
       " ocean_proximity        0\n",
       " rooms_per_household    0\n",
       " dtype: int64,\n",
       " 20433)"
      ]
     },
     "execution_count": 20,
     "metadata": {},
     "output_type": "execute_result"
    }
   ],
   "source": [
    "df2 = df.dropna()\n",
    "df2.isna().sum(), len(df2)"
   ]
  },
  {
   "cell_type": "code",
   "execution_count": 21,
   "id": "eb10ca37-254f-46b4-ae00-6b67590a84de",
   "metadata": {},
   "outputs": [
    {
     "data": {
      "text/plain": [
       "0.604"
      ]
     },
     "execution_count": 21,
     "metadata": {},
     "output_type": "execute_result"
    }
   ],
   "source": [
    "y = df2.median_house_value\n",
    "X = df2[['median_income','housing_median_age','longitude','latitude',\n",
    "        'rooms_per_household','total_bedrooms']]\n",
    "model = LinearRegression()\n",
    "model.fit(X,y)\n",
    "results = cross_validate(model, X, y, cv=ShuffleSplit(n_splits=200))\n",
    "results['test_score'].mean().round(3)"
   ]
  },
  {
   "cell_type": "code",
   "execution_count": 22,
   "id": "c1db18c1",
   "metadata": {
    "tags": []
   },
   "outputs": [],
   "source": [
    "# from matplotlib import pyplot\n",
    "\n",
    "# df.plot.scatter(\n",
    "#     x='longitude', \n",
    "#     y='latitude', \n",
    "#     s=df['population']/100, \n",
    "#     c='median_house_value',\n",
    "#     alpha=0.2, \n",
    "#     figsize=(14,8),\n",
    "#     cmap=pyplot.get_cmap('jet'),\n",
    "# )\n",
    "\n",
    "# dt4 = tree.DecisionTreeClassifier(max_depth=4)\n",
    "# dt4.fit(X, y)\n",
    "# df = pandas.read_csv('../Datasets/iris.csv')\n",
    "# X = df[['SepalWidth','SepalLength','PetalWidth','PetalLength']]\n",
    "# y, species_names = pandas.factorize(df.Species)\n",
    "# viz = dtreeviz(dt4, X, y,\n",
    "# #                target_name='Species',\n",
    "#                feature_names=X.columns, class_names=list(species_names),\n",
    "#                fancy=True)  \n",
    "# viz.view() \n"
   ]
  },
  {
   "cell_type": "markdown",
   "id": "bc0e258a-4e54-4a7c-bf49-a9631dd03890",
   "metadata": {},
   "source": [
    "#### Will proximity to the ocean improve the model's prediction?"
   ]
  },
  {
   "cell_type": "code",
   "execution_count": 23,
   "id": "4f9fd5b5-3a64-4cc3-ae61-70cb75c0fe52",
   "metadata": {},
   "outputs": [
    {
     "data": {
      "text/plain": [
       "<1H OCEAN     9034\n",
       "INLAND        6496\n",
       "NEAR OCEAN    2628\n",
       "NEAR BAY      2270\n",
       "ISLAND           5\n",
       "Name: ocean_proximity, dtype: int64"
      ]
     },
     "execution_count": 23,
     "metadata": {},
     "output_type": "execute_result"
    }
   ],
   "source": [
    "df2['ocean_proximity'].value_counts()"
   ]
  },
  {
   "cell_type": "code",
   "execution_count": 24,
   "id": "12920d79-92a6-4ea5-a134-18b2615ba16a",
   "metadata": {},
   "outputs": [],
   "source": [
    "y = df2.median_house_value\n",
    "X = df2[['median_income','housing_median_age','longitude','latitude',\n",
    "        'rooms_per_household','total_bedrooms','ocean_proximity']]\n",
    "model = LinearRegression()\n",
    "# model.fit(X,y)\n",
    "# results = cross_validate(model, X, y, cv=ShuffleSplit(n_splits=200))\n",
    "# results['test_score'].mean().round(3)"
   ]
  },
  {
   "cell_type": "markdown",
   "id": "05cc1ecd-9e59-4a33-a1e9-9bdfae8faf26",
   "metadata": {},
   "source": [
    "ocean_proximity is a categorical variable. We need to convert that into numerical variables."
   ]
  },
  {
   "cell_type": "code",
   "execution_count": 25,
   "id": "f9d952b9-7e08-4323-a595-0ecc523369cd",
   "metadata": {},
   "outputs": [
    {
     "name": "stderr",
     "output_type": "stream",
     "text": [
      "/var/folders/b5/d9dklfjj6jsdgbt3rxf0_lyh0000gn/T/ipykernel_94277/493456677.py:2: SettingWithCopyWarning: \n",
      "A value is trying to be set on a copy of a slice from a DataFrame.\n",
      "Try using .loc[row_indexer,col_indexer] = value instead\n",
      "\n",
      "See the caveats in the documentation: https://pandas.pydata.org/pandas-docs/stable/user_guide/indexing.html#returning-a-view-versus-a-copy\n",
      "  df2['ocean_proximity'] = a\n"
     ]
    }
   ],
   "source": [
    "a, b = df2.ocean_proximity.factorize()\n",
    "df2['ocean_proximity'] = a"
   ]
  },
  {
   "cell_type": "code",
   "execution_count": 26,
   "id": "4b7b3e52-2f81-4ef0-a8d1-24c47636955f",
   "metadata": {},
   "outputs": [
    {
     "data": {
      "text/html": [
       "<div>\n",
       "<style scoped>\n",
       "    .dataframe tbody tr th:only-of-type {\n",
       "        vertical-align: middle;\n",
       "    }\n",
       "\n",
       "    .dataframe tbody tr th {\n",
       "        vertical-align: top;\n",
       "    }\n",
       "\n",
       "    .dataframe thead th {\n",
       "        text-align: right;\n",
       "    }\n",
       "</style>\n",
       "<table border=\"1\" class=\"dataframe\">\n",
       "  <thead>\n",
       "    <tr style=\"text-align: right;\">\n",
       "      <th></th>\n",
       "      <th>longitude</th>\n",
       "      <th>latitude</th>\n",
       "      <th>housing_median_age</th>\n",
       "      <th>total_rooms</th>\n",
       "      <th>total_bedrooms</th>\n",
       "      <th>population</th>\n",
       "      <th>households</th>\n",
       "      <th>median_income</th>\n",
       "      <th>median_house_value</th>\n",
       "      <th>ocean_proximity</th>\n",
       "      <th>rooms_per_household</th>\n",
       "    </tr>\n",
       "  </thead>\n",
       "  <tbody>\n",
       "    <tr>\n",
       "      <th>0</th>\n",
       "      <td>-122.23</td>\n",
       "      <td>37.88</td>\n",
       "      <td>41</td>\n",
       "      <td>880</td>\n",
       "      <td>129.0</td>\n",
       "      <td>322</td>\n",
       "      <td>126</td>\n",
       "      <td>8.3252</td>\n",
       "      <td>452600</td>\n",
       "      <td>0</td>\n",
       "      <td>6.984127</td>\n",
       "    </tr>\n",
       "    <tr>\n",
       "      <th>1</th>\n",
       "      <td>-122.22</td>\n",
       "      <td>37.86</td>\n",
       "      <td>21</td>\n",
       "      <td>7099</td>\n",
       "      <td>1106.0</td>\n",
       "      <td>2401</td>\n",
       "      <td>1138</td>\n",
       "      <td>8.3014</td>\n",
       "      <td>358500</td>\n",
       "      <td>0</td>\n",
       "      <td>6.238137</td>\n",
       "    </tr>\n",
       "    <tr>\n",
       "      <th>2</th>\n",
       "      <td>-122.24</td>\n",
       "      <td>37.85</td>\n",
       "      <td>52</td>\n",
       "      <td>1467</td>\n",
       "      <td>190.0</td>\n",
       "      <td>496</td>\n",
       "      <td>177</td>\n",
       "      <td>7.2574</td>\n",
       "      <td>352100</td>\n",
       "      <td>0</td>\n",
       "      <td>8.288136</td>\n",
       "    </tr>\n",
       "    <tr>\n",
       "      <th>3</th>\n",
       "      <td>-122.25</td>\n",
       "      <td>37.85</td>\n",
       "      <td>52</td>\n",
       "      <td>1274</td>\n",
       "      <td>235.0</td>\n",
       "      <td>558</td>\n",
       "      <td>219</td>\n",
       "      <td>5.6431</td>\n",
       "      <td>341300</td>\n",
       "      <td>0</td>\n",
       "      <td>5.817352</td>\n",
       "    </tr>\n",
       "    <tr>\n",
       "      <th>4</th>\n",
       "      <td>-122.25</td>\n",
       "      <td>37.85</td>\n",
       "      <td>52</td>\n",
       "      <td>1627</td>\n",
       "      <td>280.0</td>\n",
       "      <td>565</td>\n",
       "      <td>259</td>\n",
       "      <td>3.8462</td>\n",
       "      <td>342200</td>\n",
       "      <td>0</td>\n",
       "      <td>6.281853</td>\n",
       "    </tr>\n",
       "    <tr>\n",
       "      <th>...</th>\n",
       "      <td>...</td>\n",
       "      <td>...</td>\n",
       "      <td>...</td>\n",
       "      <td>...</td>\n",
       "      <td>...</td>\n",
       "      <td>...</td>\n",
       "      <td>...</td>\n",
       "      <td>...</td>\n",
       "      <td>...</td>\n",
       "      <td>...</td>\n",
       "      <td>...</td>\n",
       "    </tr>\n",
       "    <tr>\n",
       "      <th>20635</th>\n",
       "      <td>-121.09</td>\n",
       "      <td>39.48</td>\n",
       "      <td>25</td>\n",
       "      <td>1665</td>\n",
       "      <td>374.0</td>\n",
       "      <td>845</td>\n",
       "      <td>330</td>\n",
       "      <td>1.5603</td>\n",
       "      <td>78100</td>\n",
       "      <td>2</td>\n",
       "      <td>5.045455</td>\n",
       "    </tr>\n",
       "    <tr>\n",
       "      <th>20636</th>\n",
       "      <td>-121.21</td>\n",
       "      <td>39.49</td>\n",
       "      <td>18</td>\n",
       "      <td>697</td>\n",
       "      <td>150.0</td>\n",
       "      <td>356</td>\n",
       "      <td>114</td>\n",
       "      <td>2.5568</td>\n",
       "      <td>77100</td>\n",
       "      <td>2</td>\n",
       "      <td>6.114035</td>\n",
       "    </tr>\n",
       "    <tr>\n",
       "      <th>20637</th>\n",
       "      <td>-121.22</td>\n",
       "      <td>39.43</td>\n",
       "      <td>17</td>\n",
       "      <td>2254</td>\n",
       "      <td>485.0</td>\n",
       "      <td>1007</td>\n",
       "      <td>433</td>\n",
       "      <td>1.7000</td>\n",
       "      <td>92300</td>\n",
       "      <td>2</td>\n",
       "      <td>5.205543</td>\n",
       "    </tr>\n",
       "    <tr>\n",
       "      <th>20638</th>\n",
       "      <td>-121.32</td>\n",
       "      <td>39.43</td>\n",
       "      <td>18</td>\n",
       "      <td>1860</td>\n",
       "      <td>409.0</td>\n",
       "      <td>741</td>\n",
       "      <td>349</td>\n",
       "      <td>1.8672</td>\n",
       "      <td>84700</td>\n",
       "      <td>2</td>\n",
       "      <td>5.329513</td>\n",
       "    </tr>\n",
       "    <tr>\n",
       "      <th>20639</th>\n",
       "      <td>-121.24</td>\n",
       "      <td>39.37</td>\n",
       "      <td>16</td>\n",
       "      <td>2785</td>\n",
       "      <td>616.0</td>\n",
       "      <td>1387</td>\n",
       "      <td>530</td>\n",
       "      <td>2.3886</td>\n",
       "      <td>89400</td>\n",
       "      <td>2</td>\n",
       "      <td>5.254717</td>\n",
       "    </tr>\n",
       "  </tbody>\n",
       "</table>\n",
       "<p>20433 rows × 11 columns</p>\n",
       "</div>"
      ],
      "text/plain": [
       "       longitude  latitude  housing_median_age  total_rooms  total_bedrooms  \\\n",
       "0        -122.23     37.88                  41          880           129.0   \n",
       "1        -122.22     37.86                  21         7099          1106.0   \n",
       "2        -122.24     37.85                  52         1467           190.0   \n",
       "3        -122.25     37.85                  52         1274           235.0   \n",
       "4        -122.25     37.85                  52         1627           280.0   \n",
       "...          ...       ...                 ...          ...             ...   \n",
       "20635    -121.09     39.48                  25         1665           374.0   \n",
       "20636    -121.21     39.49                  18          697           150.0   \n",
       "20637    -121.22     39.43                  17         2254           485.0   \n",
       "20638    -121.32     39.43                  18         1860           409.0   \n",
       "20639    -121.24     39.37                  16         2785           616.0   \n",
       "\n",
       "       population  households  median_income  median_house_value  \\\n",
       "0             322         126         8.3252              452600   \n",
       "1            2401        1138         8.3014              358500   \n",
       "2             496         177         7.2574              352100   \n",
       "3             558         219         5.6431              341300   \n",
       "4             565         259         3.8462              342200   \n",
       "...           ...         ...            ...                 ...   \n",
       "20635         845         330         1.5603               78100   \n",
       "20636         356         114         2.5568               77100   \n",
       "20637        1007         433         1.7000               92300   \n",
       "20638         741         349         1.8672               84700   \n",
       "20639        1387         530         2.3886               89400   \n",
       "\n",
       "       ocean_proximity  rooms_per_household  \n",
       "0                    0             6.984127  \n",
       "1                    0             6.238137  \n",
       "2                    0             8.288136  \n",
       "3                    0             5.817352  \n",
       "4                    0             6.281853  \n",
       "...                ...                  ...  \n",
       "20635                2             5.045455  \n",
       "20636                2             6.114035  \n",
       "20637                2             5.205543  \n",
       "20638                2             5.329513  \n",
       "20639                2             5.254717  \n",
       "\n",
       "[20433 rows x 11 columns]"
      ]
     },
     "execution_count": 26,
     "metadata": {},
     "output_type": "execute_result"
    }
   ],
   "source": [
    "df2"
   ]
  },
  {
   "cell_type": "code",
   "execution_count": 27,
   "id": "601d7f8d-534e-4c5c-b4c3-83516943f543",
   "metadata": {},
   "outputs": [
    {
     "name": "stderr",
     "output_type": "stream",
     "text": [
      "/var/folders/b5/d9dklfjj6jsdgbt3rxf0_lyh0000gn/T/ipykernel_94277/1035574377.py:3: SettingWithCopyWarning: \n",
      "A value is trying to be set on a copy of a slice from a DataFrame.\n",
      "Try using .loc[row_indexer,col_indexer] = value instead\n",
      "\n",
      "See the caveats in the documentation: https://pandas.pydata.org/pandas-docs/stable/user_guide/indexing.html#returning-a-view-versus-a-copy\n",
      "  df2['ocean_proximity'] = a\n"
     ]
    },
    {
     "data": {
      "text/plain": [
       "0.602"
      ]
     },
     "execution_count": 27,
     "metadata": {},
     "output_type": "execute_result"
    }
   ],
   "source": [
    "df2 = df.dropna()\n",
    "a, b = df2.ocean_proximity.factorize()\n",
    "df2['ocean_proximity'] = a\n",
    "y = df2.median_house_value\n",
    "X = df2[['median_income','housing_median_age','longitude','latitude',\n",
    "        'rooms_per_household','total_bedrooms','ocean_proximity']]\n",
    "model = LinearRegression()\n",
    "model.fit(X,y)\n",
    "results = cross_validate(model, X, y, cv=ShuffleSplit(n_splits=200))\n",
    "results['test_score'].mean().round(3)"
   ]
  },
  {
   "cell_type": "code",
   "execution_count": null,
   "id": "caaf7a44-c581-4c98-8cc4-fe013642bccf",
   "metadata": {},
   "outputs": [],
   "source": []
  },
  {
   "cell_type": "code",
   "execution_count": null,
   "id": "114bf3c9-943d-4e14-bc63-edcbc3c05d31",
   "metadata": {},
   "outputs": [],
   "source": []
  },
  {
   "cell_type": "code",
   "execution_count": 28,
   "id": "28f49819-9d7e-46ba-ac7d-618f5fd13ad9",
   "metadata": {},
   "outputs": [
    {
     "data": {
      "text/plain": [
       "<1H OCEAN     9136\n",
       "INLAND        6551\n",
       "NEAR OCEAN    2658\n",
       "NEAR BAY      2290\n",
       "ISLAND           5\n",
       "Name: ocean_proximity, dtype: int64"
      ]
     },
     "execution_count": 28,
     "metadata": {},
     "output_type": "execute_result"
    }
   ],
   "source": [
    "df.ocean_proximity.value_counts()"
   ]
  },
  {
   "cell_type": "code",
   "execution_count": 29,
   "id": "400296bb-41f9-474a-8030-ec5d5270df1d",
   "metadata": {},
   "outputs": [
    {
     "data": {
      "text/plain": [
       "1    9034\n",
       "2    6496\n",
       "3    2628\n",
       "0    2270\n",
       "4       5\n",
       "Name: ocean_proximity, dtype: int64"
      ]
     },
     "execution_count": 29,
     "metadata": {},
     "output_type": "execute_result"
    }
   ],
   "source": [
    "df2.ocean_proximity.value_counts()"
   ]
  },
  {
   "cell_type": "code",
   "execution_count": 30,
   "id": "183fcfed-0eb8-44a8-b181-8c7b08fc5575",
   "metadata": {},
   "outputs": [],
   "source": [
    "df3 = df.dropna()\n",
    "df4 = pandas.get_dummies(df3)\n"
   ]
  },
  {
   "cell_type": "code",
   "execution_count": 31,
   "id": "df364b93-789e-4ad5-bc02-96475a433045",
   "metadata": {},
   "outputs": [
    {
     "data": {
      "text/html": [
       "<div>\n",
       "<style scoped>\n",
       "    .dataframe tbody tr th:only-of-type {\n",
       "        vertical-align: middle;\n",
       "    }\n",
       "\n",
       "    .dataframe tbody tr th {\n",
       "        vertical-align: top;\n",
       "    }\n",
       "\n",
       "    .dataframe thead th {\n",
       "        text-align: right;\n",
       "    }\n",
       "</style>\n",
       "<table border=\"1\" class=\"dataframe\">\n",
       "  <thead>\n",
       "    <tr style=\"text-align: right;\">\n",
       "      <th></th>\n",
       "      <th>longitude</th>\n",
       "      <th>latitude</th>\n",
       "      <th>housing_median_age</th>\n",
       "      <th>total_rooms</th>\n",
       "      <th>total_bedrooms</th>\n",
       "      <th>population</th>\n",
       "      <th>households</th>\n",
       "      <th>median_income</th>\n",
       "      <th>median_house_value</th>\n",
       "      <th>rooms_per_household</th>\n",
       "      <th>ocean_proximity_&lt;1H OCEAN</th>\n",
       "      <th>ocean_proximity_INLAND</th>\n",
       "      <th>ocean_proximity_ISLAND</th>\n",
       "      <th>ocean_proximity_NEAR BAY</th>\n",
       "      <th>ocean_proximity_NEAR OCEAN</th>\n",
       "    </tr>\n",
       "  </thead>\n",
       "  <tbody>\n",
       "    <tr>\n",
       "      <th>0</th>\n",
       "      <td>-122.23</td>\n",
       "      <td>37.88</td>\n",
       "      <td>41</td>\n",
       "      <td>880</td>\n",
       "      <td>129.0</td>\n",
       "      <td>322</td>\n",
       "      <td>126</td>\n",
       "      <td>8.3252</td>\n",
       "      <td>452600</td>\n",
       "      <td>6.984127</td>\n",
       "      <td>0</td>\n",
       "      <td>0</td>\n",
       "      <td>0</td>\n",
       "      <td>1</td>\n",
       "      <td>0</td>\n",
       "    </tr>\n",
       "    <tr>\n",
       "      <th>1</th>\n",
       "      <td>-122.22</td>\n",
       "      <td>37.86</td>\n",
       "      <td>21</td>\n",
       "      <td>7099</td>\n",
       "      <td>1106.0</td>\n",
       "      <td>2401</td>\n",
       "      <td>1138</td>\n",
       "      <td>8.3014</td>\n",
       "      <td>358500</td>\n",
       "      <td>6.238137</td>\n",
       "      <td>0</td>\n",
       "      <td>0</td>\n",
       "      <td>0</td>\n",
       "      <td>1</td>\n",
       "      <td>0</td>\n",
       "    </tr>\n",
       "    <tr>\n",
       "      <th>2</th>\n",
       "      <td>-122.24</td>\n",
       "      <td>37.85</td>\n",
       "      <td>52</td>\n",
       "      <td>1467</td>\n",
       "      <td>190.0</td>\n",
       "      <td>496</td>\n",
       "      <td>177</td>\n",
       "      <td>7.2574</td>\n",
       "      <td>352100</td>\n",
       "      <td>8.288136</td>\n",
       "      <td>0</td>\n",
       "      <td>0</td>\n",
       "      <td>0</td>\n",
       "      <td>1</td>\n",
       "      <td>0</td>\n",
       "    </tr>\n",
       "    <tr>\n",
       "      <th>3</th>\n",
       "      <td>-122.25</td>\n",
       "      <td>37.85</td>\n",
       "      <td>52</td>\n",
       "      <td>1274</td>\n",
       "      <td>235.0</td>\n",
       "      <td>558</td>\n",
       "      <td>219</td>\n",
       "      <td>5.6431</td>\n",
       "      <td>341300</td>\n",
       "      <td>5.817352</td>\n",
       "      <td>0</td>\n",
       "      <td>0</td>\n",
       "      <td>0</td>\n",
       "      <td>1</td>\n",
       "      <td>0</td>\n",
       "    </tr>\n",
       "    <tr>\n",
       "      <th>4</th>\n",
       "      <td>-122.25</td>\n",
       "      <td>37.85</td>\n",
       "      <td>52</td>\n",
       "      <td>1627</td>\n",
       "      <td>280.0</td>\n",
       "      <td>565</td>\n",
       "      <td>259</td>\n",
       "      <td>3.8462</td>\n",
       "      <td>342200</td>\n",
       "      <td>6.281853</td>\n",
       "      <td>0</td>\n",
       "      <td>0</td>\n",
       "      <td>0</td>\n",
       "      <td>1</td>\n",
       "      <td>0</td>\n",
       "    </tr>\n",
       "    <tr>\n",
       "      <th>...</th>\n",
       "      <td>...</td>\n",
       "      <td>...</td>\n",
       "      <td>...</td>\n",
       "      <td>...</td>\n",
       "      <td>...</td>\n",
       "      <td>...</td>\n",
       "      <td>...</td>\n",
       "      <td>...</td>\n",
       "      <td>...</td>\n",
       "      <td>...</td>\n",
       "      <td>...</td>\n",
       "      <td>...</td>\n",
       "      <td>...</td>\n",
       "      <td>...</td>\n",
       "      <td>...</td>\n",
       "    </tr>\n",
       "    <tr>\n",
       "      <th>20635</th>\n",
       "      <td>-121.09</td>\n",
       "      <td>39.48</td>\n",
       "      <td>25</td>\n",
       "      <td>1665</td>\n",
       "      <td>374.0</td>\n",
       "      <td>845</td>\n",
       "      <td>330</td>\n",
       "      <td>1.5603</td>\n",
       "      <td>78100</td>\n",
       "      <td>5.045455</td>\n",
       "      <td>0</td>\n",
       "      <td>1</td>\n",
       "      <td>0</td>\n",
       "      <td>0</td>\n",
       "      <td>0</td>\n",
       "    </tr>\n",
       "    <tr>\n",
       "      <th>20636</th>\n",
       "      <td>-121.21</td>\n",
       "      <td>39.49</td>\n",
       "      <td>18</td>\n",
       "      <td>697</td>\n",
       "      <td>150.0</td>\n",
       "      <td>356</td>\n",
       "      <td>114</td>\n",
       "      <td>2.5568</td>\n",
       "      <td>77100</td>\n",
       "      <td>6.114035</td>\n",
       "      <td>0</td>\n",
       "      <td>1</td>\n",
       "      <td>0</td>\n",
       "      <td>0</td>\n",
       "      <td>0</td>\n",
       "    </tr>\n",
       "    <tr>\n",
       "      <th>20637</th>\n",
       "      <td>-121.22</td>\n",
       "      <td>39.43</td>\n",
       "      <td>17</td>\n",
       "      <td>2254</td>\n",
       "      <td>485.0</td>\n",
       "      <td>1007</td>\n",
       "      <td>433</td>\n",
       "      <td>1.7000</td>\n",
       "      <td>92300</td>\n",
       "      <td>5.205543</td>\n",
       "      <td>0</td>\n",
       "      <td>1</td>\n",
       "      <td>0</td>\n",
       "      <td>0</td>\n",
       "      <td>0</td>\n",
       "    </tr>\n",
       "    <tr>\n",
       "      <th>20638</th>\n",
       "      <td>-121.32</td>\n",
       "      <td>39.43</td>\n",
       "      <td>18</td>\n",
       "      <td>1860</td>\n",
       "      <td>409.0</td>\n",
       "      <td>741</td>\n",
       "      <td>349</td>\n",
       "      <td>1.8672</td>\n",
       "      <td>84700</td>\n",
       "      <td>5.329513</td>\n",
       "      <td>0</td>\n",
       "      <td>1</td>\n",
       "      <td>0</td>\n",
       "      <td>0</td>\n",
       "      <td>0</td>\n",
       "    </tr>\n",
       "    <tr>\n",
       "      <th>20639</th>\n",
       "      <td>-121.24</td>\n",
       "      <td>39.37</td>\n",
       "      <td>16</td>\n",
       "      <td>2785</td>\n",
       "      <td>616.0</td>\n",
       "      <td>1387</td>\n",
       "      <td>530</td>\n",
       "      <td>2.3886</td>\n",
       "      <td>89400</td>\n",
       "      <td>5.254717</td>\n",
       "      <td>0</td>\n",
       "      <td>1</td>\n",
       "      <td>0</td>\n",
       "      <td>0</td>\n",
       "      <td>0</td>\n",
       "    </tr>\n",
       "  </tbody>\n",
       "</table>\n",
       "<p>20433 rows × 15 columns</p>\n",
       "</div>"
      ],
      "text/plain": [
       "       longitude  latitude  housing_median_age  total_rooms  total_bedrooms  \\\n",
       "0        -122.23     37.88                  41          880           129.0   \n",
       "1        -122.22     37.86                  21         7099          1106.0   \n",
       "2        -122.24     37.85                  52         1467           190.0   \n",
       "3        -122.25     37.85                  52         1274           235.0   \n",
       "4        -122.25     37.85                  52         1627           280.0   \n",
       "...          ...       ...                 ...          ...             ...   \n",
       "20635    -121.09     39.48                  25         1665           374.0   \n",
       "20636    -121.21     39.49                  18          697           150.0   \n",
       "20637    -121.22     39.43                  17         2254           485.0   \n",
       "20638    -121.32     39.43                  18         1860           409.0   \n",
       "20639    -121.24     39.37                  16         2785           616.0   \n",
       "\n",
       "       population  households  median_income  median_house_value  \\\n",
       "0             322         126         8.3252              452600   \n",
       "1            2401        1138         8.3014              358500   \n",
       "2             496         177         7.2574              352100   \n",
       "3             558         219         5.6431              341300   \n",
       "4             565         259         3.8462              342200   \n",
       "...           ...         ...            ...                 ...   \n",
       "20635         845         330         1.5603               78100   \n",
       "20636         356         114         2.5568               77100   \n",
       "20637        1007         433         1.7000               92300   \n",
       "20638         741         349         1.8672               84700   \n",
       "20639        1387         530         2.3886               89400   \n",
       "\n",
       "       rooms_per_household  ocean_proximity_<1H OCEAN  ocean_proximity_INLAND  \\\n",
       "0                 6.984127                          0                       0   \n",
       "1                 6.238137                          0                       0   \n",
       "2                 8.288136                          0                       0   \n",
       "3                 5.817352                          0                       0   \n",
       "4                 6.281853                          0                       0   \n",
       "...                    ...                        ...                     ...   \n",
       "20635             5.045455                          0                       1   \n",
       "20636             6.114035                          0                       1   \n",
       "20637             5.205543                          0                       1   \n",
       "20638             5.329513                          0                       1   \n",
       "20639             5.254717                          0                       1   \n",
       "\n",
       "       ocean_proximity_ISLAND  ocean_proximity_NEAR BAY  \\\n",
       "0                           0                         1   \n",
       "1                           0                         1   \n",
       "2                           0                         1   \n",
       "3                           0                         1   \n",
       "4                           0                         1   \n",
       "...                       ...                       ...   \n",
       "20635                       0                         0   \n",
       "20636                       0                         0   \n",
       "20637                       0                         0   \n",
       "20638                       0                         0   \n",
       "20639                       0                         0   \n",
       "\n",
       "       ocean_proximity_NEAR OCEAN  \n",
       "0                               0  \n",
       "1                               0  \n",
       "2                               0  \n",
       "3                               0  \n",
       "4                               0  \n",
       "...                           ...  \n",
       "20635                           0  \n",
       "20636                           0  \n",
       "20637                           0  \n",
       "20638                           0  \n",
       "20639                           0  \n",
       "\n",
       "[20433 rows x 15 columns]"
      ]
     },
     "execution_count": 31,
     "metadata": {},
     "output_type": "execute_result"
    }
   ],
   "source": [
    "df4"
   ]
  },
  {
   "cell_type": "markdown",
   "id": "9222d421-1693-42dc-b14d-70ffd0d4301e",
   "metadata": {},
   "source": [
    "#### Using all features"
   ]
  },
  {
   "cell_type": "code",
   "execution_count": 43,
   "id": "fe2f8a0c-331a-4dd8-b5dd-5e146ac8e605",
   "metadata": {},
   "outputs": [
    {
     "data": {
      "text/html": [
       "<div>\n",
       "<style scoped>\n",
       "    .dataframe tbody tr th:only-of-type {\n",
       "        vertical-align: middle;\n",
       "    }\n",
       "\n",
       "    .dataframe tbody tr th {\n",
       "        vertical-align: top;\n",
       "    }\n",
       "\n",
       "    .dataframe thead th {\n",
       "        text-align: right;\n",
       "    }\n",
       "</style>\n",
       "<table border=\"1\" class=\"dataframe\">\n",
       "  <thead>\n",
       "    <tr style=\"text-align: right;\">\n",
       "      <th></th>\n",
       "      <th>longitude</th>\n",
       "      <th>latitude</th>\n",
       "      <th>housing_median_age</th>\n",
       "      <th>total_rooms</th>\n",
       "      <th>total_bedrooms</th>\n",
       "      <th>population</th>\n",
       "      <th>households</th>\n",
       "      <th>median_income</th>\n",
       "      <th>median_house_value</th>\n",
       "      <th>ocean_proximity_&lt;1H OCEAN</th>\n",
       "      <th>ocean_proximity_INLAND</th>\n",
       "      <th>ocean_proximity_ISLAND</th>\n",
       "      <th>ocean_proximity_NEAR BAY</th>\n",
       "      <th>ocean_proximity_NEAR OCEAN</th>\n",
       "    </tr>\n",
       "  </thead>\n",
       "  <tbody>\n",
       "    <tr>\n",
       "      <th>0</th>\n",
       "      <td>-122.23</td>\n",
       "      <td>37.88</td>\n",
       "      <td>41</td>\n",
       "      <td>880</td>\n",
       "      <td>129.0</td>\n",
       "      <td>322</td>\n",
       "      <td>126</td>\n",
       "      <td>8.3252</td>\n",
       "      <td>452600</td>\n",
       "      <td>0</td>\n",
       "      <td>0</td>\n",
       "      <td>0</td>\n",
       "      <td>1</td>\n",
       "      <td>0</td>\n",
       "    </tr>\n",
       "    <tr>\n",
       "      <th>1</th>\n",
       "      <td>-122.22</td>\n",
       "      <td>37.86</td>\n",
       "      <td>21</td>\n",
       "      <td>7099</td>\n",
       "      <td>1106.0</td>\n",
       "      <td>2401</td>\n",
       "      <td>1138</td>\n",
       "      <td>8.3014</td>\n",
       "      <td>358500</td>\n",
       "      <td>0</td>\n",
       "      <td>0</td>\n",
       "      <td>0</td>\n",
       "      <td>1</td>\n",
       "      <td>0</td>\n",
       "    </tr>\n",
       "    <tr>\n",
       "      <th>2</th>\n",
       "      <td>-122.24</td>\n",
       "      <td>37.85</td>\n",
       "      <td>52</td>\n",
       "      <td>1467</td>\n",
       "      <td>190.0</td>\n",
       "      <td>496</td>\n",
       "      <td>177</td>\n",
       "      <td>7.2574</td>\n",
       "      <td>352100</td>\n",
       "      <td>0</td>\n",
       "      <td>0</td>\n",
       "      <td>0</td>\n",
       "      <td>1</td>\n",
       "      <td>0</td>\n",
       "    </tr>\n",
       "    <tr>\n",
       "      <th>3</th>\n",
       "      <td>-122.25</td>\n",
       "      <td>37.85</td>\n",
       "      <td>52</td>\n",
       "      <td>1274</td>\n",
       "      <td>235.0</td>\n",
       "      <td>558</td>\n",
       "      <td>219</td>\n",
       "      <td>5.6431</td>\n",
       "      <td>341300</td>\n",
       "      <td>0</td>\n",
       "      <td>0</td>\n",
       "      <td>0</td>\n",
       "      <td>1</td>\n",
       "      <td>0</td>\n",
       "    </tr>\n",
       "    <tr>\n",
       "      <th>4</th>\n",
       "      <td>-122.25</td>\n",
       "      <td>37.85</td>\n",
       "      <td>52</td>\n",
       "      <td>1627</td>\n",
       "      <td>280.0</td>\n",
       "      <td>565</td>\n",
       "      <td>259</td>\n",
       "      <td>3.8462</td>\n",
       "      <td>342200</td>\n",
       "      <td>0</td>\n",
       "      <td>0</td>\n",
       "      <td>0</td>\n",
       "      <td>1</td>\n",
       "      <td>0</td>\n",
       "    </tr>\n",
       "  </tbody>\n",
       "</table>\n",
       "</div>"
      ],
      "text/plain": [
       "   longitude  latitude  housing_median_age  total_rooms  total_bedrooms  \\\n",
       "0    -122.23     37.88                  41          880           129.0   \n",
       "1    -122.22     37.86                  21         7099          1106.0   \n",
       "2    -122.24     37.85                  52         1467           190.0   \n",
       "3    -122.25     37.85                  52         1274           235.0   \n",
       "4    -122.25     37.85                  52         1627           280.0   \n",
       "\n",
       "   population  households  median_income  median_house_value  \\\n",
       "0         322         126         8.3252              452600   \n",
       "1        2401        1138         8.3014              358500   \n",
       "2         496         177         7.2574              352100   \n",
       "3         558         219         5.6431              341300   \n",
       "4         565         259         3.8462              342200   \n",
       "\n",
       "   ocean_proximity_<1H OCEAN  ocean_proximity_INLAND  ocean_proximity_ISLAND  \\\n",
       "0                          0                       0                       0   \n",
       "1                          0                       0                       0   \n",
       "2                          0                       0                       0   \n",
       "3                          0                       0                       0   \n",
       "4                          0                       0                       0   \n",
       "\n",
       "   ocean_proximity_NEAR BAY  ocean_proximity_NEAR OCEAN  \n",
       "0                         1                           0  \n",
       "1                         1                           0  \n",
       "2                         1                           0  \n",
       "3                         1                           0  \n",
       "4                         1                           0  "
      ]
     },
     "execution_count": 43,
     "metadata": {},
     "output_type": "execute_result"
    }
   ],
   "source": [
    "df = pandas.read_csv('../../Datasets/cali_housing.csv')\n",
    "df = df.dropna()\n",
    "df = pandas.get_dummies(df)\n",
    "df.head()"
   ]
  },
  {
   "cell_type": "code",
   "execution_count": 47,
   "id": "d61ad2c4-3726-4521-bff8-abb1e36d2adb",
   "metadata": {},
   "outputs": [
    {
     "data": {
      "text/plain": [
       "0.645"
      ]
     },
     "execution_count": 47,
     "metadata": {},
     "output_type": "execute_result"
    }
   ],
   "source": [
    "y = df.median_house_value\n",
    "X = df.drop(columns=['median_house_value'])\n",
    "model = LinearRegression()\n",
    "results = cross_validate(model, X, y, cv=ShuffleSplit(n_splits=100))\n",
    "results['test_score'].mean().round(3)"
   ]
  },
  {
   "cell_type": "markdown",
   "id": "4a0d3ab5-a90a-40e6-9ffe-f6785b8c5532",
   "metadata": {},
   "source": [
    "#### Narrow down the location"
   ]
  },
  {
   "cell_type": "code",
   "execution_count": 51,
   "id": "4ca19500-3bb7-42d4-9fe6-2f73e8242e75",
   "metadata": {},
   "outputs": [
    {
     "data": {
      "text/plain": [
       "longitude                    -0.05\n",
       "latitude                     -0.14\n",
       "housing_median_age            0.11\n",
       "total_rooms                   0.13\n",
       "total_bedrooms                0.05\n",
       "population                   -0.03\n",
       "households                    0.06\n",
       "median_income                 0.69\n",
       "median_house_value            1.00\n",
       "ocean_proximity_<1H OCEAN     0.26\n",
       "ocean_proximity_INLAND       -0.48\n",
       "ocean_proximity_ISLAND        0.02\n",
       "ocean_proximity_NEAR BAY      0.16\n",
       "ocean_proximity_NEAR OCEAN    0.14\n",
       "Name: median_house_value, dtype: float64"
      ]
     },
     "execution_count": 51,
     "metadata": {},
     "output_type": "execute_result"
    }
   ],
   "source": [
    "df.corr().round(2).loc['median_house_value']"
   ]
  },
  {
   "cell_type": "code",
   "execution_count": 33,
   "id": "bf7ca839-6108-40c6-9069-c517b23497e6",
   "metadata": {},
   "outputs": [
    {
     "data": {
      "text/html": [
       "<div>\n",
       "<style scoped>\n",
       "    .dataframe tbody tr th:only-of-type {\n",
       "        vertical-align: middle;\n",
       "    }\n",
       "\n",
       "    .dataframe tbody tr th {\n",
       "        vertical-align: top;\n",
       "    }\n",
       "\n",
       "    .dataframe thead th {\n",
       "        text-align: right;\n",
       "    }\n",
       "</style>\n",
       "<table border=\"1\" class=\"dataframe\">\n",
       "  <thead>\n",
       "    <tr style=\"text-align: right;\">\n",
       "      <th></th>\n",
       "      <th>longitude</th>\n",
       "      <th>latitude</th>\n",
       "      <th>housing_median_age</th>\n",
       "      <th>total_rooms</th>\n",
       "      <th>total_bedrooms</th>\n",
       "      <th>population</th>\n",
       "      <th>households</th>\n",
       "      <th>median_income</th>\n",
       "      <th>median_house_value</th>\n",
       "      <th>rooms_per_household</th>\n",
       "      <th>ocean_proximity_NEAR BAY</th>\n",
       "    </tr>\n",
       "  </thead>\n",
       "  <tbody>\n",
       "    <tr>\n",
       "      <th>15880</th>\n",
       "      <td>-122.41</td>\n",
       "      <td>37.75</td>\n",
       "      <td>52</td>\n",
       "      <td>2452</td>\n",
       "      <td>623.0</td>\n",
       "      <td>1932</td>\n",
       "      <td>549</td>\n",
       "      <td>2.3903</td>\n",
       "      <td>236100</td>\n",
       "      <td>4.466302</td>\n",
       "      <td>1</td>\n",
       "    </tr>\n",
       "    <tr>\n",
       "      <th>203</th>\n",
       "      <td>-122.23</td>\n",
       "      <td>37.78</td>\n",
       "      <td>52</td>\n",
       "      <td>986</td>\n",
       "      <td>258.0</td>\n",
       "      <td>1008</td>\n",
       "      <td>255</td>\n",
       "      <td>1.4844</td>\n",
       "      <td>119400</td>\n",
       "      <td>3.866667</td>\n",
       "      <td>1</td>\n",
       "    </tr>\n",
       "    <tr>\n",
       "      <th>473</th>\n",
       "      <td>-122.29</td>\n",
       "      <td>37.86</td>\n",
       "      <td>50</td>\n",
       "      <td>2485</td>\n",
       "      <td>607.0</td>\n",
       "      <td>1354</td>\n",
       "      <td>563</td>\n",
       "      <td>1.9483</td>\n",
       "      <td>150500</td>\n",
       "      <td>4.413854</td>\n",
       "      <td>1</td>\n",
       "    </tr>\n",
       "    <tr>\n",
       "      <th>807</th>\n",
       "      <td>-122.03</td>\n",
       "      <td>37.62</td>\n",
       "      <td>35</td>\n",
       "      <td>2072</td>\n",
       "      <td>352.0</td>\n",
       "      <td>1001</td>\n",
       "      <td>350</td>\n",
       "      <td>4.7109</td>\n",
       "      <td>198700</td>\n",
       "      <td>5.920000</td>\n",
       "      <td>1</td>\n",
       "    </tr>\n",
       "    <tr>\n",
       "      <th>9948</th>\n",
       "      <td>-122.33</td>\n",
       "      <td>38.21</td>\n",
       "      <td>33</td>\n",
       "      <td>2017</td>\n",
       "      <td>370.0</td>\n",
       "      <td>949</td>\n",
       "      <td>342</td>\n",
       "      <td>4.6250</td>\n",
       "      <td>228600</td>\n",
       "      <td>5.897661</td>\n",
       "      <td>1</td>\n",
       "    </tr>\n",
       "  </tbody>\n",
       "</table>\n",
       "</div>"
      ],
      "text/plain": [
       "       longitude  latitude  housing_median_age  total_rooms  total_bedrooms  \\\n",
       "15880    -122.41     37.75                  52         2452           623.0   \n",
       "203      -122.23     37.78                  52          986           258.0   \n",
       "473      -122.29     37.86                  50         2485           607.0   \n",
       "807      -122.03     37.62                  35         2072           352.0   \n",
       "9948     -122.33     38.21                  33         2017           370.0   \n",
       "\n",
       "       population  households  median_income  median_house_value  \\\n",
       "15880        1932         549         2.3903              236100   \n",
       "203          1008         255         1.4844              119400   \n",
       "473          1354         563         1.9483              150500   \n",
       "807          1001         350         4.7109              198700   \n",
       "9948          949         342         4.6250              228600   \n",
       "\n",
       "       rooms_per_household  ocean_proximity_NEAR BAY  \n",
       "15880             4.466302                         1  \n",
       "203               3.866667                         1  \n",
       "473               4.413854                         1  \n",
       "807               5.920000                         1  \n",
       "9948              5.897661                         1  "
      ]
     },
     "execution_count": 33,
     "metadata": {},
     "output_type": "execute_result"
    }
   ],
   "source": [
    "# df5 = pandas.get_dummies(df[df.ocean_proximity=='INLAND'].dropna())\n",
    "# df5 = pandas.get_dummies(df[df.ocean_proximity=='<1H OCEAN'].dropna())\n",
    "# df5 = pandas.get_dummies(df[df.ocean_proximity=='NEAR OCEAN'].dropna())\n",
    "df5 = pandas.get_dummies(df[df.ocean_proximity=='NEAR BAY'].dropna())\n",
    "df5.sample(5)"
   ]
  },
  {
   "cell_type": "code",
   "execution_count": 64,
   "id": "2a95ddc5-68d7-4b76-b8c4-15a8c350e841",
   "metadata": {},
   "outputs": [
    {
     "name": "stdout",
     "output_type": "stream",
     "text": [
      "R2: 0.643\n"
     ]
    }
   ],
   "source": [
    "y = df.median_house_value\n",
    "\n",
    "# using all features\n",
    "X = df.drop(columns=['median_house_value'])\n",
    "\n",
    "# using the feature that correlates the most with median_house_value\n",
    "# X = df[['median_income']]\n",
    "\n",
    "model = LinearRegression()\n",
    "results = cross_validate(model, X, y, cv=ShuffleSplit(n_splits=200))\n",
    "print('R2:', results['test_score'].mean().round(3))"
   ]
  },
  {
   "cell_type": "code",
   "execution_count": 65,
   "id": "8c480719-196b-4589-a600-6430b3dd61a7",
   "metadata": {},
   "outputs": [
    {
     "data": {
      "text/plain": [
       "<seaborn.axisgrid.FacetGrid at 0x7f82fc24a700>"
      ]
     },
     "execution_count": 65,
     "metadata": {},
     "output_type": "execute_result"
    },
    {
     "data": {
      "image/png": "[encoded data removed]",
      "text/plain": [
       "<Figure size 360x360 with 1 Axes>"
      ]
     },
     "metadata": {
      "needs_background": "light"
     },
     "output_type": "display_data"
    }
   ],
   "source": [
    "seaborn.lmplot(data=df, x='median_income', y='median_house_value')"
   ]
  },
  {
   "cell_type": "code",
   "execution_count": 69,
   "id": "bb6e025f-e37a-4a29-8c94-f177a2efb7d3",
   "metadata": {},
   "outputs": [
    {
     "data": {
      "text/plain": [
       "<AxesSubplot:xlabel='median_income', ylabel='median_house_value'>"
      ]
     },
     "execution_count": 69,
     "metadata": {},
     "output_type": "execute_result"
    },
    {
     "data": {
      "image/png": "[encoded data removed]",
      "text/plain": [
       "<Figure size 432x288 with 1 Axes>"
      ]
     },
     "metadata": {
      "needs_background": "light"
     },
     "output_type": "display_data"
    }
   ],
   "source": [
    "seaborn.kdeplot(data=df, x='median_income', y='median_house_value', fill=True)"
   ]
  },
  {
   "cell_type": "code",
   "execution_count": 68,
   "id": "74581ff6-dc4d-4c7c-a18b-94cace8abd2c",
   "metadata": {},
   "outputs": [
    {
     "data": {
      "text/plain": [
       "<AxesSubplot:>"
      ]
     },
     "execution_count": 68,
     "metadata": {},
     "output_type": "execute_result"
    },
    {
     "data": {
      "image/png": "[encoded data removed]",
      "text/plain": [
       "<Figure size 432x288 with 1 Axes>"
      ]
     },
     "metadata": {
      "needs_background": "light"
     },
     "output_type": "display_data"
    }
   ],
   "source": [
    "df.median_house_value.hist()"
   ]
  },
  {
   "cell_type": "code",
   "execution_count": null,
   "id": "6ac540bb-dc98-4810-9a7c-b293c5699fa0",
   "metadata": {},
   "outputs": [],
   "source": []
  }
 ],
 "metadata": {
  "kernelspec": {
   "display_name": "Python 3",
   "language": "python",
   "name": "python3"
  },
  "language_info": {
   "codemirror_mode": {
    "name": "ipython",
    "version": 3
   },
   "file_extension": ".py",
   "mimetype": "text/x-python",
   "name": "python",
   "nbconvert_exporter": "python",
   "pygments_lexer": "ipython3",
   "version": "3.8.8"
  }
 },
 "nbformat": 4,
 "nbformat_minor": 5
}
