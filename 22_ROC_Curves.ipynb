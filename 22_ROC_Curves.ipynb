{
 "cells": [
  {
   "cell_type": "markdown",
   "id": "23758730-d91a-4075-946b-5393c56f2b90",
   "metadata": {},
   "source": [
    "# ROC Curves"
   ]
  },
  {
   "cell_type": "markdown",
   "id": "4e3435d0-1303-4341-bcf4-9746030ac026",
   "metadata": {},
   "source": [
    "If a classifier provides prediction probabilities,  predictions are made by comparing prediction probabilities against a threshold $t$.   If the probability of a sample being predicted to a positive, $p$ is greater than or equal to $t$, then the sample is predicted to be a positive.\n",
    "\n",
    "For each threshold $t$, we can compare:\n",
    "\n",
    "1. How much the classifier is able to predict class 1.\n",
    "    + This is the probability of class 1 samples being predicted  correctly.  \n",
    "    + This is TPR or sensitivity or recall.\n",
    "    + TP / (TP + FN)\n",
    "        \n",
    "\n",
    "2. How much the classifier is unable to predict class 0.\n",
    "    + This is 1 - (the probability of class 0 samples being predicted correctly).\n",
    "    + This is FPR or 1 - specificity.\n",
    "    + 1 - TN / (TN + FP) = FP / (FP + TN)\n",
    "\n",
    "\n",
    "The expectation is that as (1) increases, so does (2).   And vice versa.\n",
    "\n",
    "The goal is to pick a threshold that provides a good trade-off between TPR and FPR.\n",
    "\n",
    "An ROC curve is a figure that helps us understand the trade-off between TPR and FPR.f\n",
    "\n",
    "The area under the ROC curve (ROC AUC) tells us how good a classifier is in terms of trading off TPR and FPR."
   ]
  },
  {
   "cell_type": "markdown",
   "id": "31d0f1e2-d105-4ea1-9b58-875eff215643",
   "metadata": {},
   "source": [
    "True Positive (TP) versus False Positive (TP)\n",
    "\n",
    "TP - samples of class 1 and correctly predicted as class 1.\n",
    "\n",
    "FP - samples of class 0 and incorrectly predicted as class 1.\n"
   ]
  },
  {
   "cell_type": "code",
   "execution_count": 1,
   "id": "aa92b1ca-46c8-4765-a55f-b7d39bd00867",
   "metadata": {},
   "outputs": [],
   "source": [
    "import pandas\n",
    "diabetes = pandas.read_csv('../../Datasets/diabetes.csv')"
   ]
  },
  {
   "cell_type": "code",
   "execution_count": 2,
   "id": "9fd0c2de-8836-4290-bcd3-fb26727a8e70",
   "metadata": {},
   "outputs": [],
   "source": [
    "y = diabetes.Outcome\n",
    "X = diabetes.drop(columns=['Outcome'])"
   ]
  },
  {
   "cell_type": "code",
   "execution_count": 3,
   "id": "6c29f7cc-f8f9-40c6-a401-cb0a39a47d43",
   "metadata": {},
   "outputs": [],
   "source": [
    "from sklearn.linear_model import LogisticRegression\n",
    "from sklearn.svm import LinearSVC\n",
    "from sklearn.tree import DecisionTreeClassifier\n",
    "from sklearn.ensemble import RandomForestClassifier\n",
    "from sklearn.model_selection import ShuffleSplit, cross_validate, train_test_split\n",
    "\n",
    "X_train, X_test, y_train, y_test = train_test_split(X,y)\n"
   ]
  },
  {
   "cell_type": "code",
   "execution_count": 4,
   "id": "5af26a22-3b25-44a3-82e7-e2fa6647603f",
   "metadata": {},
   "outputs": [
    {
     "data": {
      "text/plain": [
       "RandomForestClassifier(min_samples_leaf=5, n_estimators=20)"
      ]
     },
     "execution_count": 4,
     "metadata": {},
     "output_type": "execute_result"
    }
   ],
   "source": [
    "logit = LogisticRegression(dual=False, max_iter=10000)\n",
    "logit.fit(X_train, y_train)\n",
    "\n",
    "dt = DecisionTreeClassifier(min_samples_leaf=5)\n",
    "dt.fit(X_train, y_train)\n",
    "\n",
    "rf = RandomForestClassifier(n_estimators=20, min_samples_leaf=5)\n",
    "rf.fit(X_train, y_train)"
   ]
  },
  {
   "cell_type": "code",
   "execution_count": 5,
   "id": "e57ae47e-25bb-4b09-a620-5573c57daaca",
   "metadata": {},
   "outputs": [],
   "source": [
    "logit_pred = logit.predict_proba(X_test)\n",
    "dt_pred = dt.predict_proba(X_test)\n",
    "rf_pred = rf.predict_proba(X_test)"
   ]
  },
  {
   "cell_type": "code",
   "execution_count": 6,
   "id": "144b5873-13c4-4b89-b16e-ae3c1d8c2193",
   "metadata": {},
   "outputs": [],
   "source": [
    "# logit.predict_proba(X_test)[0:10].round(2), logit.predict(X_test)[0:10]"
   ]
  },
  {
   "cell_type": "code",
   "execution_count": 7,
   "id": "d6d1dcb2-e285-4942-acca-89514577cb33",
   "metadata": {},
   "outputs": [],
   "source": [
    "from sklearn.metrics import roc_curve, roc_auc_score"
   ]
  },
  {
   "cell_type": "code",
   "execution_count": 8,
   "id": "6e61b7d3-565f-4dac-bb4e-9eb98dfb38a1",
   "metadata": {},
   "outputs": [],
   "source": [
    "fpr, tpr, thresholds = roc_curve(y_test, logit_pred[:,1])"
   ]
  },
  {
   "cell_type": "code",
   "execution_count": 9,
   "id": "5318ba49-74b7-4cd7-b0bf-75c004409298",
   "metadata": {},
   "outputs": [],
   "source": [
    "import seaborn"
   ]
  },
  {
   "cell_type": "code",
   "execution_count": 10,
   "id": "70e08caa-9572-4efa-817e-ade441837d3d",
   "metadata": {},
   "outputs": [
    {
     "data": {
      "text/plain": [
       "<seaborn.axisgrid.FacetGrid at 0x7fecfa237b80>"
      ]
     },
     "execution_count": 10,
     "metadata": {},
     "output_type": "execute_result"
    },
    {
     "data": {
      "image/png": "[encoded data removed]",
      "text/plain": [
       "<Figure size 360x360 with 1 Axes>"
      ]
     },
     "metadata": {
      "needs_background": "light"
     },
     "output_type": "display_data"
    }
   ],
   "source": [
    "seaborn.relplot(x=fpr, y=tpr, kind='line')"
   ]
  },
  {
   "cell_type": "code",
   "execution_count": 12,
   "id": "248a91dd-4c97-42f8-bd40-6efa9fb478b3",
   "metadata": {},
   "outputs": [
    {
     "data": {
      "text/plain": [
       "0.784251968503937"
      ]
     },
     "execution_count": 12,
     "metadata": {},
     "output_type": "execute_result"
    }
   ],
   "source": [
    "roc_auc_score(y_test, logit_pred[:,1])"
   ]
  },
  {
   "cell_type": "code",
   "execution_count": 13,
   "id": "132dd751-a684-47fd-9faa-4d39bcf24292",
   "metadata": {},
   "outputs": [
    {
     "data": {
      "text/plain": [
       "<seaborn.axisgrid.FacetGrid at 0x7fecfd167730>"
      ]
     },
     "execution_count": 13,
     "metadata": {},
     "output_type": "execute_result"
    },
    {
     "data": {
      "image/png": "[encoded data removed]",
      "text/plain": [
       "<Figure size 360x360 with 1 Axes>"
      ]
     },
     "metadata": {
      "needs_background": "light"
     },
     "output_type": "display_data"
    }
   ],
   "source": [
    "fpr, tpr, thresholds = roc_curve(y_test, dt_pred[:,1])\n",
    "seaborn.relplot(x=fpr, y=tpr, kind='line')"
   ]
  },
  {
   "cell_type": "code",
   "execution_count": 14,
   "id": "0cd38ecf-a73c-4153-b124-af15421b4a29",
   "metadata": {},
   "outputs": [
    {
     "data": {
      "text/plain": [
       "0.7373107207752878"
      ]
     },
     "execution_count": 14,
     "metadata": {},
     "output_type": "execute_result"
    }
   ],
   "source": [
    "roc_auc_score(y_test, dt_pred[:,1])"
   ]
  },
  {
   "cell_type": "code",
   "execution_count": 15,
   "id": "fd333b81-56bc-4512-9705-f741e132f8a1",
   "metadata": {},
   "outputs": [
    {
     "data": {
      "text/plain": [
       "<seaborn.axisgrid.FacetGrid at 0x7fecfcf5ce80>"
      ]
     },
     "execution_count": 15,
     "metadata": {},
     "output_type": "execute_result"
    },
    {
     "data": {
      "image/png": "[encoded data removed]",
      "text/plain": [
       "<Figure size 360x360 with 1 Axes>"
      ]
     },
     "metadata": {
      "needs_background": "light"
     },
     "output_type": "display_data"
    }
   ],
   "source": [
    "fpr, tpr, thresholds = roc_curve(y_test, rf_pred[:,1])\n",
    "seaborn.relplot(x=fpr, y=tpr, kind='line')"
   ]
  },
  {
   "cell_type": "code",
   "execution_count": 16,
   "id": "2ed9087d-970c-414e-a906-8f633bcd2cad",
   "metadata": {},
   "outputs": [
    {
     "data": {
      "text/plain": [
       "0.8068443367655967"
      ]
     },
     "execution_count": 16,
     "metadata": {},
     "output_type": "execute_result"
    }
   ],
   "source": [
    "roc_auc_score(y_test, rf_pred[:,1])"
   ]
  },
  {
   "cell_type": "markdown",
   "id": "8e852b0e-5964-4e11-833b-61ba2379775a",
   "metadata": {},
   "source": [
    "### Understanding ROC Curves"
   ]
  },
  {
   "cell_type": "code",
   "execution_count": 17,
   "id": "8ad746e5-79ec-4c24-a601-d4447c9e45b1",
   "metadata": {},
   "outputs": [
    {
     "data": {
      "text/plain": [
       "<seaborn.axisgrid.FacetGrid at 0x7fecfd009b20>"
      ]
     },
     "execution_count": 17,
     "metadata": {},
     "output_type": "execute_result"
    },
    {
     "data": {
      "image/png": "[encoded data removed]",
      "text/plain": [
       "<Figure size 360x360 with 1 Axes>"
      ]
     },
     "metadata": {
      "needs_background": "light"
     },
     "output_type": "display_data"
    }
   ],
   "source": [
    "from sklearn.metrics import roc_curve, roc_auc_score\n",
    "y =      ['non-diabetic','non-diabetic','diabetic', 'diabetic']\n",
    "y_prob = [0.1,            0.4,           0.35,       0.8]\n",
    "fpr, tpr, thresholds = roc_curve(y, y_prob, pos_label='diabetic')\n",
    "seaborn.relplot(x=fpr, y=tpr, kind='scatter')"
   ]
  },
  {
   "cell_type": "code",
   "execution_count": 18,
   "id": "c9ce1a93-2058-4bea-9443-e2ad745dcfe8",
   "metadata": {},
   "outputs": [
    {
     "name": "stdout",
     "output_type": "stream",
     "text": [
      "[0.  0.  0.5 0.5 1. ]\n",
      "[0.  0.5 0.5 1.  1. ]\n",
      "[1.8  0.8  0.4  0.35 0.1 ]\n"
     ]
    }
   ],
   "source": [
    "print(fpr)\n",
    "print(tpr)\n",
    "print(thresholds)"
   ]
  },
  {
   "cell_type": "code",
   "execution_count": 19,
   "id": "6c1bae61-30ad-4863-9546-b558348304f0",
   "metadata": {},
   "outputs": [
    {
     "data": {
      "text/plain": [
       "0.25"
      ]
     },
     "execution_count": 19,
     "metadata": {},
     "output_type": "execute_result"
    }
   ],
   "source": [
    "roc_auc_score(y, y_prob)"
   ]
  },
  {
   "cell_type": "markdown",
   "id": "64b85c71-9aa5-4ff6-ac9a-c66f91c8bd38",
   "metadata": {},
   "source": [
    "fpr (False Positive Rate) = FP / (TN + FP) = 1 - True-negative-rate = 1 - specificity\n",
    "\n",
    "tpr (True Positive Rate) = TP / (TP + FN)\n",
    "\n",
    "In this example, TN+FP is 2; TP+FN=2.\n",
    "\n",
    "As the threshold $t$ is reduced, tpr is decreased and fpr is increased."
   ]
  },
  {
   "cell_type": "markdown",
   "id": "bc01d90c-e50e-4264-a71e-6acb1885a7c8",
   "metadata": {},
   "source": [
    "---\n",
    "\n",
    "y = ['non-diabetic','non-diabetic','diabetic', 'diabetic']\n",
    "\n",
    "y_prob = [0.1, 0.4, 0.35, 0.8]\n",
    "\n",
    "+ t = 1.8,\n",
    "    - prediction is 'diabetic' if p >= 1.8\n",
    "        * ['non-diabetic', 'non-diabetic', 'non-diabetic', 'non-diabetic']\n",
    "    - tp = 0. tpr=0\n",
    "    - fp = 0. fpr=0"
   ]
  },
  {
   "cell_type": "markdown",
   "id": "297dd632-4389-4c4a-98ba-bad7a46af8d8",
   "metadata": {},
   "source": [
    "---\n",
    "\n",
    "y = ['non-diabetic','non-diabetic','diabetic', 'diabetic']\n",
    "\n",
    "y_prob = [0.1, 0.4, 0.35, 0.8]\n",
    "\n",
    "+ t = 0.8,\n",
    "    - prediction is 'diabetic' if p >= 0.8\n",
    "        * ['non-diabetic', 'non-diabetic', 'non-diabetic', 'diabetic']\n",
    "    - tp = 1. tpr=0.5\n",
    "    - fp = 0. fpr=0"
   ]
  },
  {
   "cell_type": "markdown",
   "id": "ef38077a-3e75-47b0-adba-8edbea4794ac",
   "metadata": {},
   "source": [
    "---\n",
    "\n",
    "y = ['non-diabetic','non-diabetic','diabetic', 'diabetic']\n",
    "\n",
    "y_prob = [0.1, 0.4, 0.35, 0.8]\n",
    "\n",
    "+ t = 0.4,\n",
    "    - prediction is 'diabetic' if p >= 0.4\n",
    "        * ['non-diabetic', 'diabetic', 'non-diabetic', 'diabetic']\n",
    "    - tp = 1. tpr=0.5\n",
    "    - fp = 1. fpr=0.5"
   ]
  },
  {
   "cell_type": "markdown",
   "id": "14035245-2b90-4808-a8d6-ee3fcb01a537",
   "metadata": {},
   "source": [
    "---\n",
    "\n",
    "y = ['non-diabetic','non-diabetic','diabetic', 'diabetic']\n",
    "\n",
    "y_prob = [0.1, 0.4, 0.35, 0.8]\n",
    "\n",
    "+ t = 0.35,\n",
    "    - prediction is 'diabetic' if p >= 0.35\n",
    "        * ['non-diabetic', 'diabetic', 'diabetic', 'diabetic']\n",
    "    - tp = 2. tpr=1\n",
    "    - fp = 1. fpr=0.5"
   ]
  },
  {
   "cell_type": "markdown",
   "id": "8044afe4-1640-4cdb-bed6-aa3edebd213f",
   "metadata": {},
   "source": [
    "---\n",
    "\n",
    "y = ['non-diabetic','non-diabetic','diabetic', 'diabetic']\n",
    "\n",
    "y_prob = [0.1, 0.4, 0.35, 0.8]\n",
    "\n",
    "+ t = 0.1,\n",
    "    - prediction is 'diabetic' if p >= 1\n",
    "        * ['diabetic', 'diabetic', 'diabetic', 'diabetic']\n",
    "    - tp = 2. tpr=1\n",
    "    - fp = 2. fpr=1"
   ]
  },
  {
   "cell_type": "code",
   "execution_count": 20,
   "id": "37e96d9f-fb69-40ad-ac6d-174aebd4a3f0",
   "metadata": {},
   "outputs": [
    {
     "name": "stdout",
     "output_type": "stream",
     "text": [
      "[0.  0.5 0.5 1.  1. ]\n",
      "[0.  0.  0.5 0.5 1. ]\n",
      "[1.8  0.8  0.4  0.35 0.1 ]\n"
     ]
    }
   ],
   "source": [
    "print(tpr)\n",
    "print(fpr)\n",
    "print(thresholds)"
   ]
  },
  {
   "cell_type": "markdown",
   "id": "93809832-3846-4e32-946c-cb730f3ba02b",
   "metadata": {},
   "source": [
    "The expectation is that as (1) increases, so does (2). And vice versa.\n",
    "\n",
    "The goal is to pick a threshold that provides a good trade-off between TPR and FPR.\n",
    "\n",
    "An ROC curve is a figure that helps us understand the trade-off between TPR and FPR."
   ]
  },
  {
   "cell_type": "markdown",
   "id": "4decaacb-6d99-4c3d-b948-e1b6a9070ba4",
   "metadata": {},
   "source": [
    "### Precision Recall Curves"
   ]
  },
  {
   "cell_type": "code",
   "execution_count": 21,
   "id": "80f69c26-ac31-4398-9f48-a9ea4f70eae0",
   "metadata": {},
   "outputs": [],
   "source": [
    "from sklearn.metrics import precision_recall_curve"
   ]
  },
  {
   "cell_type": "code",
   "execution_count": 27,
   "id": "59f7997e-d3d5-4d69-8025-4db80e56e103",
   "metadata": {},
   "outputs": [],
   "source": [
    "logit = LogisticRegression(dual=False, max_iter=10000)\n",
    "logit.fit(X_train, y_train)\n",
    "\n",
    "dt = DecisionTreeClassifier(min_samples_leaf=5)\n",
    "dt.fit(X_train, y_train)\n",
    "\n",
    "rf = RandomForestClassifier(n_estimators=20, min_samples_leaf=5)\n",
    "rf.fit(X_train, y_train)\n",
    "\n",
    "logit_pred = logit.predict_proba(X_test)\n",
    "dt_pred = dt.predict_proba(X_test)\n",
    "rf_pred = rf.predict_proba(X_test)"
   ]
  },
  {
   "cell_type": "code",
   "execution_count": 30,
   "id": "c6c10097-f506-458b-b856-5cbe7e73ecb6",
   "metadata": {},
   "outputs": [
    {
     "data": {
      "text/plain": [
       "array([1])"
      ]
     },
     "execution_count": 30,
     "metadata": {},
     "output_type": "execute_result"
    }
   ],
   "source": [
    "rf.predict(X_test.sample())"
   ]
  },
  {
   "cell_type": "code",
   "execution_count": 31,
   "id": "7038cdc3-39b2-411a-bca5-263e8b587d31",
   "metadata": {},
   "outputs": [
    {
     "data": {
      "text/plain": [
       "<seaborn.axisgrid.FacetGrid at 0x7fecfdacdb50>"
      ]
     },
     "execution_count": 31,
     "metadata": {},
     "output_type": "execute_result"
    },
    {
     "data": {
      "image/png": "[encoded data removed]",
      "text/plain": [
       "<Figure size 360x360 with 1 Axes>"
      ]
     },
     "metadata": {
      "needs_background": "light"
     },
     "output_type": "display_data"
    }
   ],
   "source": [
    "precisions, recalls, thresholds = precision_recall_curve(y_test, logit_pred[:,1])\n",
    "seaborn.relplot(x=precisions, y=recalls, kind='line')"
   ]
  },
  {
   "cell_type": "code",
   "execution_count": 32,
   "id": "035a105e-9b8c-4c8b-99ae-c39d33bf4011",
   "metadata": {},
   "outputs": [
    {
     "data": {
      "text/plain": [
       "<seaborn.axisgrid.FacetGrid at 0x7fecfd3d8730>"
      ]
     },
     "execution_count": 32,
     "metadata": {},
     "output_type": "execute_result"
    },
    {
     "data": {
      "image/png": "[encoded data removed]",
      "text/plain": [
       "<Figure size 360x360 with 1 Axes>"
      ]
     },
     "metadata": {
      "needs_background": "light"
     },
     "output_type": "display_data"
    }
   ],
   "source": [
    "precisions, recalls, thresholds = precision_recall_curve(y_test, dt_pred[:,1])\n",
    "seaborn.relplot(x=precisions, y=recalls, kind='line')"
   ]
  },
  {
   "cell_type": "code",
   "execution_count": 33,
   "id": "fa0745d7-b16c-48ef-9ad3-6c8b20e41783",
   "metadata": {},
   "outputs": [
    {
     "data": {
      "text/plain": [
       "<seaborn.axisgrid.FacetGrid at 0x7fecfd2a8df0>"
      ]
     },
     "execution_count": 33,
     "metadata": {},
     "output_type": "execute_result"
    },
    {
     "data": {
      "image/png": "[encoded data removed]",
      "text/plain": [
       "<Figure size 360x360 with 1 Axes>"
      ]
     },
     "metadata": {
      "needs_background": "light"
     },
     "output_type": "display_data"
    }
   ],
   "source": [
    "precisions, recalls, thresholds = precision_recall_curve(y_test, rf_pred[:,1])\n",
    "seaborn.relplot(x=recalls, y=precisions, kind='line')"
   ]
  },
  {
   "cell_type": "code",
   "execution_count": 34,
   "id": "59b6be07-1c90-46cd-8ced-a93b2e591f7c",
   "metadata": {},
   "outputs": [
    {
     "data": {
      "text/plain": [
       "(array([0.33854167, 0.34594595, 0.34782609, 0.34972678, 0.35164835,\n",
       "        0.35359116, 0.35555556, 0.3575419 , 0.35955056, 0.36158192,\n",
       "        0.36363636, 0.36571429, 0.36781609, 0.3699422 , 0.37209302,\n",
       "        0.37426901, 0.37647059, 0.37869822, 0.38095238, 0.38323353,\n",
       "        0.38554217, 0.38787879, 0.3902439 , 0.39263804, 0.39506173,\n",
       "        0.39751553, 0.4       , 0.40251572, 0.40506329, 0.40764331,\n",
       "        0.41025641, 0.41290323, 0.41558442, 0.41830065, 0.42105263,\n",
       "        0.42384106, 0.42666667, 0.4295302 , 0.42567568, 0.42857143,\n",
       "        0.43150685, 0.43448276, 0.4375    , 0.43356643, 0.42957746,\n",
       "        0.43262411, 0.42857143, 0.43165468, 0.43478261, 0.4379562 ,\n",
       "        0.44117647, 0.44444444, 0.44776119, 0.44360902, 0.4469697 ,\n",
       "        0.45038168, 0.45384615, 0.4496124 , 0.453125  , 0.45669291,\n",
       "        0.46031746, 0.464     , 0.46774194, 0.47154472, 0.47540984,\n",
       "        0.47933884, 0.48333333, 0.48739496, 0.48305085, 0.48717949,\n",
       "        0.49137931, 0.49565217, 0.5       , 0.49557522, 0.5       ,\n",
       "        0.5045045 , 0.50909091, 0.50458716, 0.50925926, 0.51401869,\n",
       "        0.51886792, 0.52380952, 0.52884615, 0.53398058, 0.53921569,\n",
       "        0.53465347, 0.54      , 0.53535354, 0.54081633, 0.54639175,\n",
       "        0.55208333, 0.55789474, 0.55319149, 0.5483871 , 0.55434783,\n",
       "        0.56043956, 0.56666667, 0.57303371, 0.57954545, 0.57471264,\n",
       "        0.58139535, 0.57647059, 0.57142857, 0.56626506, 0.56097561,\n",
       "        0.55555556, 0.5625    , 0.56962025, 0.57692308, 0.58441558,\n",
       "        0.57894737, 0.57333333, 0.58108108, 0.5890411 , 0.59722222,\n",
       "        0.6056338 , 0.61428571, 0.60869565, 0.60294118, 0.6119403 ,\n",
       "        0.62121212, 0.63076923, 0.625     , 0.63492063, 0.64516129,\n",
       "        0.6557377 , 0.66666667, 0.66101695, 0.67241379, 0.68421053,\n",
       "        0.67857143, 0.67272727, 0.66666667, 0.66037736, 0.65384615,\n",
       "        0.66666667, 0.68      , 0.69387755, 0.70833333, 0.72340426,\n",
       "        0.7173913 , 0.73333333, 0.75      , 0.74418605, 0.73809524,\n",
       "        0.73170732, 0.725     , 0.74358974, 0.73684211, 0.72972973,\n",
       "        0.72222222, 0.74285714, 0.73529412, 0.72727273, 0.75      ,\n",
       "        0.74193548, 0.73333333, 0.72413793, 0.71428571, 0.7037037 ,\n",
       "        0.69230769, 0.72      , 0.70833333, 0.73913043, 0.72727273,\n",
       "        0.71428571, 0.7       , 0.73684211, 0.72222222, 0.76470588,\n",
       "        0.75      , 0.73333333, 0.78571429, 0.76923077, 0.83333333,\n",
       "        0.81818182, 0.8       , 0.77777778, 0.75      , 0.71428571,\n",
       "        0.66666667, 0.8       , 0.75      , 0.66666667, 1.        ,\n",
       "        1.        , 1.        ]),\n",
       " array([1.        , 0.98461538, 0.98461538, 0.98461538, 0.98461538,\n",
       "        0.98461538, 0.98461538, 0.98461538, 0.98461538, 0.98461538,\n",
       "        0.98461538, 0.98461538, 0.98461538, 0.98461538, 0.98461538,\n",
       "        0.98461538, 0.98461538, 0.98461538, 0.98461538, 0.98461538,\n",
       "        0.98461538, 0.98461538, 0.98461538, 0.98461538, 0.98461538,\n",
       "        0.98461538, 0.98461538, 0.98461538, 0.98461538, 0.98461538,\n",
       "        0.98461538, 0.98461538, 0.98461538, 0.98461538, 0.98461538,\n",
       "        0.98461538, 0.98461538, 0.98461538, 0.96923077, 0.96923077,\n",
       "        0.96923077, 0.96923077, 0.96923077, 0.95384615, 0.93846154,\n",
       "        0.93846154, 0.92307692, 0.92307692, 0.92307692, 0.92307692,\n",
       "        0.92307692, 0.92307692, 0.92307692, 0.90769231, 0.90769231,\n",
       "        0.90769231, 0.90769231, 0.89230769, 0.89230769, 0.89230769,\n",
       "        0.89230769, 0.89230769, 0.89230769, 0.89230769, 0.89230769,\n",
       "        0.89230769, 0.89230769, 0.89230769, 0.87692308, 0.87692308,\n",
       "        0.87692308, 0.87692308, 0.87692308, 0.86153846, 0.86153846,\n",
       "        0.86153846, 0.86153846, 0.84615385, 0.84615385, 0.84615385,\n",
       "        0.84615385, 0.84615385, 0.84615385, 0.84615385, 0.84615385,\n",
       "        0.83076923, 0.83076923, 0.81538462, 0.81538462, 0.81538462,\n",
       "        0.81538462, 0.81538462, 0.8       , 0.78461538, 0.78461538,\n",
       "        0.78461538, 0.78461538, 0.78461538, 0.78461538, 0.76923077,\n",
       "        0.76923077, 0.75384615, 0.73846154, 0.72307692, 0.70769231,\n",
       "        0.69230769, 0.69230769, 0.69230769, 0.69230769, 0.69230769,\n",
       "        0.67692308, 0.66153846, 0.66153846, 0.66153846, 0.66153846,\n",
       "        0.66153846, 0.66153846, 0.64615385, 0.63076923, 0.63076923,\n",
       "        0.63076923, 0.63076923, 0.61538462, 0.61538462, 0.61538462,\n",
       "        0.61538462, 0.61538462, 0.6       , 0.6       , 0.6       ,\n",
       "        0.58461538, 0.56923077, 0.55384615, 0.53846154, 0.52307692,\n",
       "        0.52307692, 0.52307692, 0.52307692, 0.52307692, 0.52307692,\n",
       "        0.50769231, 0.50769231, 0.50769231, 0.49230769, 0.47692308,\n",
       "        0.46153846, 0.44615385, 0.44615385, 0.43076923, 0.41538462,\n",
       "        0.4       , 0.4       , 0.38461538, 0.36923077, 0.36923077,\n",
       "        0.35384615, 0.33846154, 0.32307692, 0.30769231, 0.29230769,\n",
       "        0.27692308, 0.27692308, 0.26153846, 0.26153846, 0.24615385,\n",
       "        0.23076923, 0.21538462, 0.21538462, 0.2       , 0.2       ,\n",
       "        0.18461538, 0.16923077, 0.16923077, 0.15384615, 0.15384615,\n",
       "        0.13846154, 0.12307692, 0.10769231, 0.09230769, 0.07692308,\n",
       "        0.06153846, 0.06153846, 0.04615385, 0.03076923, 0.03076923,\n",
       "        0.01538462, 0.        ]),\n",
       " array([0.        , 0.00357143, 0.005     , 0.00625   , 0.00982143,\n",
       "        0.01      , 0.01111111, 0.01626794, 0.01897773, 0.02010989,\n",
       "        0.02333333, 0.029329  , 0.03044643, 0.03409091, 0.0375    ,\n",
       "        0.03761905, 0.03916667, 0.04642857, 0.04846491, 0.04916667,\n",
       "        0.05416667, 0.06547619, 0.06785885, 0.07197969, 0.07338235,\n",
       "        0.07349747, 0.07950758, 0.07954545, 0.08702552, 0.09267094,\n",
       "        0.09360195, 0.09755203, 0.10357143, 0.10856643, 0.1099026 ,\n",
       "        0.11519383, 0.11535714, 0.12602658, 0.12890152, 0.13362637,\n",
       "        0.13407509, 0.13738636, 0.13996032, 0.14132206, 0.14831349,\n",
       "        0.14878996, 0.15398837, 0.15409452, 0.15428072, 0.15518038,\n",
       "        0.16334707, 0.16626707, 0.17184663, 0.17576299, 0.17742424,\n",
       "        0.17779942, 0.18519524, 0.18669553, 0.19031822, 0.19075133,\n",
       "        0.19247114, 0.19492424, 0.20009615, 0.20458567, 0.20484127,\n",
       "        0.20578329, 0.21254787, 0.21658411, 0.21794594, 0.22197192,\n",
       "        0.22472222, 0.22763158, 0.23070818, 0.23242424, 0.23383117,\n",
       "        0.2340873 , 0.235     , 0.24066649, 0.24385917, 0.24422619,\n",
       "        0.24825577, 0.24959936, 0.25240207, 0.25287768, 0.25929515,\n",
       "        0.26349091, 0.26356199, 0.26702959, 0.2793043 , 0.28429903,\n",
       "        0.28706349, 0.28949738, 0.29159382, 0.29252584, 0.29321977,\n",
       "        0.29759199, 0.29820325, 0.31741938, 0.31972944, 0.32130952,\n",
       "        0.32694264, 0.33097944, 0.33438596, 0.33705808, 0.33803729,\n",
       "        0.33997926, 0.34929633, 0.35047217, 0.35066558, 0.36079365,\n",
       "        0.36322725, 0.3645517 , 0.36546921, 0.37454795, 0.3746158 ,\n",
       "        0.38745421, 0.40439103, 0.40441739, 0.40835012, 0.42226038,\n",
       "        0.42490239, 0.43870817, 0.44348693, 0.44365953, 0.44488733,\n",
       "        0.45150939, 0.46417721, 0.48286706, 0.48447053, 0.49264916,\n",
       "        0.49551941, 0.4988968 , 0.50072039, 0.50294809, 0.5069246 ,\n",
       "        0.51067252, 0.51454809, 0.51787879, 0.5382197 , 0.54056999,\n",
       "        0.54145542, 0.54785895, 0.55238858, 0.55547078, 0.55983225,\n",
       "        0.56230894, 0.56514499, 0.56651571, 0.56717366, 0.57212815,\n",
       "        0.59308171, 0.59411908, 0.60998296, 0.6218334 , 0.63083694,\n",
       "        0.63090336, 0.6340023 , 0.63862984, 0.6584324 , 0.69660548,\n",
       "        0.69780372, 0.70384615, 0.7080285 , 0.71644958, 0.71686587,\n",
       "        0.74337949, 0.74776224, 0.74954004, 0.75763167, 0.75774398,\n",
       "        0.75938589, 0.76352287, 0.76397498, 0.76819444, 0.76997984,\n",
       "        0.79246934, 0.83016428, 0.83497274, 0.83498932, 0.84071618,\n",
       "        0.84567167, 0.88240967, 0.88821699, 0.89759199, 0.90553301,\n",
       "        0.91327044]))"
      ]
     },
     "execution_count": 34,
     "metadata": {},
     "output_type": "execute_result"
    }
   ],
   "source": [
    "precisions, recalls, thresholds"
   ]
  },
  {
   "cell_type": "code",
   "execution_count": null,
   "id": "fd386e75-4b81-45fd-8b4c-50638ce690da",
   "metadata": {},
   "outputs": [],
   "source": []
  }
 ],
 "metadata": {
  "kernelspec": {
   "display_name": "Python 3",
   "language": "python",
   "name": "python3"
  },
  "language_info": {
   "codemirror_mode": {
    "name": "ipython",
    "version": 3
   },
   "file_extension": ".py",
   "mimetype": "text/x-python",
   "name": "python",
   "nbconvert_exporter": "python",
   "pygments_lexer": "ipython3",
   "version": "3.8.8"
  }
 },
 "nbformat": 4,
 "nbformat_minor": 5
}
