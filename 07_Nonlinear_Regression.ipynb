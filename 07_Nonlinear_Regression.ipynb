{
 "cells": [
  {
   "cell_type": "markdown",
   "id": "add48711-7ab2-4ba8-8086-2025ea4b7d2c",
   "metadata": {},
   "source": [
    "# Nonlinear Regression"
   ]
  },
  {
   "cell_type": "markdown",
   "id": "63b13071-9fb1-4622-b01e-26b9cef45bda",
   "metadata": {},
   "source": [
    "Do house prices (y) grow nonlinearly with respect to X?\n",
    "\n",
    "Is the relationship (X and y) continuous?\n",
    "\n",
    "Technical stuffs:\n",
    "+ Ridge, DecisionTree\n",
    "+ sklearn.preprocessing.PolynomialFeatures"
   ]
  },
  {
   "cell_type": "code",
   "execution_count": 1,
   "id": "ec780aa3-832a-4cde-999b-f70fa051af96",
   "metadata": {},
   "outputs": [],
   "source": [
    "import pandas\n",
    "from sklearn.linear_model import Ridge, LinearRegression\n",
    "from sklearn.preprocessing import PolynomialFeatures\n",
    "from sklearn.model_selection import cross_validate, ShuffleSplit\n",
    "from sklearn.kernel_ridge import KernelRidge\n",
    "from sklearn.neighbors import KNeighborsRegressor\n",
    "from sklearn.tree import DecisionTreeRegressor\n",
    "\n",
    "\n",
    "\n",
    "df = pandas.read_csv('../Datasets/cali_housing.csv')\n",
    "df = df.dropna()\n",
    "df = pandas.get_dummies(df)\n",
    "X = df.drop(columns=['median_house_value'])\n",
    "y = df.median_house_value\n",
    "\n",
    "def evaluate(model, X, y, d=1):\n",
    "    if d>1:\n",
    "        trans = PolynomialFeatures(degree=d)\n",
    "        X = trans.fit_transform(X)\n",
    "    results = cross_validate(model, X, y, cv=ShuffleSplit(n_splits=100))\n",
    "    print('{}\\n\\tR2: {}'.format(model, results['test_score'].mean().round(3)))"
   ]
  },
  {
   "cell_type": "code",
   "execution_count": 2,
   "id": "bf5b694b-0ab5-4401-9417-d0a24c954c57",
   "metadata": {
    "jupyter": {
     "outputs_hidden": true,
     "source_hidden": true
    },
    "tags": []
   },
   "outputs": [
    {
     "data": {
      "text/html": [
       "<div>\n",
       "<style scoped>\n",
       "    .dataframe tbody tr th:only-of-type {\n",
       "        vertical-align: middle;\n",
       "    }\n",
       "\n",
       "    .dataframe tbody tr th {\n",
       "        vertical-align: top;\n",
       "    }\n",
       "\n",
       "    .dataframe thead th {\n",
       "        text-align: right;\n",
       "    }\n",
       "</style>\n",
       "<table border=\"1\" class=\"dataframe\">\n",
       "  <thead>\n",
       "    <tr style=\"text-align: right;\">\n",
       "      <th></th>\n",
       "      <th>longitude</th>\n",
       "      <th>latitude</th>\n",
       "      <th>housing_median_age</th>\n",
       "      <th>total_rooms</th>\n",
       "      <th>total_bedrooms</th>\n",
       "      <th>population</th>\n",
       "      <th>households</th>\n",
       "      <th>median_income</th>\n",
       "      <th>median_house_value</th>\n",
       "      <th>ocean_proximity_&lt;1H OCEAN</th>\n",
       "      <th>ocean_proximity_INLAND</th>\n",
       "      <th>ocean_proximity_ISLAND</th>\n",
       "      <th>ocean_proximity_NEAR BAY</th>\n",
       "      <th>ocean_proximity_NEAR OCEAN</th>\n",
       "    </tr>\n",
       "  </thead>\n",
       "  <tbody>\n",
       "    <tr>\n",
       "      <th>14909</th>\n",
       "      <td>-117.04</td>\n",
       "      <td>32.62</td>\n",
       "      <td>26</td>\n",
       "      <td>3620</td>\n",
       "      <td>607.0</td>\n",
       "      <td>2000</td>\n",
       "      <td>593</td>\n",
       "      <td>4.9962</td>\n",
       "      <td>156000</td>\n",
       "      <td>0</td>\n",
       "      <td>0</td>\n",
       "      <td>0</td>\n",
       "      <td>0</td>\n",
       "      <td>1</td>\n",
       "    </tr>\n",
       "    <tr>\n",
       "      <th>5728</th>\n",
       "      <td>-118.21</td>\n",
       "      <td>34.18</td>\n",
       "      <td>14</td>\n",
       "      <td>2672</td>\n",
       "      <td>335.0</td>\n",
       "      <td>1113</td>\n",
       "      <td>318</td>\n",
       "      <td>12.1579</td>\n",
       "      <td>500001</td>\n",
       "      <td>1</td>\n",
       "      <td>0</td>\n",
       "      <td>0</td>\n",
       "      <td>0</td>\n",
       "      <td>0</td>\n",
       "    </tr>\n",
       "    <tr>\n",
       "      <th>17509</th>\n",
       "      <td>-121.90</td>\n",
       "      <td>37.34</td>\n",
       "      <td>52</td>\n",
       "      <td>241</td>\n",
       "      <td>69.0</td>\n",
       "      <td>385</td>\n",
       "      <td>64</td>\n",
       "      <td>2.6190</td>\n",
       "      <td>212500</td>\n",
       "      <td>1</td>\n",
       "      <td>0</td>\n",
       "      <td>0</td>\n",
       "      <td>0</td>\n",
       "      <td>0</td>\n",
       "    </tr>\n",
       "    <tr>\n",
       "      <th>4797</th>\n",
       "      <td>-118.35</td>\n",
       "      <td>34.02</td>\n",
       "      <td>52</td>\n",
       "      <td>427</td>\n",
       "      <td>92.0</td>\n",
       "      <td>233</td>\n",
       "      <td>116</td>\n",
       "      <td>3.2500</td>\n",
       "      <td>134700</td>\n",
       "      <td>1</td>\n",
       "      <td>0</td>\n",
       "      <td>0</td>\n",
       "      <td>0</td>\n",
       "      <td>0</td>\n",
       "    </tr>\n",
       "    <tr>\n",
       "      <th>10224</th>\n",
       "      <td>-117.89</td>\n",
       "      <td>33.87</td>\n",
       "      <td>25</td>\n",
       "      <td>1492</td>\n",
       "      <td>439.0</td>\n",
       "      <td>755</td>\n",
       "      <td>389</td>\n",
       "      <td>3.0893</td>\n",
       "      <td>188200</td>\n",
       "      <td>1</td>\n",
       "      <td>0</td>\n",
       "      <td>0</td>\n",
       "      <td>0</td>\n",
       "      <td>0</td>\n",
       "    </tr>\n",
       "  </tbody>\n",
       "</table>\n",
       "</div>"
      ],
      "text/plain": [
       "       longitude  latitude  housing_median_age  total_rooms  total_bedrooms  \\\n",
       "14909    -117.04     32.62                  26         3620           607.0   \n",
       "5728     -118.21     34.18                  14         2672           335.0   \n",
       "17509    -121.90     37.34                  52          241            69.0   \n",
       "4797     -118.35     34.02                  52          427            92.0   \n",
       "10224    -117.89     33.87                  25         1492           439.0   \n",
       "\n",
       "       population  households  median_income  median_house_value  \\\n",
       "14909        2000         593         4.9962              156000   \n",
       "5728         1113         318        12.1579              500001   \n",
       "17509         385          64         2.6190              212500   \n",
       "4797          233         116         3.2500              134700   \n",
       "10224         755         389         3.0893              188200   \n",
       "\n",
       "       ocean_proximity_<1H OCEAN  ocean_proximity_INLAND  \\\n",
       "14909                          0                       0   \n",
       "5728                           1                       0   \n",
       "17509                          1                       0   \n",
       "4797                           1                       0   \n",
       "10224                          1                       0   \n",
       "\n",
       "       ocean_proximity_ISLAND  ocean_proximity_NEAR BAY  \\\n",
       "14909                       0                         0   \n",
       "5728                        0                         0   \n",
       "17509                       0                         0   \n",
       "4797                        0                         0   \n",
       "10224                       0                         0   \n",
       "\n",
       "       ocean_proximity_NEAR OCEAN  \n",
       "14909                           1  \n",
       "5728                            0  \n",
       "17509                           0  \n",
       "4797                            0  \n",
       "10224                           0  "
      ]
     },
     "execution_count": 2,
     "metadata": {},
     "output_type": "execute_result"
    }
   ],
   "source": [
    "df.sample(5)"
   ]
  },
  {
   "cell_type": "code",
   "execution_count": 3,
   "id": "17b3d3be-5f57-4e26-b8df-0dc38f0690c0",
   "metadata": {
    "scrolled": true
   },
   "outputs": [
    {
     "name": "stdout",
     "output_type": "stream",
     "text": [
      "LinearRegression()\n",
      "\tR2: 0.644\n"
     ]
    }
   ],
   "source": [
    "m = LinearRegression()\n",
    "evaluate(m, X, y)"
   ]
  },
  {
   "cell_type": "code",
   "execution_count": 4,
   "id": "83b22bde",
   "metadata": {},
   "outputs": [],
   "source": [
    "from sklearn.linear_model import LinearRegression\n",
    "from sklearn.preprocessing import PolynomialFeatures\n",
    "from sklearn.model_selection import ShuffleSplit, cross_validate\n",
    "\n",
    "def evaluate_model(model, X, y, d = 1):\n",
    "    if d > 1:\n",
    "        trans = PolynomialFeatures(degree = d)\n",
    "        X = trans.fit_transform(X)\n",
    "    results = cross_validate(model, X, y, cv = ShuffleSplit(n_splits = 200))\n",
    "    print(results['test_score'].mean(), results['test_score'].std())"
   ]
  },
  {
   "cell_type": "code",
   "execution_count": 5,
   "id": "8c9fc7ef",
   "metadata": {
    "scrolled": true
   },
   "outputs": [
    {
     "name": "stdout",
     "output_type": "stream",
     "text": [
      "0.6454815220279733 0.018504415414594893\n"
     ]
    }
   ],
   "source": [
    "model = LinearRegression()\n",
    "X = df.drop(columns = ['median_house_value'])\n",
    "y = df['median_house_value']\n",
    "evaluate_model(model, X, y)"
   ]
  },
  {
   "cell_type": "code",
   "execution_count": 6,
   "id": "c4d51e5d",
   "metadata": {},
   "outputs": [
    {
     "name": "stdout",
     "output_type": "stream",
     "text": [
      "0.5716508102922395 0.49284782987783593\n"
     ]
    }
   ],
   "source": [
    "evaluate_model(model, X, y, d = 2)"
   ]
  },
  {
   "cell_type": "markdown",
   "id": "d315fccd-aca0-4111-9779-271325042604",
   "metadata": {},
   "source": [
    "Reminder: how does linear regression work?\n",
    "\n",
    "We have (1) X - features, (2) target variable.\n",
    "\n",
    "In linear regression modeling, we find a coefficient $w$ and intercept $b$ such that the sum of errors is minimal.\n",
    "\n",
    "The predictor is: $f(X) = w\\cdot X + b$\n",
    "\n",
    "Error is: $|| y - f(x) ||$.\n"
   ]
  },
  {
   "cell_type": "markdown",
   "id": "5642ac53-e028-4e9d-ba3a-cf5ab90d85f0",
   "metadata": {},
   "source": [
    "### Ridge regression\n",
    "\n",
    "This is small extension of linear regression.  In ordinary linear regression, we want to minimize $||y-(w\\cdot X + b)||$.\n",
    "\n"
   ]
  },
  {
   "cell_type": "markdown",
   "id": "7153218e-f20a-46a6-b572-1be7e0e7893c",
   "metadata": {},
   "source": [
    "In Ridge regression, we want to minimize $||y-(w\\cdot X + b)|| + \\alpha \\cdot ||w||$.\n",
    "\n"
   ]
  },
  {
   "cell_type": "markdown",
   "id": "520f1b71-09a9-4a13-be10-ab16e6e5db85",
   "metadata": {},
   "source": [
    "$||w|| = \\sqrt{\\sum w_i^2}$"
   ]
  },
  {
   "cell_type": "markdown",
   "id": "a7f2274f-ca03-4e88-b8f1-6ace9136ccbf",
   "metadata": {},
   "source": [
    "Ridge wants to minimize both the errors and the weight vector.\n",
    "\n",
    "$w_1$ is the weight of the first feature."
   ]
  },
  {
   "cell_type": "code",
   "execution_count": 7,
   "id": "adc505b9-7be0-4c81-a5c7-3d6eced57832",
   "metadata": {},
   "outputs": [
    {
     "data": {
      "text/plain": [
       "LinearRegression()"
      ]
     },
     "execution_count": 7,
     "metadata": {},
     "output_type": "execute_result"
    }
   ],
   "source": [
    "m.fit(X,y)"
   ]
  },
  {
   "cell_type": "code",
   "execution_count": 8,
   "id": "1365e36a-c2eb-4103-b4d5-a69bfb789b6d",
   "metadata": {},
   "outputs": [
    {
     "name": "stdout",
     "output_type": "stream",
     "text": [
      "130113.5963943307\n"
     ]
    },
    {
     "data": {
      "text/plain": [
       "array([-2.68129893e+04, -2.54821848e+04,  1.07252004e+03, -6.19326372e+00,\n",
       "        1.00556290e+02, -3.79690829e+01,  4.96173261e+01,  3.92595729e+04,\n",
       "       -2.27883447e+04, -6.20726449e+04,  1.30113596e+05, -2.67423963e+04,\n",
       "       -1.85102104e+04])"
      ]
     },
     "execution_count": 8,
     "metadata": {},
     "output_type": "execute_result"
    }
   ],
   "source": [
    "print(max(m.coef_))\n",
    "m.coef_"
   ]
  },
  {
   "cell_type": "code",
   "execution_count": 9,
   "id": "5327b613-27b3-4f94-ad14-73de5ffa2922",
   "metadata": {},
   "outputs": [
    {
     "data": {
      "text/plain": [
       "Index(['longitude', 'latitude', 'housing_median_age', 'total_rooms',\n",
       "       'total_bedrooms', 'population', 'households', 'median_income',\n",
       "       'ocean_proximity_<1H OCEAN', 'ocean_proximity_INLAND',\n",
       "       'ocean_proximity_ISLAND', 'ocean_proximity_NEAR BAY',\n",
       "       'ocean_proximity_NEAR OCEAN'],\n",
       "      dtype='object')"
      ]
     },
     "execution_count": 9,
     "metadata": {},
     "output_type": "execute_result"
    }
   ],
   "source": [
    "X.columns"
   ]
  },
  {
   "cell_type": "code",
   "execution_count": 10,
   "id": "2a89b472-b3b2-4908-92bb-f5edf43221db",
   "metadata": {},
   "outputs": [
    {
     "name": "stdout",
     "output_type": "stream",
     "text": [
      "Ridge(alpha=0.05, normalize=True)\n",
      "\tR2: 0.636\n"
     ]
    }
   ],
   "source": [
    "mr = Ridge(alpha=0.05, normalize=True)\n",
    "evaluate(mr, X, y)"
   ]
  },
  {
   "cell_type": "code",
   "execution_count": 11,
   "id": "2cbc7495-0e87-4aa0-b5e5-e51df30c404d",
   "metadata": {},
   "outputs": [
    {
     "name": "stdout",
     "output_type": "stream",
     "text": [
      "35792956876.27669\n"
     ]
    }
   ],
   "source": [
    "mr.fit(X,y)\n",
    "print(mr.coef_.dot(mr.coef_))"
   ]
  },
  {
   "cell_type": "markdown",
   "id": "1556ceb7-0cc1-445f-9e42-8dbc8a09501c",
   "metadata": {},
   "source": [
    "**not all features have the same scales.**\n",
    "\n",
    "Not much a difference right now."
   ]
  },
  {
   "cell_type": "code",
   "execution_count": 12,
   "id": "0095c87e-4d2a-48e3-803e-fa0dc89e25ba",
   "metadata": {},
   "outputs": [
    {
     "data": {
      "text/html": [
       "<div>\n",
       "<style scoped>\n",
       "    .dataframe tbody tr th:only-of-type {\n",
       "        vertical-align: middle;\n",
       "    }\n",
       "\n",
       "    .dataframe tbody tr th {\n",
       "        vertical-align: top;\n",
       "    }\n",
       "\n",
       "    .dataframe thead th {\n",
       "        text-align: right;\n",
       "    }\n",
       "</style>\n",
       "<table border=\"1\" class=\"dataframe\">\n",
       "  <thead>\n",
       "    <tr style=\"text-align: right;\">\n",
       "      <th></th>\n",
       "      <th>longitude</th>\n",
       "      <th>latitude</th>\n",
       "      <th>housing_median_age</th>\n",
       "      <th>total_rooms</th>\n",
       "      <th>total_bedrooms</th>\n",
       "      <th>population</th>\n",
       "      <th>households</th>\n",
       "      <th>median_income</th>\n",
       "      <th>ocean_proximity_&lt;1H OCEAN</th>\n",
       "      <th>ocean_proximity_INLAND</th>\n",
       "      <th>ocean_proximity_ISLAND</th>\n",
       "      <th>ocean_proximity_NEAR BAY</th>\n",
       "      <th>ocean_proximity_NEAR OCEAN</th>\n",
       "    </tr>\n",
       "  </thead>\n",
       "  <tbody>\n",
       "    <tr>\n",
       "      <th>0</th>\n",
       "      <td>-122.23</td>\n",
       "      <td>37.88</td>\n",
       "      <td>41</td>\n",
       "      <td>880</td>\n",
       "      <td>129.0</td>\n",
       "      <td>322</td>\n",
       "      <td>126</td>\n",
       "      <td>8.3252</td>\n",
       "      <td>0</td>\n",
       "      <td>0</td>\n",
       "      <td>0</td>\n",
       "      <td>1</td>\n",
       "      <td>0</td>\n",
       "    </tr>\n",
       "    <tr>\n",
       "      <th>1</th>\n",
       "      <td>-122.22</td>\n",
       "      <td>37.86</td>\n",
       "      <td>21</td>\n",
       "      <td>7099</td>\n",
       "      <td>1106.0</td>\n",
       "      <td>2401</td>\n",
       "      <td>1138</td>\n",
       "      <td>8.3014</td>\n",
       "      <td>0</td>\n",
       "      <td>0</td>\n",
       "      <td>0</td>\n",
       "      <td>1</td>\n",
       "      <td>0</td>\n",
       "    </tr>\n",
       "    <tr>\n",
       "      <th>2</th>\n",
       "      <td>-122.24</td>\n",
       "      <td>37.85</td>\n",
       "      <td>52</td>\n",
       "      <td>1467</td>\n",
       "      <td>190.0</td>\n",
       "      <td>496</td>\n",
       "      <td>177</td>\n",
       "      <td>7.2574</td>\n",
       "      <td>0</td>\n",
       "      <td>0</td>\n",
       "      <td>0</td>\n",
       "      <td>1</td>\n",
       "      <td>0</td>\n",
       "    </tr>\n",
       "    <tr>\n",
       "      <th>3</th>\n",
       "      <td>-122.25</td>\n",
       "      <td>37.85</td>\n",
       "      <td>52</td>\n",
       "      <td>1274</td>\n",
       "      <td>235.0</td>\n",
       "      <td>558</td>\n",
       "      <td>219</td>\n",
       "      <td>5.6431</td>\n",
       "      <td>0</td>\n",
       "      <td>0</td>\n",
       "      <td>0</td>\n",
       "      <td>1</td>\n",
       "      <td>0</td>\n",
       "    </tr>\n",
       "    <tr>\n",
       "      <th>4</th>\n",
       "      <td>-122.25</td>\n",
       "      <td>37.85</td>\n",
       "      <td>52</td>\n",
       "      <td>1627</td>\n",
       "      <td>280.0</td>\n",
       "      <td>565</td>\n",
       "      <td>259</td>\n",
       "      <td>3.8462</td>\n",
       "      <td>0</td>\n",
       "      <td>0</td>\n",
       "      <td>0</td>\n",
       "      <td>1</td>\n",
       "      <td>0</td>\n",
       "    </tr>\n",
       "    <tr>\n",
       "      <th>...</th>\n",
       "      <td>...</td>\n",
       "      <td>...</td>\n",
       "      <td>...</td>\n",
       "      <td>...</td>\n",
       "      <td>...</td>\n",
       "      <td>...</td>\n",
       "      <td>...</td>\n",
       "      <td>...</td>\n",
       "      <td>...</td>\n",
       "      <td>...</td>\n",
       "      <td>...</td>\n",
       "      <td>...</td>\n",
       "      <td>...</td>\n",
       "    </tr>\n",
       "    <tr>\n",
       "      <th>20635</th>\n",
       "      <td>-121.09</td>\n",
       "      <td>39.48</td>\n",
       "      <td>25</td>\n",
       "      <td>1665</td>\n",
       "      <td>374.0</td>\n",
       "      <td>845</td>\n",
       "      <td>330</td>\n",
       "      <td>1.5603</td>\n",
       "      <td>0</td>\n",
       "      <td>1</td>\n",
       "      <td>0</td>\n",
       "      <td>0</td>\n",
       "      <td>0</td>\n",
       "    </tr>\n",
       "    <tr>\n",
       "      <th>20636</th>\n",
       "      <td>-121.21</td>\n",
       "      <td>39.49</td>\n",
       "      <td>18</td>\n",
       "      <td>697</td>\n",
       "      <td>150.0</td>\n",
       "      <td>356</td>\n",
       "      <td>114</td>\n",
       "      <td>2.5568</td>\n",
       "      <td>0</td>\n",
       "      <td>1</td>\n",
       "      <td>0</td>\n",
       "      <td>0</td>\n",
       "      <td>0</td>\n",
       "    </tr>\n",
       "    <tr>\n",
       "      <th>20637</th>\n",
       "      <td>-121.22</td>\n",
       "      <td>39.43</td>\n",
       "      <td>17</td>\n",
       "      <td>2254</td>\n",
       "      <td>485.0</td>\n",
       "      <td>1007</td>\n",
       "      <td>433</td>\n",
       "      <td>1.7000</td>\n",
       "      <td>0</td>\n",
       "      <td>1</td>\n",
       "      <td>0</td>\n",
       "      <td>0</td>\n",
       "      <td>0</td>\n",
       "    </tr>\n",
       "    <tr>\n",
       "      <th>20638</th>\n",
       "      <td>-121.32</td>\n",
       "      <td>39.43</td>\n",
       "      <td>18</td>\n",
       "      <td>1860</td>\n",
       "      <td>409.0</td>\n",
       "      <td>741</td>\n",
       "      <td>349</td>\n",
       "      <td>1.8672</td>\n",
       "      <td>0</td>\n",
       "      <td>1</td>\n",
       "      <td>0</td>\n",
       "      <td>0</td>\n",
       "      <td>0</td>\n",
       "    </tr>\n",
       "    <tr>\n",
       "      <th>20639</th>\n",
       "      <td>-121.24</td>\n",
       "      <td>39.37</td>\n",
       "      <td>16</td>\n",
       "      <td>2785</td>\n",
       "      <td>616.0</td>\n",
       "      <td>1387</td>\n",
       "      <td>530</td>\n",
       "      <td>2.3886</td>\n",
       "      <td>0</td>\n",
       "      <td>1</td>\n",
       "      <td>0</td>\n",
       "      <td>0</td>\n",
       "      <td>0</td>\n",
       "    </tr>\n",
       "  </tbody>\n",
       "</table>\n",
       "<p>20433 rows × 13 columns</p>\n",
       "</div>"
      ],
      "text/plain": [
       "       longitude  latitude  housing_median_age  total_rooms  total_bedrooms  \\\n",
       "0        -122.23     37.88                  41          880           129.0   \n",
       "1        -122.22     37.86                  21         7099          1106.0   \n",
       "2        -122.24     37.85                  52         1467           190.0   \n",
       "3        -122.25     37.85                  52         1274           235.0   \n",
       "4        -122.25     37.85                  52         1627           280.0   \n",
       "...          ...       ...                 ...          ...             ...   \n",
       "20635    -121.09     39.48                  25         1665           374.0   \n",
       "20636    -121.21     39.49                  18          697           150.0   \n",
       "20637    -121.22     39.43                  17         2254           485.0   \n",
       "20638    -121.32     39.43                  18         1860           409.0   \n",
       "20639    -121.24     39.37                  16         2785           616.0   \n",
       "\n",
       "       population  households  median_income  ocean_proximity_<1H OCEAN  \\\n",
       "0             322         126         8.3252                          0   \n",
       "1            2401        1138         8.3014                          0   \n",
       "2             496         177         7.2574                          0   \n",
       "3             558         219         5.6431                          0   \n",
       "4             565         259         3.8462                          0   \n",
       "...           ...         ...            ...                        ...   \n",
       "20635         845         330         1.5603                          0   \n",
       "20636         356         114         2.5568                          0   \n",
       "20637        1007         433         1.7000                          0   \n",
       "20638         741         349         1.8672                          0   \n",
       "20639        1387         530         2.3886                          0   \n",
       "\n",
       "       ocean_proximity_INLAND  ocean_proximity_ISLAND  \\\n",
       "0                           0                       0   \n",
       "1                           0                       0   \n",
       "2                           0                       0   \n",
       "3                           0                       0   \n",
       "4                           0                       0   \n",
       "...                       ...                     ...   \n",
       "20635                       1                       0   \n",
       "20636                       1                       0   \n",
       "20637                       1                       0   \n",
       "20638                       1                       0   \n",
       "20639                       1                       0   \n",
       "\n",
       "       ocean_proximity_NEAR BAY  ocean_proximity_NEAR OCEAN  \n",
       "0                             1                           0  \n",
       "1                             1                           0  \n",
       "2                             1                           0  \n",
       "3                             1                           0  \n",
       "4                             1                           0  \n",
       "...                         ...                         ...  \n",
       "20635                         0                           0  \n",
       "20636                         0                           0  \n",
       "20637                         0                           0  \n",
       "20638                         0                           0  \n",
       "20639                         0                           0  \n",
       "\n",
       "[20433 rows x 13 columns]"
      ]
     },
     "execution_count": 12,
     "metadata": {},
     "output_type": "execute_result"
    }
   ],
   "source": [
    "X"
   ]
  },
  {
   "cell_type": "code",
   "execution_count": 13,
   "id": "3770fa4f-a03b-4512-bad7-4d30fc539cd6",
   "metadata": {},
   "outputs": [
    {
     "name": "stdout",
     "output_type": "stream",
     "text": [
      "KNeighborsRegressor(n_neighbors=7)\n",
      "\tR2: 0.29\n"
     ]
    }
   ],
   "source": [
    "evaluate(KNeighborsRegressor(n_neighbors=7), X, y)"
   ]
  },
  {
   "cell_type": "code",
   "execution_count": 14,
   "id": "ba881007-2828-4d72-b303-cd5f68a20b8a",
   "metadata": {
    "jupyter": {
     "outputs_hidden": true
    },
    "tags": []
   },
   "outputs": [
    {
     "name": "stdout",
     "output_type": "stream",
     "text": [
      "LinearRegression()\n",
      "\tR2: 0.645\n",
      "Ridge(alpha=0.05, normalize=True)\n",
      "\tR2: 0.674\n",
      "KNeighborsRegressor()\n",
      "\tR2: 0.263\n",
      "DecisionTreeRegressor(max_depth=10)\n",
      "\tR2: 0.721\n",
      "DecisionTreeRegressor(max_depth=10)\n",
      "\tR2: 0.704\n"
     ]
    }
   ],
   "source": [
    "evaluate(LinearRegression(), X, y)\n",
    "# evaluate(LinearRegression(normalize=True))\n",
    "evaluate(Ridge(normalize=True, alpha=0.05), X, y, d=2)\n",
    "# evaluate(Ridge(normalize=True, alpha=0.05), X, y, d=3)\n",
    "evaluate(KNeighborsRegressor(), X, y)\n",
    "evaluate(DecisionTreeRegressor(max_depth=10), X, y)\n",
    "evaluate(DecisionTreeRegressor(max_depth=10), X, y, d=2)\n",
    "\n",
    "# explore d with ridge, max_depth with decision trees"
   ]
  },
  {
   "cell_type": "code",
   "execution_count": 15,
   "id": "9d4c4648-9729-4071-8dff-188d1abb4ec4",
   "metadata": {},
   "outputs": [
    {
     "name": "stdout",
     "output_type": "stream",
     "text": [
      "DecisionTreeRegressor()\n",
      "\tR2: 0.654\n"
     ]
    }
   ],
   "source": [
    "evaluate(DecisionTreeRegressor(), X, y)"
   ]
  },
  {
   "cell_type": "markdown",
   "id": "d31a2362-1955-4dfa-abcb-eabf7d3947f2",
   "metadata": {},
   "source": [
    "Decision trees are good.  They give comparable (maybe a little better than linear regression).\n",
    "\n",
    "Ridge is comparable to linear regression.\n",
    "\n"
   ]
  },
  {
   "cell_type": "markdown",
   "id": "fd0122dd-e08e-4ba7-8a4b-f90574ae29ec",
   "metadata": {},
   "source": [
    "### Are house prices linearly influenced by the features?\n",
    "\n",
    "Presently, linear regression gives R2 around 0.64."
   ]
  },
  {
   "cell_type": "code",
   "execution_count": 16,
   "id": "9d2b2f5d-0bfa-4c43-8c98-ca71c83a8bd2",
   "metadata": {},
   "outputs": [],
   "source": [
    "from sklearn.preprocessing import PolynomialFeatures\n",
    "\n",
    "df = pandas.read_csv('../Datasets/cali_housing.csv')\n",
    "df = df.dropna()\n",
    "df = pandas.get_dummies(df)\n",
    "X = df.drop(columns=['median_house_value'])\n",
    "y = df.median_house_value\n",
    "\n",
    "def evaluate(model, X, y, d=1):\n",
    "    if d>1:\n",
    "        trans = PolynomialFeatures(degree=d)\n",
    "        X = trans.fit_transform(X)\n",
    "    results = cross_validate(model, X, y, cv=ShuffleSplit(n_splits=100))\n",
    "    print('{}\\n\\tR2: {}'.format(model, results['test_score'].mean().round(3)))\n",
    "\n"
   ]
  },
  {
   "cell_type": "code",
   "execution_count": 17,
   "id": "db15e7ca-161c-421b-b770-0ea3a7b44655",
   "metadata": {},
   "outputs": [
    {
     "name": "stdout",
     "output_type": "stream",
     "text": [
      "LinearRegression()\n",
      "\tR2: 0.648\n"
     ]
    }
   ],
   "source": [
    "evaluate(LinearRegression(), X, y)"
   ]
  },
  {
   "cell_type": "code",
   "execution_count": 18,
   "id": "3401e1f7-4a57-449f-880c-cac070f167c5",
   "metadata": {},
   "outputs": [
    {
     "name": "stdout",
     "output_type": "stream",
     "text": [
      "LinearRegression()\n",
      "\tR2: 0.622\n"
     ]
    }
   ],
   "source": [
    "evaluate(LinearRegression(), X, y, d=2)"
   ]
  },
  {
   "cell_type": "code",
   "execution_count": 19,
   "id": "a9843eb1-a83b-4869-b18e-6917539399f1",
   "metadata": {},
   "outputs": [
    {
     "name": "stdout",
     "output_type": "stream",
     "text": [
      "Ridge(alpha=0.05, normalize=True)\n",
      "\tR2: 0.672\n"
     ]
    }
   ],
   "source": [
    "evaluate(Ridge(normalize=True, alpha=0.05), X, y, d=2)"
   ]
  },
  {
   "cell_type": "code",
   "execution_count": 28,
   "id": "39e5252a",
   "metadata": {},
   "outputs": [
    {
     "name": "stdout",
     "output_type": "stream",
     "text": [
      "DecisionTreeRegressor(max_depth=5)\n",
      "\tR2: 0.626\n"
     ]
    }
   ],
   "source": [
    "evaluate(DecisionTreeRegressor(max_depth = 5), X, y)"
   ]
  },
  {
   "cell_type": "code",
   "execution_count": 20,
   "id": "7565ff4b-b725-4833-b165-9e2f4e3225d0",
   "metadata": {},
   "outputs": [
    {
     "name": "stdout",
     "output_type": "stream",
     "text": [
      "DecisionTreeRegressor(max_depth=10)\n",
      "\tR2: 0.705\n"
     ]
    }
   ],
   "source": [
    "evaluate(DecisionTreeRegressor(max_depth=10), X, y, d=2)"
   ]
  },
  {
   "cell_type": "code",
   "execution_count": 21,
   "id": "55805b44-e6ec-485f-a24a-cc3ecf0bf666",
   "metadata": {},
   "outputs": [
    {
     "name": "stdout",
     "output_type": "stream",
     "text": [
      "Ridge(alpha=0.05, normalize=True)\n",
      "\tR2: 0.681\n"
     ]
    }
   ],
   "source": [
    "evaluate(Ridge(normalize=True, alpha=0.05), X, y, d=3)"
   ]
  },
  {
   "cell_type": "code",
   "execution_count": 22,
   "id": "7313d8fc-3855-43d7-a27f-46fc3c9b44f3",
   "metadata": {},
   "outputs": [
    {
     "name": "stdout",
     "output_type": "stream",
     "text": [
      "DecisionTreeRegressor(max_depth=10)\n",
      "\tR2: 0.693\n"
     ]
    }
   ],
   "source": [
    "evaluate(DecisionTreeRegressor(max_depth=10), X, y, d=3)"
   ]
  },
  {
   "cell_type": "markdown",
   "id": "a9393a03-5dbf-4cbf-85e2-2b26c8816ed3",
   "metadata": {},
   "source": [
    "There's definitely nonlinear effects in this dataset.  House prices are not simply linearly related to the features. "
   ]
  },
  {
   "cell_type": "code",
   "execution_count": 23,
   "id": "fffb80dd-3da9-4f24-8f41-bbe764f59e83",
   "metadata": {},
   "outputs": [
    {
     "name": "stdout",
     "output_type": "stream",
     "text": [
      "KNeighborsRegressor()\n",
      "\tR2: 0.256\n"
     ]
    }
   ],
   "source": [
    "evaluate(KNeighborsRegressor(), X, y)"
   ]
  },
  {
   "cell_type": "code",
   "execution_count": 24,
   "id": "dfb6df2e-8ea1-498d-aa09-8ada77664e95",
   "metadata": {},
   "outputs": [],
   "source": [
    "from sklearn.preprocessing import PolynomialFeatures, StandardScaler"
   ]
  },
  {
   "cell_type": "code",
   "execution_count": 25,
   "id": "23ed92ae-c2a3-430b-9565-8bbbee4c9787",
   "metadata": {},
   "outputs": [],
   "source": [
    "X2 = StandardScaler().fit_transform(X)"
   ]
  },
  {
   "cell_type": "code",
   "execution_count": 26,
   "id": "7065dff2-5d30-4112-8b27-7166b00a20b8",
   "metadata": {},
   "outputs": [
    {
     "name": "stdout",
     "output_type": "stream",
     "text": [
      "KNeighborsRegressor()\n",
      "\tR2: 0.723\n"
     ]
    }
   ],
   "source": [
    "evaluate(KNeighborsRegressor(), X2, y)"
   ]
  }
 ],
 "metadata": {
  "kernelspec": {
   "display_name": "Python 3",
   "language": "python",
   "name": "python3"
  },
  "language_info": {
   "codemirror_mode": {
    "name": "ipython",
    "version": 3
   },
   "file_extension": ".py",
   "mimetype": "text/x-python",
   "name": "python",
   "nbconvert_exporter": "python",
   "pygments_lexer": "ipython3",
   "version": "3.8.8"
  }
 },
 "nbformat": 4,
 "nbformat_minor": 5
}
