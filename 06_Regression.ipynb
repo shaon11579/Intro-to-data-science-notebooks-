{
 "cells": [
  {
   "cell_type": "markdown",
   "id": "b00d0d04",
   "metadata": {},
   "source": [
    "# Regression\n",
    "\n",
    "Regression is about modeling relationships, quantifying relationships, and making predictions.\n",
    "\n",
    "Learning Goals:\n",
    "* Understand what regression is.\n",
    "* Understand R-squared and linear correlation.\n",
    "    * https://en.wikipedia.org/wiki/Pearson_correlation_coefficient\n",
    "* Know how to create regression models using sklearn.\n",
    "* Validation (train_test_split) and cross validation with ShuffleSplit\n"
   ]
  },
  {
   "cell_type": "markdown",
   "id": "4adc041e",
   "metadata": {},
   "source": [
    "# Linear regression"
   ]
  },
  {
   "cell_type": "code",
   "execution_count": null,
   "id": "04391116",
   "metadata": {},
   "outputs": [],
   "source": []
  },
  {
   "cell_type": "markdown",
   "id": "27464e26",
   "metadata": {},
   "source": [
    "# Model the Relationship between Petal Width & Length of Iris"
   ]
  },
  {
   "cell_type": "code",
   "execution_count": null,
   "id": "2ded4757",
   "metadata": {},
   "outputs": [],
   "source": []
  },
  {
   "cell_type": "markdown",
   "id": "881b5bcb",
   "metadata": {},
   "source": [
    "# Model the Relationship between Speeding and Alcohol"
   ]
  },
  {
   "cell_type": "code",
   "execution_count": null,
   "id": "501c817f",
   "metadata": {},
   "outputs": [],
   "source": []
  },
  {
   "cell_type": "markdown",
   "id": "d77b8b2d",
   "metadata": {},
   "source": [
    "# Model the Retionship between Tip Amounts and Gender, Smoking, and Week Days"
   ]
  },
  {
   "cell_type": "code",
   "execution_count": null,
   "id": "21552b81",
   "metadata": {},
   "outputs": [],
   "source": []
  }
 ],
 "metadata": {
  "kernelspec": {
   "display_name": "Python 3",
   "language": "python",
   "name": "python3"
  },
  "language_info": {
   "codemirror_mode": {
    "name": "ipython",
    "version": 3
   },
   "file_extension": ".py",
   "mimetype": "text/x-python",
   "name": "python",
   "nbconvert_exporter": "python",
   "pygments_lexer": "ipython3",
   "version": "3.8.8"
  }
 },
 "nbformat": 4,
 "nbformat_minor": 5
}
