{
 "cells": [
  {
   "cell_type": "markdown",
   "id": "79ba8c61-3b60-465a-aec3-6dd8ed1ac87f",
   "metadata": {},
   "source": [
    "# Linear and Nonlinear Classification"
   ]
  },
  {
   "cell_type": "markdown",
   "id": "2015874a-03a2-4e1f-9b28-2d19fe98ed6c",
   "metadata": {},
   "source": [
    "Classification methods:\n",
    "+ Support vector\n",
    "+ Decision tree\n",
    "+ Ensemble (random forest)\n",
    "+ Distribution fitting (Naive Bayes)"
   ]
  },
  {
   "cell_type": "code",
   "execution_count": 1,
   "id": "b8707f1c-8f21-47e5-a326-d3515eaa7305",
   "metadata": {},
   "outputs": [],
   "source": [
    "import pandas\n",
    "iris = pandas.read_csv('../Datasets/iris.csv')\n",
    "admission = pandas.read_csv('../Datasets/admission.csv')\n",
    "cancer = pandas.read_csv('../Datasets/breast-cancer-wisconsin.csv')\n",
    "diabetes = pandas.read_csv('../Datasets/diabetes.csv')\n",
    "\n",
    "\n",
    "from sklearn.model_selection import ShuffleSplit, cross_validate\n",
    "from sklearn.tree import DecisionTreeClassifier\n",
    "from sklearn.ensemble import RandomForestClassifier\n",
    "from sklearn.svm import SVC\n",
    "from sklearn.naive_bayes import GaussianNB"
   ]
  },
  {
   "cell_type": "code",
   "execution_count": 2,
   "id": "5faf8d78-9241-401d-9614-9b347e1961dc",
   "metadata": {},
   "outputs": [],
   "source": [
    "def assess_performance(mod, X, y):\n",
    "#     result = cross_validate(mod, X, y, cv=cv, scoring=['accuracy','precision','recall'])\n",
    "    cv = ShuffleSplit(n_splits=100)\n",
    "    result = cross_validate(mod, X, y, cv=cv, scoring=['accuracy', 'precision'])\n",
    "    print('Model', mod)\n",
    "    print('\\tAccuracy: {} {}'.format(result['test_accuracy'].mean().round(2), result['test_accuracy'].std().round(2)))\n",
    "#     print('\\tPrecision: {} {}'.format(result['test_precision'].mean().round(2), result['test_precision'].std().round(2)))\n",
    "#     print('\\tRecall: {} {}'.format(result['test_recall'].mean().round(2), result['test_recall'].std().round(2)))    "
   ]
  },
  {
   "cell_type": "markdown",
   "id": "bafb6ad2-cfbf-4563-aa89-8afa70d3ded6",
   "metadata": {},
   "source": [
    "### Overview\n",
    "\n",
    "Decision tree is non-linear and can be used for regression (y-continuous) and classification (y-discrete).\n",
    "\n",
    "Random forest is an ensemble method.\n",
    "+ A random forest is a set of trees, which are randomly constructed.\n",
    "+ There are two aspects in this randomness. First, a subset of features are randomly selected to build a random tree.  Secondly, the way that the decision tree is constructed at each branch is also randomized.\n",
    "\n",
    "An ensemble method polls the majority decision from its classifiers.\n",
    "\n",
    "Another non-linear approach is to fit data into distributions of features, e.g. Naive Bayes classification.  This approach can provide a probability for each prediction.\n",
    "+ Naive Bayes assumes that the features are independent from each other.\n",
    "\n",
    "Suppor Vector is a very popular linear method of classification.\n",
    "\n",
    "\n",
    "\n"
   ]
  },
  {
   "cell_type": "code",
   "execution_count": 3,
   "id": "22987e57-fb9d-466d-a0e4-a5dc9010d6b9",
   "metadata": {},
   "outputs": [
    {
     "data": {
      "text/html": [
       "<div>\n",
       "<style scoped>\n",
       "    .dataframe tbody tr th:only-of-type {\n",
       "        vertical-align: middle;\n",
       "    }\n",
       "\n",
       "    .dataframe tbody tr th {\n",
       "        vertical-align: top;\n",
       "    }\n",
       "\n",
       "    .dataframe thead th {\n",
       "        text-align: right;\n",
       "    }\n",
       "</style>\n",
       "<table border=\"1\" class=\"dataframe\">\n",
       "  <thead>\n",
       "    <tr style=\"text-align: right;\">\n",
       "      <th></th>\n",
       "      <th>Pregnancies</th>\n",
       "      <th>Glucose</th>\n",
       "      <th>BloodPressure</th>\n",
       "      <th>SkinThickness</th>\n",
       "      <th>Insulin</th>\n",
       "      <th>BMI</th>\n",
       "      <th>DiabetesPedigreeFunction</th>\n",
       "      <th>Age</th>\n",
       "      <th>Outcome</th>\n",
       "    </tr>\n",
       "  </thead>\n",
       "  <tbody>\n",
       "    <tr>\n",
       "      <th>0</th>\n",
       "      <td>6</td>\n",
       "      <td>148</td>\n",
       "      <td>72</td>\n",
       "      <td>35</td>\n",
       "      <td>0</td>\n",
       "      <td>33.6</td>\n",
       "      <td>0.627</td>\n",
       "      <td>50</td>\n",
       "      <td>1</td>\n",
       "    </tr>\n",
       "    <tr>\n",
       "      <th>1</th>\n",
       "      <td>1</td>\n",
       "      <td>85</td>\n",
       "      <td>66</td>\n",
       "      <td>29</td>\n",
       "      <td>0</td>\n",
       "      <td>26.6</td>\n",
       "      <td>0.351</td>\n",
       "      <td>31</td>\n",
       "      <td>0</td>\n",
       "    </tr>\n",
       "    <tr>\n",
       "      <th>2</th>\n",
       "      <td>8</td>\n",
       "      <td>183</td>\n",
       "      <td>64</td>\n",
       "      <td>0</td>\n",
       "      <td>0</td>\n",
       "      <td>23.3</td>\n",
       "      <td>0.672</td>\n",
       "      <td>32</td>\n",
       "      <td>1</td>\n",
       "    </tr>\n",
       "    <tr>\n",
       "      <th>3</th>\n",
       "      <td>1</td>\n",
       "      <td>89</td>\n",
       "      <td>66</td>\n",
       "      <td>23</td>\n",
       "      <td>94</td>\n",
       "      <td>28.1</td>\n",
       "      <td>0.167</td>\n",
       "      <td>21</td>\n",
       "      <td>0</td>\n",
       "    </tr>\n",
       "    <tr>\n",
       "      <th>4</th>\n",
       "      <td>0</td>\n",
       "      <td>137</td>\n",
       "      <td>40</td>\n",
       "      <td>35</td>\n",
       "      <td>168</td>\n",
       "      <td>43.1</td>\n",
       "      <td>2.288</td>\n",
       "      <td>33</td>\n",
       "      <td>1</td>\n",
       "    </tr>\n",
       "    <tr>\n",
       "      <th>...</th>\n",
       "      <td>...</td>\n",
       "      <td>...</td>\n",
       "      <td>...</td>\n",
       "      <td>...</td>\n",
       "      <td>...</td>\n",
       "      <td>...</td>\n",
       "      <td>...</td>\n",
       "      <td>...</td>\n",
       "      <td>...</td>\n",
       "    </tr>\n",
       "    <tr>\n",
       "      <th>763</th>\n",
       "      <td>10</td>\n",
       "      <td>101</td>\n",
       "      <td>76</td>\n",
       "      <td>48</td>\n",
       "      <td>180</td>\n",
       "      <td>32.9</td>\n",
       "      <td>0.171</td>\n",
       "      <td>63</td>\n",
       "      <td>0</td>\n",
       "    </tr>\n",
       "    <tr>\n",
       "      <th>764</th>\n",
       "      <td>2</td>\n",
       "      <td>122</td>\n",
       "      <td>70</td>\n",
       "      <td>27</td>\n",
       "      <td>0</td>\n",
       "      <td>36.8</td>\n",
       "      <td>0.340</td>\n",
       "      <td>27</td>\n",
       "      <td>0</td>\n",
       "    </tr>\n",
       "    <tr>\n",
       "      <th>765</th>\n",
       "      <td>5</td>\n",
       "      <td>121</td>\n",
       "      <td>72</td>\n",
       "      <td>23</td>\n",
       "      <td>112</td>\n",
       "      <td>26.2</td>\n",
       "      <td>0.245</td>\n",
       "      <td>30</td>\n",
       "      <td>0</td>\n",
       "    </tr>\n",
       "    <tr>\n",
       "      <th>766</th>\n",
       "      <td>1</td>\n",
       "      <td>126</td>\n",
       "      <td>60</td>\n",
       "      <td>0</td>\n",
       "      <td>0</td>\n",
       "      <td>30.1</td>\n",
       "      <td>0.349</td>\n",
       "      <td>47</td>\n",
       "      <td>1</td>\n",
       "    </tr>\n",
       "    <tr>\n",
       "      <th>767</th>\n",
       "      <td>1</td>\n",
       "      <td>93</td>\n",
       "      <td>70</td>\n",
       "      <td>31</td>\n",
       "      <td>0</td>\n",
       "      <td>30.4</td>\n",
       "      <td>0.315</td>\n",
       "      <td>23</td>\n",
       "      <td>0</td>\n",
       "    </tr>\n",
       "  </tbody>\n",
       "</table>\n",
       "<p>768 rows × 9 columns</p>\n",
       "</div>"
      ],
      "text/plain": [
       "     Pregnancies  Glucose  BloodPressure  SkinThickness  Insulin   BMI  \\\n",
       "0              6      148             72             35        0  33.6   \n",
       "1              1       85             66             29        0  26.6   \n",
       "2              8      183             64              0        0  23.3   \n",
       "3              1       89             66             23       94  28.1   \n",
       "4              0      137             40             35      168  43.1   \n",
       "..           ...      ...            ...            ...      ...   ...   \n",
       "763           10      101             76             48      180  32.9   \n",
       "764            2      122             70             27        0  36.8   \n",
       "765            5      121             72             23      112  26.2   \n",
       "766            1      126             60              0        0  30.1   \n",
       "767            1       93             70             31        0  30.4   \n",
       "\n",
       "     DiabetesPedigreeFunction  Age  Outcome  \n",
       "0                       0.627   50        1  \n",
       "1                       0.351   31        0  \n",
       "2                       0.672   32        1  \n",
       "3                       0.167   21        0  \n",
       "4                       2.288   33        1  \n",
       "..                        ...  ...      ...  \n",
       "763                     0.171   63        0  \n",
       "764                     0.340   27        0  \n",
       "765                     0.245   30        0  \n",
       "766                     0.349   47        1  \n",
       "767                     0.315   23        0  \n",
       "\n",
       "[768 rows x 9 columns]"
      ]
     },
     "execution_count": 3,
     "metadata": {},
     "output_type": "execute_result"
    }
   ],
   "source": [
    "import seaborn\n",
    "diabetes"
   ]
  },
  {
   "cell_type": "code",
   "execution_count": 4,
   "id": "9fb41ecc-a2f7-4913-94ef-95b8a930585c",
   "metadata": {},
   "outputs": [
    {
     "data": {
      "text/plain": [
       "<seaborn.axisgrid.FacetGrid at 0x2031f045f70>"
      ]
     },
     "execution_count": 4,
     "metadata": {},
     "output_type": "execute_result"
    },
    {
     "data": {
      "image/png": "[encoded data removed]",
      "text/plain": [
       "<Figure size 413.25x360 with 1 Axes>"
      ]
     },
     "metadata": {
      "needs_background": "light"
     },
     "output_type": "display_data"
    }
   ],
   "source": [
    "seaborn.displot(data=diabetes, x='Glucose', kind='kde', hue='Outcome')"
   ]
  },
  {
   "cell_type": "code",
   "execution_count": 5,
   "id": "b2316ff1-82e1-4600-8b5c-cf41bfab4a48",
   "metadata": {},
   "outputs": [
    {
     "data": {
      "text/plain": [
       "<seaborn.axisgrid.FacetGrid at 0x2031f010f10>"
      ]
     },
     "execution_count": 5,
     "metadata": {},
     "output_type": "execute_result"
    },
    {
     "data": {
      "image/png": "[encoded data removed]",
      "text/plain": [
       "<Figure size 413.25x360 with 1 Axes>"
      ]
     },
     "metadata": {
      "needs_background": "light"
     },
     "output_type": "display_data"
    }
   ],
   "source": [
    "seaborn.displot(data=diabetes, x='BMI', kind='kde', hue='Outcome')"
   ]
  },
  {
   "cell_type": "code",
   "execution_count": 4,
   "id": "58eb8bb7-35b5-422d-8bba-9211d91b9bd9",
   "metadata": {},
   "outputs": [],
   "source": [
    "model = SVC(kernel='linear')"
   ]
  },
  {
   "cell_type": "code",
   "execution_count": 8,
   "id": "af9ea62f-c552-4112-bfd0-efd1a4c21e53",
   "metadata": {},
   "outputs": [],
   "source": [
    "y=diabetes['Outcome']\n",
    "X=diabetes.drop(columns=['Outcome'])\n"
   ]
  },
  {
   "cell_type": "code",
   "execution_count": 6,
   "id": "c6a5c4a6",
   "metadata": {},
   "outputs": [],
   "source": [
    "from sklearn.svm import LinearSVC\n",
    "\n",
    "svc = LinearSVC(dual = False)"
   ]
  },
  {
   "cell_type": "code",
   "execution_count": 9,
   "id": "b3bae308-3c8b-401a-b1db-18ea7c3c9c16",
   "metadata": {},
   "outputs": [
    {
     "name": "stdout",
     "output_type": "stream",
     "text": [
      "Model LinearSVC(dual=False)\n",
      "\tAccuracy: 0.77 0.05\n"
     ]
    }
   ],
   "source": [
    "assess_performance(svc, X, y)"
   ]
  },
  {
   "cell_type": "code",
   "execution_count": 23,
   "id": "50239482-c5c1-46d6-8fbe-1db46c22e8ac",
   "metadata": {},
   "outputs": [
    {
     "data": {
      "text/plain": [
       "3"
      ]
     },
     "execution_count": 23,
     "metadata": {},
     "output_type": "execute_result"
    }
   ],
   "source": [
    "1+2"
   ]
  },
  {
   "cell_type": "code",
   "execution_count": 24,
   "id": "f41f9da9-a4cc-4968-b45e-debd4e059e01",
   "metadata": {},
   "outputs": [
    {
     "data": {
      "text/plain": [
       "SVC(kernel='linear')"
      ]
     },
     "execution_count": 24,
     "metadata": {},
     "output_type": "execute_result"
    }
   ],
   "source": [
    "model.fit(X,y)"
   ]
  },
  {
   "cell_type": "code",
   "execution_count": 25,
   "id": "d9cc3dab-f262-4bcc-bb70-e8d74090bc21",
   "metadata": {},
   "outputs": [
    {
     "data": {
      "text/plain": [
       "array([[ 9.14692398e-02,  3.00467168e-02, -1.09051239e-02,\n",
       "        -4.81652166e-03, -4.21253324e-04,  7.33928948e-02,\n",
       "         7.15054906e-01,  7.26041287e-03]])"
      ]
     },
     "execution_count": 25,
     "metadata": {},
     "output_type": "execute_result"
    }
   ],
   "source": [
    "model.coef_"
   ]
  },
  {
   "cell_type": "code",
   "execution_count": 26,
   "id": "a8b21dff-a556-4671-83a0-c5622a2fc5d0",
   "metadata": {},
   "outputs": [
    {
     "data": {
      "text/plain": [
       "array([-6.74051604])"
      ]
     },
     "execution_count": 26,
     "metadata": {},
     "output_type": "execute_result"
    }
   ],
   "source": [
    "model.intercept_"
   ]
  },
  {
   "cell_type": "code",
   "execution_count": 27,
   "id": "a56c487c-006b-4cc4-ae65-0f921720c335",
   "metadata": {},
   "outputs": [
    {
     "data": {
      "text/plain": [
       "Index(['Pregnancies', 'Glucose', 'BloodPressure', 'SkinThickness', 'Insulin',\n",
       "       'BMI', 'DiabetesPedigreeFunction', 'Age'],\n",
       "      dtype='object')"
      ]
     },
     "execution_count": 27,
     "metadata": {},
     "output_type": "execute_result"
    }
   ],
   "source": [
    "X.columns"
   ]
  },
  {
   "cell_type": "code",
   "execution_count": 32,
   "id": "684fc388-54a9-4ad8-8f97-f418192e7cee",
   "metadata": {},
   "outputs": [
    {
     "data": {
      "text/plain": [
       "[(-0.010905123865086352, 'BloodPressure'),\n",
       " (-0.004816521660359285, 'SkinThickness'),\n",
       " (-0.00042125332402065396, 'Insulin'),\n",
       " (0.0072604128722559835, 'Age'),\n",
       " (0.030046716799915885, 'Glucose'),\n",
       " (0.07339289483888933, 'BMI'),\n",
       " (0.09146923980409838, 'Pregnancies'),\n",
       " (0.71505490578636, 'DiabetesPedigreeFunction')]"
      ]
     },
     "execution_count": 32,
     "metadata": {},
     "output_type": "execute_result"
    }
   ],
   "source": [
    "sorted(list(zip(model.coef_[0], list(X.columns))))"
   ]
  },
  {
   "cell_type": "code",
   "execution_count": null,
   "id": "049111d5-a8f7-4a0c-a0a4-ae0d245cdcd4",
   "metadata": {},
   "outputs": [],
   "source": []
  }
 ],
 "metadata": {
  "kernelspec": {
   "display_name": "Python 3",
   "language": "python",
   "name": "python3"
  },
  "language_info": {
   "codemirror_mode": {
    "name": "ipython",
    "version": 3
   },
   "file_extension": ".py",
   "mimetype": "text/x-python",
   "name": "python",
   "nbconvert_exporter": "python",
   "pygments_lexer": "ipython3",
   "version": "3.8.8"
  }
 },
 "nbformat": 4,
 "nbformat_minor": 5
}
