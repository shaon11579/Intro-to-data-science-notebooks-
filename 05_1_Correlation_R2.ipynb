{
 "cells": [
  {
   "cell_type": "markdown",
   "id": "904cd51c",
   "metadata": {},
   "source": [
    "# Understanding Correlations and R2"
   ]
  },
  {
   "cell_type": "markdown",
   "id": "a360a45e",
   "metadata": {},
   "source": [
    "* Mean, standard deviation and variance:\n",
    "    * $\\mu_x = {\\sum_{i=1}^n x_i \\over n} = \\sum_i x_i * {1 \\over n}$\n",
    "    * $\\sigma^2 = {\\sum_i (x_i - \\mu_x)^2 \\over (n-1)}$\n",
    "\n",
    "\n",
    "\n",
    "* Expected value: $E[ Z ] = \\sum_i z_i * P(z_i)$"
   ]
  },
  {
   "cell_type": "markdown",
   "id": "4ce06513",
   "metadata": {},
   "source": [
    "The variance tells us how different the data is from the mean."
   ]
  },
  {
   "cell_type": "markdown",
   "id": "c283b5e2",
   "metadata": {},
   "source": [
    "\n",
    "* Cosine similarity\n",
    "    * $cos(\\theta) = {A \\cdot B \\over ||A|| * ||B||} = {\\sum_i A_i B_i \\over \\sqrt{\\sum_i A_i^2} \\sqrt{\\sum_i B_i^2}}$\n",
    "\n",
    "<img src=\"https://www.oreilly.com/library/view/statistics-for-machine/9781788295758/assets/2b4a7a82-ad4c-4b2a-b808-e423a334de6f.png\">\n",
    "\n",
    "<img src=\"https://www.open.edu/openlearn/ocw/pluginfile.php/947914/mod_oucontent/oucontent/48949/9eaffc43/9f8315d5/mfs_w4_fig4.jpg\">"
   ]
  },
  {
   "cell_type": "markdown",
   "id": "5d017596",
   "metadata": {},
   "source": [
    "### Pearson correlation"
   ]
  },
  {
   "cell_type": "markdown",
   "id": "c26d5594",
   "metadata": {},
   "source": [
    "Population correlation\n",
    "\n",
    "${ E[ (X-\\mu_x) \\cdot (Y-\\mu_y) ] \\over  (\\sigma_x * \\sigma_y)}$\n"
   ]
  },
  {
   "cell_type": "markdown",
   "id": "8200a37c",
   "metadata": {},
   "source": [
    "Sample correlation\n",
    "\n",
    "$r = {\\sum_i (x_i - \\mu_x)(y_i - \\mu_y) \\over \\sqrt{\\sum (x_i-\\mu_x)^2}  \\sqrt{\\sum (y_i-\\mu_y)^2} }$\n",
    " \n",
    "$cos(\\theta)$, where $\\theta$ is defined by $X-\\mu_x$ and $Y-\\mu_y$."
   ]
  },
  {
   "cell_type": "code",
   "execution_count": 1,
   "id": "3f2ea57c",
   "metadata": {},
   "outputs": [
    {
     "data": {
      "text/html": [
       "<div>\n",
       "<style scoped>\n",
       "    .dataframe tbody tr th:only-of-type {\n",
       "        vertical-align: middle;\n",
       "    }\n",
       "\n",
       "    .dataframe tbody tr th {\n",
       "        vertical-align: top;\n",
       "    }\n",
       "\n",
       "    .dataframe thead th {\n",
       "        text-align: right;\n",
       "    }\n",
       "</style>\n",
       "<table border=\"1\" class=\"dataframe\">\n",
       "  <thead>\n",
       "    <tr style=\"text-align: right;\">\n",
       "      <th></th>\n",
       "      <th>SepalLength</th>\n",
       "      <th>SepalWidth</th>\n",
       "      <th>PetalLength</th>\n",
       "      <th>PetalWidth</th>\n",
       "      <th>Species</th>\n",
       "    </tr>\n",
       "  </thead>\n",
       "  <tbody>\n",
       "    <tr>\n",
       "      <th>0</th>\n",
       "      <td>5.1</td>\n",
       "      <td>3.5</td>\n",
       "      <td>1.4</td>\n",
       "      <td>0.2</td>\n",
       "      <td>setosa</td>\n",
       "    </tr>\n",
       "    <tr>\n",
       "      <th>1</th>\n",
       "      <td>4.9</td>\n",
       "      <td>3.0</td>\n",
       "      <td>1.4</td>\n",
       "      <td>0.2</td>\n",
       "      <td>setosa</td>\n",
       "    </tr>\n",
       "    <tr>\n",
       "      <th>2</th>\n",
       "      <td>4.7</td>\n",
       "      <td>3.2</td>\n",
       "      <td>1.3</td>\n",
       "      <td>0.2</td>\n",
       "      <td>setosa</td>\n",
       "    </tr>\n",
       "    <tr>\n",
       "      <th>3</th>\n",
       "      <td>4.6</td>\n",
       "      <td>3.1</td>\n",
       "      <td>1.5</td>\n",
       "      <td>0.2</td>\n",
       "      <td>setosa</td>\n",
       "    </tr>\n",
       "    <tr>\n",
       "      <th>4</th>\n",
       "      <td>5.0</td>\n",
       "      <td>3.6</td>\n",
       "      <td>1.4</td>\n",
       "      <td>0.2</td>\n",
       "      <td>setosa</td>\n",
       "    </tr>\n",
       "  </tbody>\n",
       "</table>\n",
       "</div>"
      ],
      "text/plain": [
       "   SepalLength  SepalWidth  PetalLength  PetalWidth Species\n",
       "0          5.1         3.5          1.4         0.2  setosa\n",
       "1          4.9         3.0          1.4         0.2  setosa\n",
       "2          4.7         3.2          1.3         0.2  setosa\n",
       "3          4.6         3.1          1.5         0.2  setosa\n",
       "4          5.0         3.6          1.4         0.2  setosa"
      ]
     },
     "execution_count": 1,
     "metadata": {},
     "output_type": "execute_result"
    }
   ],
   "source": [
    "import pandas\n",
    "iris = pandas.read_csv('../Datasets/iris.csv')\n",
    "iris.head()"
   ]
  },
  {
   "cell_type": "markdown",
   "id": "1f616719",
   "metadata": {},
   "source": [
    "### R-squared"
   ]
  },
  {
   "cell_type": "markdown",
   "id": "df86099c",
   "metadata": {},
   "source": [
    "The context is modeling.  We model X to predict y.\n"
   ]
  },
  {
   "cell_type": "code",
   "execution_count": 5,
   "id": "082a95cd",
   "metadata": {},
   "outputs": [
    {
     "name": "stdout",
     "output_type": "stream",
     "text": [
      "0.9271098389904927\n"
     ]
    }
   ],
   "source": [
    "from sklearn.linear_model import LinearRegression\n",
    "X = iris[['PetalWidth']]\n",
    "y = iris['PetalLength']\n",
    "model = LinearRegression()\n",
    "model.fit(X,y)\n",
    "print(model.score(X,y))"
   ]
  },
  {
   "cell_type": "markdown",
   "id": "504aa3fe",
   "metadata": {},
   "source": [
    "$R^2 = 1 - {\\sum_i (y_i-f_i)^2 \\over \\sum_i (y_i - \\mu_y)^2} = {\\sum_i (y_i - \\mu_y)^2 - \\sum_i (y_i-f_i)^2 \\over \\sum_i (y_i - \\mu_y)^2}$"
   ]
  },
  {
   "cell_type": "markdown",
   "id": "9dd93dbb",
   "metadata": {},
   "source": [
    "$R^2 = {\\sum_i (y_i - \\mu_y)^2 - (y_i-f_i)^2 \\over \\sum_i (y_i - \\mu_y)^2}$"
   ]
  },
  {
   "cell_type": "markdown",
   "id": "e64c585a",
   "metadata": {},
   "source": [
    "$y_i$ and $\\mu_y$\n",
    "\n",
    "$f_i = f(x_i)$.   How close is $f_i = f(x_i)$ to $y_i$?\n",
    "\n",
    "baseline predictor\n"
   ]
  },
  {
   "cell_type": "markdown",
   "id": "421d2f07",
   "metadata": {},
   "source": [
    "$f$ is a predictor.  $f_i$ is the predicted value of $y_i$.\n"
   ]
  },
  {
   "cell_type": "markdown",
   "id": "53d74ca3",
   "metadata": {},
   "source": [
    "**The simplest model is making the mean to be the prediction.**\n",
    "\n",
    "R-squared compares the model $f$ to a naive/baseline model that makes the mean of $y$ to be its prediction."
   ]
  },
  {
   "cell_type": "markdown",
   "id": "1fb9d8c2",
   "metadata": {},
   "source": []
  }
 ],
 "metadata": {
  "kernelspec": {
   "display_name": "Python 3",
   "language": "python",
   "name": "python3"
  },
  "language_info": {
   "codemirror_mode": {
    "name": "ipython",
    "version": 3
   },
   "file_extension": ".py",
   "mimetype": "text/x-python",
   "name": "python",
   "nbconvert_exporter": "python",
   "pygments_lexer": "ipython3",
   "version": "3.8.8"
  }
 },
 "nbformat": 4,
 "nbformat_minor": 5
}
