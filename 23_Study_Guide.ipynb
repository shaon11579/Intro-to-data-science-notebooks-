{
 "cells": [
  {
   "cell_type": "markdown",
   "id": "69518d1d-47b3-45a4-8d64-fcb5f0620343",
   "metadata": {},
   "source": [
    "# Study Guide for the Final Exam\n",
    "\n",
    "The exam will be on Thursday December 9, 2021 from 10:30AM to 12:30PM.\n",
    "\n",
    "If you need special arrangments, please follow up with me."
   ]
  },
  {
   "cell_type": "markdown",
   "id": "72859e52-1169-4c71-a8a1-41b9e9a194d3",
   "metadata": {},
   "source": [
    "+ Bring your laptop.  You'll download the exam (Jupyter notebook); work on it and submit it to eLearn.\n",
    "+ You may view lecture notes, assingment solutions, https://pandas.pydata.org, https://scikit-learn.org, https://seaborn.pydata.org.\n",
    "+ You may not access other resources (people, documents, etc.)\n",
    "+ You should earn +80 points if you understand/have the fundamental concepts/skills.\n"
   ]
  },
  {
   "cell_type": "markdown",
   "id": "e49e8b96-590e-4277-9f48-57933f60ea86",
   "metadata": {},
   "source": [
    "#### Things you are expected to be able to do:\n",
    "\n",
    "+ Manipulate dataframes and series.  Review assignments, project parts 1, 2, 3, 4, and the midterm.\n",
    "    + value_counts, groupby, boolean selection, etc.\n",
    "    + grouping using an aggregate, and selecting using another aggregate.\n",
    "+ Know how to use seaborn's relplot, displot, and catplot.\n",
    "+ Know how to use classification methods such as decision tree, random forest, knearest neigbhor, logistic regression.\n",
    "+ Cross validate models.  Understand accuracy, balanced accuracy, precision, recall.\n",
    "+ Determine feature importance and select features.\n",
    "    * Plot decision trees using sklearn's plot_tree\n",
    "+ Know how to extract features with PCA and NMF."
   ]
  },
  {
   "cell_type": "code",
   "execution_count": null,
   "id": "a83d5735-054d-4362-baf4-dcccca802038",
   "metadata": {},
   "outputs": [],
   "source": []
  }
 ],
 "metadata": {
  "kernelspec": {
   "display_name": "Python 3",
   "language": "python",
   "name": "python3"
  },
  "language_info": {
   "codemirror_mode": {
    "name": "ipython",
    "version": 3
   },
   "file_extension": ".py",
   "mimetype": "text/x-python",
   "name": "python",
   "nbconvert_exporter": "python",
   "pygments_lexer": "ipython3",
   "version": "3.8.8"
  }
 },
 "nbformat": 4,
 "nbformat_minor": 5
}
